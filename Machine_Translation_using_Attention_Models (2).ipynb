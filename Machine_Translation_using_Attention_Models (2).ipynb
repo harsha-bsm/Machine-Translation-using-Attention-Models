{
  "nbformat": 4,
  "nbformat_minor": 0,
  "metadata": {
    "accelerator": "GPU",
    "colab": {
      "name": "Machine_Translation_using_Attention_Models.ipynb",
      "provenance": [],
      "collapsed_sections": [],
      "machine_shape": "hm"
    },
    "kernelspec": {
      "display_name": "Python 3",
      "name": "python3"
    }
  },
  "cells": [
    {
      "cell_type": "markdown",
      "metadata": {
        "id": "view-in-github"
      },
      "source": [
        "<a href=\"https://colab.research.google.com/github/harsha-bsm/Deeplearning-/blob/main/Sample_MT_using_Encoder_Decoder_ArchitectureV2.ipynb\" target=\"_parent\"><img src=\"https://colab.research.google.com/assets/colab-badge.svg\" alt=\"Open In Colab\"/></a>"
      ]
    },
    {
      "cell_type": "markdown",
      "metadata": {
        "id": "xQp1RU0Qf58n"
      },
      "source": [
        "#Encoder Decoder Architecture"
      ]
    },
    {
      "cell_type": "code",
      "metadata": {
        "colab": {
          "base_uri": "https://localhost:8080/"
        },
        "id": "R5HcLgUZbhea",
        "outputId": "8522c2f8-aee1-4720-9b67-2707e4ae7c60"
      },
      "source": [
        "%tensorflow_version 2.x\n",
        "import tensorflow as tf\n",
        "device_name = tf.test.gpu_device_name()\n",
        "if device_name != '/device:GPU:0':\n",
        "  raise SystemError('GPU device not found')\n",
        "print('Found GPU at: {}'.format(device_name))"
      ],
      "execution_count": 1,
      "outputs": [
        {
          "output_type": "stream",
          "text": [
            "Found GPU at: /device:GPU:0\n"
          ],
          "name": "stdout"
        }
      ]
    },
    {
      "cell_type": "code",
      "metadata": {
        "colab": {
          "base_uri": "https://localhost:8080/"
        },
        "id": "fU80Ao-AGaob",
        "outputId": "dbdf6c86-97e1-4f3f-b7d5-badd065e47c1"
      },
      "source": [
        "!wget http://www.manythings.org/anki/ita-eng.zip\n",
        "!unzip ita-eng.zip"
      ],
      "execution_count": 2,
      "outputs": [
        {
          "output_type": "stream",
          "text": [
            "--2020-12-14 13:21:26--  http://www.manythings.org/anki/ita-eng.zip\n",
            "Resolving www.manythings.org (www.manythings.org)... 172.67.173.198, 104.24.109.196, 104.24.108.196, ...\n",
            "Connecting to www.manythings.org (www.manythings.org)|172.67.173.198|:80... connected.\n",
            "HTTP request sent, awaiting response... 200 OK\n",
            "Length: 7521114 (7.2M) [application/zip]\n",
            "Saving to: ‘ita-eng.zip’\n",
            "\n",
            "ita-eng.zip         100%[===================>]   7.17M  18.9MB/s    in 0.4s    \n",
            "\n",
            "2020-12-14 13:21:27 (18.9 MB/s) - ‘ita-eng.zip’ saved [7521114/7521114]\n",
            "\n",
            "Archive:  ita-eng.zip\n",
            "  inflating: ita.txt                 \n",
            "  inflating: _about.txt              \n"
          ],
          "name": "stdout"
        }
      ]
    },
    {
      "cell_type": "code",
      "metadata": {
        "colab": {
          "base_uri": "https://localhost:8080/"
        },
        "id": "G6aDMnsP89VN",
        "outputId": "38d6753f-c1f0-43b1-d13e-8ce150d7c881"
      },
      "source": [
        "!wget https://www.dropbox.com/s/ddkmtqz01jc024u/glove.6B.100d.txt"
      ],
      "execution_count": 3,
      "outputs": [
        {
          "output_type": "stream",
          "text": [
            "--2020-12-14 13:21:34--  https://www.dropbox.com/s/ddkmtqz01jc024u/glove.6B.100d.txt\n",
            "Resolving www.dropbox.com (www.dropbox.com)... 162.125.5.18, 2620:100:601d:18::a27d:512\n",
            "Connecting to www.dropbox.com (www.dropbox.com)|162.125.5.18|:443... connected.\n",
            "HTTP request sent, awaiting response... 301 Moved Permanently\n",
            "Location: /s/raw/ddkmtqz01jc024u/glove.6B.100d.txt [following]\n",
            "--2020-12-14 13:21:35--  https://www.dropbox.com/s/raw/ddkmtqz01jc024u/glove.6B.100d.txt\n",
            "Reusing existing connection to www.dropbox.com:443.\n",
            "HTTP request sent, awaiting response... 302 Found\n",
            "Location: https://uc34a44b976691c57df8436ef9b3.dl.dropboxusercontent.com/cd/0/inline/BFCsiRvKZey4a1TPzamT1AHuhzwDES7FxOOyZ67j4JerjsrRJyWuNwbujo8ogU2wwpLspgWY08f-SD3cgOCf1pXZ2VtrBrWypKta12vfzB2CE4jVFn6hIuACwmArtdGzfFE/file# [following]\n",
            "--2020-12-14 13:21:35--  https://uc34a44b976691c57df8436ef9b3.dl.dropboxusercontent.com/cd/0/inline/BFCsiRvKZey4a1TPzamT1AHuhzwDES7FxOOyZ67j4JerjsrRJyWuNwbujo8ogU2wwpLspgWY08f-SD3cgOCf1pXZ2VtrBrWypKta12vfzB2CE4jVFn6hIuACwmArtdGzfFE/file\n",
            "Resolving uc34a44b976691c57df8436ef9b3.dl.dropboxusercontent.com (uc34a44b976691c57df8436ef9b3.dl.dropboxusercontent.com)... 162.125.5.15, 2620:100:601d:15::a27d:50f\n",
            "Connecting to uc34a44b976691c57df8436ef9b3.dl.dropboxusercontent.com (uc34a44b976691c57df8436ef9b3.dl.dropboxusercontent.com)|162.125.5.15|:443... connected.\n",
            "HTTP request sent, awaiting response... 200 OK\n",
            "Length: 347116733 (331M) [text/plain]\n",
            "Saving to: ‘glove.6B.100d.txt’\n",
            "\n",
            "glove.6B.100d.txt   100%[===================>] 331.04M  67.8MB/s    in 5.4s    \n",
            "\n",
            "2020-12-14 13:21:41 (61.7 MB/s) - ‘glove.6B.100d.txt’ saved [347116733/347116733]\n",
            "\n"
          ],
          "name": "stdout"
        }
      ]
    },
    {
      "cell_type": "markdown",
      "metadata": {
        "id": "vmGWTdRmKRph"
      },
      "source": [
        "### <font color='blue'>**Loading data**</font>"
      ]
    },
    {
      "cell_type": "code",
      "metadata": {
        "id": "6KHw1l6QREOD"
      },
      "source": [
        "import matplotlib.pyplot as plt\n",
        "%matplotlib inline\n",
        "# import seaborn as sns\n",
        "import pandas as pd\n",
        "import re\n",
        "import tensorflow as tf\n",
        "from tensorflow.keras.layers import Embedding, LSTM, Dense,Concatenate,TimeDistributed,Masking,GRU\n",
        "from tensorflow.keras.models import Model\n",
        "from tensorflow.keras.preprocessing.text import Tokenizer\n",
        "from tensorflow.keras.preprocessing.sequence import pad_sequences\n",
        "\n",
        "import numpy as np"
      ],
      "execution_count": 4,
      "outputs": []
    },
    {
      "cell_type": "code",
      "metadata": {
        "colab": {
          "base_uri": "https://localhost:8080/",
          "height": 221
        },
        "id": "9QqElB_nKZos",
        "outputId": "cf18a271-510d-4cc0-c051-d50454fd355c"
      },
      "source": [
        "with open('ita.txt', 'r', encoding=\"utf8\") as f:\n",
        "    eng=[]\n",
        "    ita=[]\n",
        "    for i in f.readlines():\n",
        "        eng.append(i.split(\"\\t\")[0])\n",
        "        ita.append(i.split(\"\\t\")[1])\n",
        "data = pd.DataFrame(data=list(zip(eng, ita)), columns=['english','italian'])\n",
        "print(data.shape)\n",
        "data.head()"
      ],
      "execution_count": 5,
      "outputs": [
        {
          "output_type": "stream",
          "text": [
            "(343813, 2)\n"
          ],
          "name": "stdout"
        },
        {
          "output_type": "execute_result",
          "data": {
            "text/html": [
              "<div>\n",
              "<style scoped>\n",
              "    .dataframe tbody tr th:only-of-type {\n",
              "        vertical-align: middle;\n",
              "    }\n",
              "\n",
              "    .dataframe tbody tr th {\n",
              "        vertical-align: top;\n",
              "    }\n",
              "\n",
              "    .dataframe thead th {\n",
              "        text-align: right;\n",
              "    }\n",
              "</style>\n",
              "<table border=\"1\" class=\"dataframe\">\n",
              "  <thead>\n",
              "    <tr style=\"text-align: right;\">\n",
              "      <th></th>\n",
              "      <th>english</th>\n",
              "      <th>italian</th>\n",
              "    </tr>\n",
              "  </thead>\n",
              "  <tbody>\n",
              "    <tr>\n",
              "      <th>0</th>\n",
              "      <td>Hi.</td>\n",
              "      <td>Ciao!</td>\n",
              "    </tr>\n",
              "    <tr>\n",
              "      <th>1</th>\n",
              "      <td>Run!</td>\n",
              "      <td>Corri!</td>\n",
              "    </tr>\n",
              "    <tr>\n",
              "      <th>2</th>\n",
              "      <td>Run!</td>\n",
              "      <td>Corra!</td>\n",
              "    </tr>\n",
              "    <tr>\n",
              "      <th>3</th>\n",
              "      <td>Run!</td>\n",
              "      <td>Correte!</td>\n",
              "    </tr>\n",
              "    <tr>\n",
              "      <th>4</th>\n",
              "      <td>Who?</td>\n",
              "      <td>Chi?</td>\n",
              "    </tr>\n",
              "  </tbody>\n",
              "</table>\n",
              "</div>"
            ],
            "text/plain": [
              "  english   italian\n",
              "0     Hi.     Ciao!\n",
              "1    Run!    Corri!\n",
              "2    Run!    Corra!\n",
              "3    Run!  Correte!\n",
              "4    Who?      Chi?"
            ]
          },
          "metadata": {
            "tags": []
          },
          "execution_count": 5
        }
      ]
    },
    {
      "cell_type": "code",
      "metadata": {
        "colab": {
          "base_uri": "https://localhost:8080/",
          "height": 204
        },
        "id": "XnDyE0ljbYor",
        "outputId": "612c5620-4849-4367-f8e0-4f3720010944"
      },
      "source": [
        "def decontractions(phrase):\n",
        "    # ref: https://stackoverflow.com/questions/19790188/expanding-english-language-contractions-in-python/47091490#47091490\"\"\"\n",
        "    # specific\n",
        "    phrase = re.sub(r\"won\\'t\", \"will not\", phrase)\n",
        "    phrase = re.sub(r\"can\\'t\", \"can not\", phrase)\n",
        "    phrase = re.sub(r\"won\\’t\", \"will not\", phrase)\n",
        "    phrase = re.sub(r\"can\\’t\", \"can not\", phrase)\n",
        "\n",
        "    # general\n",
        "    phrase = re.sub(r\"n\\'t\", \" not\", phrase)\n",
        "    phrase = re.sub(r\"\\'re\", \" are\", phrase)\n",
        "    phrase = re.sub(r\"\\'s\", \" is\", phrase)\n",
        "    phrase = re.sub(r\"\\'d\", \" would\", phrase)\n",
        "    phrase = re.sub(r\"\\'ll\", \" will\", phrase)\n",
        "    phrase = re.sub(r\"\\'t\", \" not\", phrase)\n",
        "    phrase = re.sub(r\"\\'ve\", \" have\", phrase)\n",
        "    phrase = re.sub(r\"\\'m\", \" am\", phrase)\n",
        "\n",
        "    phrase = re.sub(r\"n\\’t\", \" not\", phrase)\n",
        "    phrase = re.sub(r\"\\’re\", \" are\", phrase)\n",
        "    phrase = re.sub(r\"\\’s\", \" is\", phrase)\n",
        "    phrase = re.sub(r\"\\’d\", \" would\", phrase)\n",
        "    phrase = re.sub(r\"\\’ll\", \" will\", phrase)\n",
        "    \n",
        "    phrase = re.sub(r\"\\’ve\", \" have\", phrase)\n",
        "    phrase = re.sub(r\"\\’m\", \" am\", phrase)\n",
        "\n",
        "    return phrase\n",
        "\n",
        "def preprocess(text):\n",
        "\n",
        "    text = text.lower()\n",
        "    text = decontractions(text)\n",
        "    text = re.sub('[^A-Za-z0-9 ]+', '', text)\n",
        "    return text\n",
        "\n",
        "def preprocess_ita(text):\n",
        "\n",
        "    \n",
        "    text = text.lower()\n",
        "    text = decontractions(text)\n",
        "    text = re.sub('[$)\\?\"’.°!;\\'€%:,(/]', '', text)\n",
        "    text = re.sub('\\u200b', ' ', text)\n",
        "    text = re.sub('\\xa0', ' ', text)\n",
        "    text = re.sub('-', ' ', text)\n",
        "    return text\n",
        "\n",
        "\n",
        "data['english'] = data['english'].apply(preprocess)\n",
        "data['italian'] = data['italian'].apply(preprocess_ita)\n",
        "data.head()"
      ],
      "execution_count": 6,
      "outputs": [
        {
          "output_type": "execute_result",
          "data": {
            "text/html": [
              "<div>\n",
              "<style scoped>\n",
              "    .dataframe tbody tr th:only-of-type {\n",
              "        vertical-align: middle;\n",
              "    }\n",
              "\n",
              "    .dataframe tbody tr th {\n",
              "        vertical-align: top;\n",
              "    }\n",
              "\n",
              "    .dataframe thead th {\n",
              "        text-align: right;\n",
              "    }\n",
              "</style>\n",
              "<table border=\"1\" class=\"dataframe\">\n",
              "  <thead>\n",
              "    <tr style=\"text-align: right;\">\n",
              "      <th></th>\n",
              "      <th>english</th>\n",
              "      <th>italian</th>\n",
              "    </tr>\n",
              "  </thead>\n",
              "  <tbody>\n",
              "    <tr>\n",
              "      <th>0</th>\n",
              "      <td>hi</td>\n",
              "      <td>ciao</td>\n",
              "    </tr>\n",
              "    <tr>\n",
              "      <th>1</th>\n",
              "      <td>run</td>\n",
              "      <td>corri</td>\n",
              "    </tr>\n",
              "    <tr>\n",
              "      <th>2</th>\n",
              "      <td>run</td>\n",
              "      <td>corra</td>\n",
              "    </tr>\n",
              "    <tr>\n",
              "      <th>3</th>\n",
              "      <td>run</td>\n",
              "      <td>correte</td>\n",
              "    </tr>\n",
              "    <tr>\n",
              "      <th>4</th>\n",
              "      <td>who</td>\n",
              "      <td>chi</td>\n",
              "    </tr>\n",
              "  </tbody>\n",
              "</table>\n",
              "</div>"
            ],
            "text/plain": [
              "  english  italian\n",
              "0      hi     ciao\n",
              "1     run    corri\n",
              "2     run    corra\n",
              "3     run  correte\n",
              "4     who      chi"
            ]
          },
          "metadata": {
            "tags": []
          },
          "execution_count": 6
        }
      ]
    },
    {
      "cell_type": "code",
      "metadata": {
        "id": "IypVGvYKREOL",
        "scrolled": true
      },
      "source": [
        "ita_lengths = data['italian'].str.split().apply(len)\n",
        "eng_lengths = data['english'].str.split().apply(len)"
      ],
      "execution_count": 7,
      "outputs": []
    },
    {
      "cell_type": "code",
      "metadata": {
        "colab": {
          "base_uri": "https://localhost:8080/"
        },
        "id": "YOWJ9c5jREON",
        "outputId": "26cfb61b-0b45-4f2a-f264-bfcd4a70dc93"
      },
      "source": [
        "for i in range(0,101,10):\n",
        "    print(i,np.percentile(ita_lengths, i))\n",
        "for i in range(90,101):\n",
        "    print(i,np.percentile(ita_lengths, i))\n",
        "for i in [99.1,99.2,99.3,99.4,99.5,99.6,99.7,99.8,99.9,100]:\n",
        "    print(i,np.percentile(ita_lengths, i))"
      ],
      "execution_count": 8,
      "outputs": [
        {
          "output_type": "stream",
          "text": [
            "0 1.0\n",
            "10 3.0\n",
            "20 4.0\n",
            "30 4.0\n",
            "40 5.0\n",
            "50 5.0\n",
            "60 6.0\n",
            "70 6.0\n",
            "80 7.0\n",
            "90 8.0\n",
            "100 92.0\n",
            "90 8.0\n",
            "91 8.0\n",
            "92 8.0\n",
            "93 9.0\n",
            "94 9.0\n",
            "95 9.0\n",
            "96 10.0\n",
            "97 10.0\n",
            "98 11.0\n",
            "99 12.0\n",
            "100 92.0\n",
            "99.1 12.0\n",
            "99.2 12.0\n",
            "99.3 13.0\n",
            "99.4 13.0\n",
            "99.5 13.0\n",
            "99.6 14.0\n",
            "99.7 15.0\n",
            "99.8 16.0\n",
            "99.9 20.0\n",
            "100 92.0\n"
          ],
          "name": "stdout"
        }
      ]
    },
    {
      "cell_type": "code",
      "metadata": {
        "colab": {
          "base_uri": "https://localhost:8080/"
        },
        "id": "pGCOWtN1REOP",
        "outputId": "272c6621-4b99-4162-b742-bf4bd1541b78"
      },
      "source": [
        "for i in range(0,101,10):\n",
        "    print(i,np.percentile(eng_lengths, i))\n",
        "for i in range(90,101):\n",
        "    print(i,np.percentile(eng_lengths, i))\n",
        "for i in [99.1,99.2,99.3,99.4,99.5,99.6,99.7,99.8,99.9,100]:\n",
        "    print(i,np.percentile(eng_lengths, i))"
      ],
      "execution_count": 9,
      "outputs": [
        {
          "output_type": "stream",
          "text": [
            "0 1.0\n",
            "10 4.0\n",
            "20 4.0\n",
            "30 5.0\n",
            "40 5.0\n",
            "50 6.0\n",
            "60 6.0\n",
            "70 7.0\n",
            "80 7.0\n",
            "90 8.0\n",
            "100 101.0\n",
            "90 8.0\n",
            "91 9.0\n",
            "92 9.0\n",
            "93 9.0\n",
            "94 9.0\n",
            "95 9.0\n",
            "96 10.0\n",
            "97 10.0\n",
            "98 11.0\n",
            "99 12.0\n",
            "100 101.0\n",
            "99.1 12.0\n",
            "99.2 13.0\n",
            "99.3 13.0\n",
            "99.4 13.0\n",
            "99.5 14.0\n",
            "99.6 14.0\n",
            "99.7 15.0\n",
            "99.8 16.0\n",
            "99.9 21.18800000002375\n",
            "100 101.0\n"
          ],
          "name": "stdout"
        }
      ]
    },
    {
      "cell_type": "markdown",
      "metadata": {
        "id": "u-6pcMyuREOR"
      },
      "source": [
        "> <font color=\"blue\"><b>If you observe the values, 99.9% of the data points are having length &lt; 20, so select the sentences that have words &lt; 20 </b> </font>\n",
        "<br>\n",
        "<br>\n",
        "> <font color=\"green\"><b>Inorder to do the teacher forcing while training of seq-seq models, lets create two new columns, one with  &lt;start&gt; token at begining of the sentence and other column with &lt;end&gt; token at the end of the sequence</b></font>"
      ]
    },
    {
      "cell_type": "code",
      "metadata": {
        "colab": {
          "base_uri": "https://localhost:8080/",
          "height": 204
        },
        "id": "frL1wvLwSz7_",
        "outputId": "1cfddd28-ff96-4f9c-b371-f4194a9f113f"
      },
      "source": [
        "data['italian_len'] = data['italian'].str.split().apply(len)\n",
        "data = data[data['italian_len'] < 20]\n",
        "\n",
        "data['english_len'] = data['english'].str.split().apply(len)\n",
        "data = data[data['english_len'] < 20]\n",
        "\n",
        "data['english_inp'] = '<start> ' + data['english'].astype(str)\n",
        "data['english_out'] = data['english'].astype(str) + ' <end>'\n",
        "\n",
        "data = data.drop(['english','italian_len','english_len'], axis=1)\n",
        "# only for the first sentance add a toke <end> so that we will have <end> in tokenizer\n",
        "data.head()"
      ],
      "execution_count": 10,
      "outputs": [
        {
          "output_type": "execute_result",
          "data": {
            "text/html": [
              "<div>\n",
              "<style scoped>\n",
              "    .dataframe tbody tr th:only-of-type {\n",
              "        vertical-align: middle;\n",
              "    }\n",
              "\n",
              "    .dataframe tbody tr th {\n",
              "        vertical-align: top;\n",
              "    }\n",
              "\n",
              "    .dataframe thead th {\n",
              "        text-align: right;\n",
              "    }\n",
              "</style>\n",
              "<table border=\"1\" class=\"dataframe\">\n",
              "  <thead>\n",
              "    <tr style=\"text-align: right;\">\n",
              "      <th></th>\n",
              "      <th>italian</th>\n",
              "      <th>english_inp</th>\n",
              "      <th>english_out</th>\n",
              "    </tr>\n",
              "  </thead>\n",
              "  <tbody>\n",
              "    <tr>\n",
              "      <th>0</th>\n",
              "      <td>ciao</td>\n",
              "      <td>&lt;start&gt; hi</td>\n",
              "      <td>hi &lt;end&gt;</td>\n",
              "    </tr>\n",
              "    <tr>\n",
              "      <th>1</th>\n",
              "      <td>corri</td>\n",
              "      <td>&lt;start&gt; run</td>\n",
              "      <td>run &lt;end&gt;</td>\n",
              "    </tr>\n",
              "    <tr>\n",
              "      <th>2</th>\n",
              "      <td>corra</td>\n",
              "      <td>&lt;start&gt; run</td>\n",
              "      <td>run &lt;end&gt;</td>\n",
              "    </tr>\n",
              "    <tr>\n",
              "      <th>3</th>\n",
              "      <td>correte</td>\n",
              "      <td>&lt;start&gt; run</td>\n",
              "      <td>run &lt;end&gt;</td>\n",
              "    </tr>\n",
              "    <tr>\n",
              "      <th>4</th>\n",
              "      <td>chi</td>\n",
              "      <td>&lt;start&gt; who</td>\n",
              "      <td>who &lt;end&gt;</td>\n",
              "    </tr>\n",
              "  </tbody>\n",
              "</table>\n",
              "</div>"
            ],
            "text/plain": [
              "   italian  english_inp english_out\n",
              "0     ciao   <start> hi    hi <end>\n",
              "1    corri  <start> run   run <end>\n",
              "2    corra  <start> run   run <end>\n",
              "3  correte  <start> run   run <end>\n",
              "4      chi  <start> who   who <end>"
            ]
          },
          "metadata": {
            "tags": []
          },
          "execution_count": 10
        }
      ]
    },
    {
      "cell_type": "code",
      "metadata": {
        "colab": {
          "base_uri": "https://localhost:8080/",
          "height": 359
        },
        "id": "xZX5xAcmxqPo",
        "outputId": "2d357541-d317-41b4-b186-49db6e3afebb"
      },
      "source": [
        "data.sample(10)"
      ],
      "execution_count": 11,
      "outputs": [
        {
          "output_type": "execute_result",
          "data": {
            "text/html": [
              "<div>\n",
              "<style scoped>\n",
              "    .dataframe tbody tr th:only-of-type {\n",
              "        vertical-align: middle;\n",
              "    }\n",
              "\n",
              "    .dataframe tbody tr th {\n",
              "        vertical-align: top;\n",
              "    }\n",
              "\n",
              "    .dataframe thead th {\n",
              "        text-align: right;\n",
              "    }\n",
              "</style>\n",
              "<table border=\"1\" class=\"dataframe\">\n",
              "  <thead>\n",
              "    <tr style=\"text-align: right;\">\n",
              "      <th></th>\n",
              "      <th>italian</th>\n",
              "      <th>english_inp</th>\n",
              "      <th>english_out</th>\n",
              "    </tr>\n",
              "  </thead>\n",
              "  <tbody>\n",
              "    <tr>\n",
              "      <th>233431</th>\n",
              "      <td>farebbe meglio a non uscire oggi</td>\n",
              "      <td>&lt;start&gt; you would better not go out today</td>\n",
              "      <td>you would better not go out today &lt;end&gt;</td>\n",
              "    </tr>\n",
              "    <tr>\n",
              "      <th>293103</th>\n",
              "      <td>sei preoccupato per il riscaldamento globale</td>\n",
              "      <td>&lt;start&gt; are you worried about global warming</td>\n",
              "      <td>are you worried about global warming &lt;end&gt;</td>\n",
              "    </tr>\n",
              "    <tr>\n",
              "      <th>328706</th>\n",
              "      <td>la germania era alleata con litalia durante la...</td>\n",
              "      <td>&lt;start&gt; germany was allied with italy in world...</td>\n",
              "      <td>germany was allied with italy in world war ii ...</td>\n",
              "    </tr>\n",
              "    <tr>\n",
              "      <th>36518</th>\n",
              "      <td>non mi è mai piaciuto</td>\n",
              "      <td>&lt;start&gt; i never liked it</td>\n",
              "      <td>i never liked it &lt;end&gt;</td>\n",
              "    </tr>\n",
              "    <tr>\n",
              "      <th>110841</th>\n",
              "      <td>che aspetto aveva</td>\n",
              "      <td>&lt;start&gt; what did he look like</td>\n",
              "      <td>what did he look like &lt;end&gt;</td>\n",
              "    </tr>\n",
              "    <tr>\n",
              "      <th>324268</th>\n",
              "      <td>dipinse il quadro che è sul muro</td>\n",
              "      <td>&lt;start&gt; he painted the picture which is on the...</td>\n",
              "      <td>he painted the picture which is on the wall &lt;end&gt;</td>\n",
              "    </tr>\n",
              "    <tr>\n",
              "      <th>264281</th>\n",
              "      <td>ci sono molti problemi da risolvere</td>\n",
              "      <td>&lt;start&gt; there are many problems to solve</td>\n",
              "      <td>there are many problems to solve &lt;end&gt;</td>\n",
              "    </tr>\n",
              "    <tr>\n",
              "      <th>174772</th>\n",
              "      <td>è sicura che sia tutto finito</td>\n",
              "      <td>&lt;start&gt; are you sure it is all over</td>\n",
              "      <td>are you sure it is all over &lt;end&gt;</td>\n",
              "    </tr>\n",
              "    <tr>\n",
              "      <th>300370</th>\n",
              "      <td>la sua amica la aspettò dal cancello</td>\n",
              "      <td>&lt;start&gt; her friend waited for her by the gate</td>\n",
              "      <td>her friend waited for her by the gate &lt;end&gt;</td>\n",
              "    </tr>\n",
              "    <tr>\n",
              "      <th>32362</th>\n",
              "      <td>è fastidiosa</td>\n",
              "      <td>&lt;start&gt; you are annoying</td>\n",
              "      <td>you are annoying &lt;end&gt;</td>\n",
              "    </tr>\n",
              "  </tbody>\n",
              "</table>\n",
              "</div>"
            ],
            "text/plain": [
              "                                                  italian  ...                                        english_out\n",
              "233431                   farebbe meglio a non uscire oggi  ...            you would better not go out today <end>\n",
              "293103       sei preoccupato per il riscaldamento globale  ...         are you worried about global warming <end>\n",
              "328706  la germania era alleata con litalia durante la...  ...  germany was allied with italy in world war ii ...\n",
              "36518                               non mi è mai piaciuto  ...                             i never liked it <end>\n",
              "110841                                  che aspetto aveva  ...                        what did he look like <end>\n",
              "324268                   dipinse il quadro che è sul muro  ...  he painted the picture which is on the wall <end>\n",
              "264281                ci sono molti problemi da risolvere  ...             there are many problems to solve <end>\n",
              "174772                      è sicura che sia tutto finito  ...                  are you sure it is all over <end>\n",
              "300370               la sua amica la aspettò dal cancello  ...        her friend waited for her by the gate <end>\n",
              "32362                                        è fastidiosa  ...                             you are annoying <end>\n",
              "\n",
              "[10 rows x 3 columns]"
            ]
          },
          "metadata": {
            "tags": []
          },
          "execution_count": 11
        }
      ]
    },
    {
      "cell_type": "code",
      "metadata": {
        "colab": {
          "base_uri": "https://localhost:8080/"
        },
        "id": "qja7kkVYeYC-",
        "outputId": "027baaaf-ebef-4c60-b522-0d7942db1242"
      },
      "source": [
        "data.shape"
      ],
      "execution_count": 12,
      "outputs": [
        {
          "output_type": "execute_result",
          "data": {
            "text/plain": [
              "(343388, 3)"
            ]
          },
          "metadata": {
            "tags": []
          },
          "execution_count": 12
        }
      ]
    },
    {
      "cell_type": "markdown",
      "metadata": {
        "id": "mNkmddZ1REOW"
      },
      "source": [
        "### Getting train and test "
      ]
    },
    {
      "cell_type": "code",
      "metadata": {
        "id": "UG50P52vhMu8"
      },
      "source": [
        "from sklearn.model_selection import train_test_split\n",
        "train, validation = train_test_split(data, test_size=0.2)"
      ],
      "execution_count": 13,
      "outputs": []
    },
    {
      "cell_type": "code",
      "metadata": {
        "colab": {
          "base_uri": "https://localhost:8080/"
        },
        "id": "9mp9dzm1hwv-",
        "outputId": "bbf4a083-344c-4f73-979e-ab5075d1bcd6"
      },
      "source": [
        "print(train.shape, validation.shape)\n",
        "# for one sentence we will be adding <end> token so that the tokanizer learns the word <end>\n",
        "# with this we can use only one tokenizer for both encoder output and decoder output\n",
        "train.iloc[0]['english_inp']= str(train.iloc[0]['english_inp'])+' <end>'\n",
        "train.iloc[0]['english_out']= str(train.iloc[0]['english_out'])+' <end>'"
      ],
      "execution_count": 14,
      "outputs": [
        {
          "output_type": "stream",
          "text": [
            "(274710, 3) (68678, 3)\n"
          ],
          "name": "stdout"
        }
      ]
    },
    {
      "cell_type": "code",
      "metadata": {
        "colab": {
          "base_uri": "https://localhost:8080/",
          "height": 204
        },
        "id": "Su69ZPzTsxmn",
        "outputId": "7c95194a-fa12-49d1-c604-72bc21bad91e"
      },
      "source": [
        "train.head()"
      ],
      "execution_count": 15,
      "outputs": [
        {
          "output_type": "execute_result",
          "data": {
            "text/html": [
              "<div>\n",
              "<style scoped>\n",
              "    .dataframe tbody tr th:only-of-type {\n",
              "        vertical-align: middle;\n",
              "    }\n",
              "\n",
              "    .dataframe tbody tr th {\n",
              "        vertical-align: top;\n",
              "    }\n",
              "\n",
              "    .dataframe thead th {\n",
              "        text-align: right;\n",
              "    }\n",
              "</style>\n",
              "<table border=\"1\" class=\"dataframe\">\n",
              "  <thead>\n",
              "    <tr style=\"text-align: right;\">\n",
              "      <th></th>\n",
              "      <th>italian</th>\n",
              "      <th>english_inp</th>\n",
              "      <th>english_out</th>\n",
              "    </tr>\n",
              "  </thead>\n",
              "  <tbody>\n",
              "    <tr>\n",
              "      <th>121082</th>\n",
              "      <td>dimostra che mi ami</td>\n",
              "      <td>&lt;start&gt; prove that you love me &lt;end&gt;</td>\n",
              "      <td>prove that you love me &lt;end&gt; &lt;end&gt;</td>\n",
              "    </tr>\n",
              "    <tr>\n",
              "      <th>189176</th>\n",
              "      <td>perché non cercate di rilassarvi</td>\n",
              "      <td>&lt;start&gt; why do not you try to relax</td>\n",
              "      <td>why do not you try to relax &lt;end&gt;</td>\n",
              "    </tr>\n",
              "    <tr>\n",
              "      <th>64472</th>\n",
              "      <td>tom ha litigato con me</td>\n",
              "      <td>&lt;start&gt; tom argued with me</td>\n",
              "      <td>tom argued with me &lt;end&gt;</td>\n",
              "    </tr>\n",
              "    <tr>\n",
              "      <th>96991</th>\n",
              "      <td>tu ti fideresti di loro</td>\n",
              "      <td>&lt;start&gt; would you trust them</td>\n",
              "      <td>would you trust them &lt;end&gt;</td>\n",
              "    </tr>\n",
              "    <tr>\n",
              "      <th>93564</th>\n",
              "      <td>tom deve andare a letto</td>\n",
              "      <td>&lt;start&gt; tom has to go to bed</td>\n",
              "      <td>tom has to go to bed &lt;end&gt;</td>\n",
              "    </tr>\n",
              "  </tbody>\n",
              "</table>\n",
              "</div>"
            ],
            "text/plain": [
              "                                 italian  ...                         english_out\n",
              "121082               dimostra che mi ami  ...  prove that you love me <end> <end>\n",
              "189176  perché non cercate di rilassarvi  ...   why do not you try to relax <end>\n",
              "64472             tom ha litigato con me  ...            tom argued with me <end>\n",
              "96991            tu ti fideresti di loro  ...          would you trust them <end>\n",
              "93564            tom deve andare a letto  ...          tom has to go to bed <end>\n",
              "\n",
              "[5 rows x 3 columns]"
            ]
          },
          "metadata": {
            "tags": []
          },
          "execution_count": 15
        }
      ]
    },
    {
      "cell_type": "code",
      "metadata": {
        "colab": {
          "base_uri": "https://localhost:8080/",
          "height": 204
        },
        "id": "CGqQDR8FWV3D",
        "outputId": "a4f84b7d-29e0-4253-c40a-687ca89eeb80"
      },
      "source": [
        "validation.head()"
      ],
      "execution_count": 16,
      "outputs": [
        {
          "output_type": "execute_result",
          "data": {
            "text/html": [
              "<div>\n",
              "<style scoped>\n",
              "    .dataframe tbody tr th:only-of-type {\n",
              "        vertical-align: middle;\n",
              "    }\n",
              "\n",
              "    .dataframe tbody tr th {\n",
              "        vertical-align: top;\n",
              "    }\n",
              "\n",
              "    .dataframe thead th {\n",
              "        text-align: right;\n",
              "    }\n",
              "</style>\n",
              "<table border=\"1\" class=\"dataframe\">\n",
              "  <thead>\n",
              "    <tr style=\"text-align: right;\">\n",
              "      <th></th>\n",
              "      <th>italian</th>\n",
              "      <th>english_inp</th>\n",
              "      <th>english_out</th>\n",
              "    </tr>\n",
              "  </thead>\n",
              "  <tbody>\n",
              "    <tr>\n",
              "      <th>68542</th>\n",
              "      <td>non hai scelta</td>\n",
              "      <td>&lt;start&gt; you have no choice</td>\n",
              "      <td>you have no choice &lt;end&gt;</td>\n",
              "    </tr>\n",
              "    <tr>\n",
              "      <th>80462</th>\n",
              "      <td>tom lavora a tempo pieno</td>\n",
              "      <td>&lt;start&gt; tom works fulltime</td>\n",
              "      <td>tom works fulltime &lt;end&gt;</td>\n",
              "    </tr>\n",
              "    <tr>\n",
              "      <th>104793</th>\n",
              "      <td>mi siete mancate molto</td>\n",
              "      <td>&lt;start&gt; i have missed you a lot</td>\n",
              "      <td>i have missed you a lot &lt;end&gt;</td>\n",
              "    </tr>\n",
              "    <tr>\n",
              "      <th>237636</th>\n",
              "      <td>non ho mai detto che non ti volevo</td>\n",
              "      <td>&lt;start&gt; i never said i did not want you</td>\n",
              "      <td>i never said i did not want you &lt;end&gt;</td>\n",
              "    </tr>\n",
              "    <tr>\n",
              "      <th>34357</th>\n",
              "      <td>dammi quella chiave</td>\n",
              "      <td>&lt;start&gt; give me that key</td>\n",
              "      <td>give me that key &lt;end&gt;</td>\n",
              "    </tr>\n",
              "  </tbody>\n",
              "</table>\n",
              "</div>"
            ],
            "text/plain": [
              "                                   italian  ...                            english_out\n",
              "68542                       non hai scelta  ...               you have no choice <end>\n",
              "80462             tom lavora a tempo pieno  ...               tom works fulltime <end>\n",
              "104793              mi siete mancate molto  ...          i have missed you a lot <end>\n",
              "237636  non ho mai detto che non ti volevo  ...  i never said i did not want you <end>\n",
              "34357                  dammi quella chiave  ...                 give me that key <end>\n",
              "\n",
              "[5 rows x 3 columns]"
            ]
          },
          "metadata": {
            "tags": []
          },
          "execution_count": 16
        }
      ]
    },
    {
      "cell_type": "code",
      "metadata": {
        "id": "clrwEw6veYDT"
      },
      "source": [
        "\n",
        "import seaborn as sns"
      ],
      "execution_count": 17,
      "outputs": []
    },
    {
      "cell_type": "code",
      "metadata": {
        "colab": {
          "base_uri": "https://localhost:8080/",
          "height": 545
        },
        "id": "cpuPONunjYKj",
        "outputId": "1df03b1a-8abb-49f1-e86e-5e8a9e4e6d15"
      },
      "source": [
        "ita_lengths = train['italian'].str.split().apply(len)\n",
        "eng_lengths = train['english_inp'].str.split().apply(len)\n",
        "import seaborn as sns\n",
        "sns.kdeplot(ita_lengths)\n",
        "plt.show()\n",
        "sns.kdeplot(eng_lengths)\n",
        "plt.show()"
      ],
      "execution_count": 18,
      "outputs": [
        {
          "output_type": "display_data",
          "data": {
            "image/png": "[encoded data removed]",
            "text/plain": [
              "<Figure size 432x288 with 1 Axes>"
            ]
          },
          "metadata": {
            "tags": [],
            "needs_background": "light"
          }
        },
        {
          "output_type": "display_data",
          "data": {
            "image/png": "[encoded data removed]",
            "text/plain": [
              "<Figure size 432x288 with 1 Axes>"
            ]
          },
          "metadata": {
            "tags": [],
            "needs_background": "light"
          }
        }
      ]
    },
    {
      "cell_type": "markdown",
      "metadata": {
        "id": "msOiI69-REOi"
      },
      "source": [
        "### Creating Tokenizer on the train data and learning vocabulary"
      ]
    },
    {
      "cell_type": "markdown",
      "metadata": {
        "id": "T7xUCLf6REOi"
      },
      "source": [
        "> Note that we are fitting the tokenizer only on train data and check the filters for english, we need to remove symbols &lt; and &gt;"
      ]
    },
    {
      "cell_type": "code",
      "metadata": {
        "id": "GPa0ldDWkav8"
      },
      "source": [
        "tknizer_ita = Tokenizer()\n",
        "tknizer_ita.fit_on_texts(train['italian'].values)\n",
        "tknizer_eng = Tokenizer(filters='!\"#$%&()*+,-./:;=?@[\\\\]^_`{|}~\\t\\n')\n",
        "tknizer_eng.fit_on_texts(train['english_inp'].values)"
      ],
      "execution_count": 19,
      "outputs": []
    },
    {
      "cell_type": "code",
      "metadata": {
        "colab": {
          "base_uri": "https://localhost:8080/"
        },
        "id": "qpQ5iIxmeYDj",
        "outputId": "5e83d003-973a-4dce-fc1b-b6ce47d48840"
      },
      "source": [
        "len(tknizer_eng.word_index.keys())"
      ],
      "execution_count": 46,
      "outputs": [
        {
          "output_type": "execute_result",
          "data": {
            "text/plain": [
              "12829"
            ]
          },
          "metadata": {
            "tags": []
          },
          "execution_count": 46
        }
      ]
    },
    {
      "cell_type": "code",
      "metadata": {
        "colab": {
          "base_uri": "https://localhost:8080/"
        },
        "id": "hBb0yEYlCynz",
        "outputId": "a9c6f287-7426-4fd7-a2c4-231523f456cc"
      },
      "source": [
        "vocab_size_eng=len(tknizer_eng.word_index.keys())\n",
        "print(vocab_size_eng)\n",
        "vocab_size_ita=len(tknizer_ita.word_index.keys())\n",
        "print(vocab_size_ita)"
      ],
      "execution_count": 47,
      "outputs": [
        {
          "output_type": "stream",
          "text": [
            "12829\n",
            "26201\n"
          ],
          "name": "stdout"
        }
      ]
    },
    {
      "cell_type": "code",
      "metadata": {
        "id": "nm1uoAC-Nwuk",
        "colab": {
          "base_uri": "https://localhost:8080/"
        },
        "outputId": "dbc65519-8fa9-4f8e-8dc6-ad914c2b2dd1"
      },
      "source": [
        "tknizer_eng.word_index['<start>'], tknizer_eng.word_index['<end>']"
      ],
      "execution_count": 48,
      "outputs": [
        {
          "output_type": "execute_result",
          "data": {
            "text/plain": [
              "(1, 10147)"
            ]
          },
          "metadata": {
            "tags": []
          },
          "execution_count": 48
        }
      ]
    },
    {
      "cell_type": "code",
      "metadata": {
        "id": "1GUnVuHWeYDy",
        "colab": {
          "base_uri": "https://localhost:8080/"
        },
        "outputId": "d092b880-414f-43a3-8616-16db19ab5f5a"
      },
      "source": [
        "data.shape"
      ],
      "execution_count": 49,
      "outputs": [
        {
          "output_type": "execute_result",
          "data": {
            "text/plain": [
              "(343388, 3)"
            ]
          },
          "metadata": {
            "tags": []
          },
          "execution_count": 49
        }
      ]
    },
    {
      "cell_type": "markdown",
      "metadata": {
        "id": "xT2R3D6MREOp"
      },
      "source": [
        "### Creating embeddings for english sentences"
      ]
    },
    {
      "cell_type": "code",
      "metadata": {
        "id": "olaKF9rb_zz1"
      },
      "source": [
        "embeddings_index = dict()\n",
        "f = open('glove.6B.100d.txt')\n",
        "for line in f:\n",
        "    values = line.split()\n",
        "    word = values[0]\n",
        "    coefs = np.asarray(values[1:], dtype='float32')\n",
        "    embeddings_index[word] = coefs\n",
        "f.close()\n",
        "\n",
        "embedding_matrix = np.zeros((vocab_size_eng+1, 100))\n",
        "for word, i in tknizer_eng.word_index.items():\n",
        "    embedding_vector = embeddings_index.get(word)\n",
        "    if embedding_vector is not None:\n",
        "        embedding_matrix[i] = embedding_vector"
      ],
      "execution_count": 50,
      "outputs": []
    },
    {
      "cell_type": "code",
      "metadata": {
        "id": "U_osICwIsulX"
      },
      "source": [
        "init=tf.keras.initializers.HeNormal(\n",
        "    seed=None\n",
        ")"
      ],
      "execution_count": 51,
      "outputs": []
    },
    {
      "cell_type": "markdown",
      "metadata": {
        "id": "t70hQgMKiwqh"
      },
      "source": [
        "## submodels"
      ]
    },
    {
      "cell_type": "code",
      "metadata": {
        "id": "tuu2ypFSeYD9"
      },
      "source": [
        "class Encoder(tf.keras.Model):\n",
        "    def __init__(self,inp_vocab_size,embedding_size,lstm_size,input_length):\n",
        "        super().__init__()\n",
        "        self.inp_vocab_size=inp_vocab_size\n",
        "        self.embedding_size=embedding_size\n",
        "        self.lstm_size=lstm_size\n",
        "        self.input_length=input_length\n",
        "        self.lstm_output = 0\n",
        "        self.lstm_state_h=0\n",
        "        self.lstm_state_c=0\n",
        "    def build(self, input_shape):\n",
        "        self.embedding = Embedding(input_dim=self.inp_vocab_size, output_dim=self.embedding_size, input_length=self.input_length, name=\"embedding_layer_encoder\",embeddings_initializer=init)\n",
        "        self.masking=Masking(mask_value=0)\n",
        "        self.lstm = LSTM(self.lstm_size, return_state=True, name=\"Encoder_LSTM\",kernel_initializer=init,dropout=0.2)\n",
        "    def call(self,input_sequence,training=True):\n",
        "        input_embedd = self.embedding(input_sequence)\n",
        "        input_embedd=self.masking(input_embedd)\n",
        "        self.lstm_output, self.lstm_state_h,self.lstm_state_c = self.lstm(input_embedd)\n",
        "        return self.lstm_output, self.lstm_state_h,self.lstm_state_c\n",
        "        \n",
        "    def get_states(self):\n",
        "        return self.lstm_state_h,self.lstm_state_c"
      ],
      "execution_count": null,
      "outputs": []
    },
    {
      "cell_type": "code",
      "metadata": {
        "id": "lnRUKE2xeYEA"
      },
      "source": [
        "class Decoder(tf.keras.Model):\n",
        "    def __init__(self,out_vocab_size,embedding_size,lstm_size,input_length):\n",
        "        super().__init__()\n",
        "        self.out_vocab_size=out_vocab_size\n",
        "        self.embedding_size=embedding_size\n",
        "        self.lstm_size=lstm_size\n",
        "        self.input_length=input_length\n",
        "    def build(self, input_shape):\n",
        "        self.embedding = Embedding(input_dim=self.out_vocab_size, output_dim=self.embedding_size, input_length=None,\n",
        "                           name=\"embedding_layer_decoder\",weights=[embedding_matrix], trainable=False)\n",
        "        self.masking=Masking(mask_value=0)\n",
        "        self.lstm = LSTM(self.lstm_size, return_state=True, return_sequences=True, name=\"Decoder_LSTM\",kernel_initializer=init,dropout=0.2)\n",
        "    def call(self,target_sentances,state_h,state_c):\n",
        "        #print(\"DECODER ==> IN PUT SQUENCES SHAPE :\",target_sentances.shape)\n",
        "        target_embedd           = self.embedding(target_sentances)\n",
        "        target_embedd=self.masking(target_embedd)\n",
        "        #print(\"WE ARE INITIALIZING DECODER WITH ENCODER STATES :\",state_h.shape, state_c.shape)\n",
        "        lstm_output,dec_h,dec_c       = self.lstm(target_embedd, initial_state=[state_h, state_c])\n",
        "        return lstm_output,dec_h,dec_c"
      ],
      "execution_count": null,
      "outputs": []
    },
    {
      "cell_type": "code",
      "metadata": {
        "id": "9i_U9QEPeYEE"
      },
      "source": [
        "class Encoder_decoder(tf.keras.Model):\n",
        "    def __init__(self,encoder_input_length,decoder_input_length,output_vocabsize):\n",
        "        super().__init__()\n",
        "        self.encoder = Encoder(inp_vocab_size=vocab_size_ita+1,embedding_size=100,input_length=encoder_input_length, lstm_size=256)\n",
        "        self.decoder = Decoder(out_vocab_size=vocab_size_eng+1, embedding_size=100, input_length=decoder_input_length, lstm_size=256)\n",
        "        self.dense   = TimeDistributed(Dense(units=output_vocabsize+1,activation=\"softmax\",kernel_initializer=init)) \n",
        "    def call(self, data):\n",
        "        input,output = data[0], data[1]\n",
        "        #print(\"=\"*20, \"ENCODER\", \"=\"*20)\n",
        "        encoder_output, encoder_h, encoder_c = self.encoder(input)\n",
        "        decoder_output                       = self.decoder(output, encoder_h, encoder_c)[0]\n",
        "        output                               = self.dense(decoder_output)\n",
        "        return output    "
      ],
      "execution_count": null,
      "outputs": []
    },
    {
      "cell_type": "markdown",
      "metadata": {
        "id": "KUmQrMuji5je"
      },
      "source": [
        "## Data Loaders"
      ]
    },
    {
      "cell_type": "code",
      "metadata": {
        "id": "t84vq_VIx42a"
      },
      "source": [
        "class Dataset:\n",
        "    def __init__(self, data, tknizer_ita, tknizer_eng, max_len):\n",
        "        self.encoder_inps = data['italian'].values\n",
        "        self.decoder_inps = data['english_inp'].values\n",
        "        self.decoder_outs = data['english_out'].values\n",
        "        self.tknizer_eng = tknizer_eng\n",
        "        self.tknizer_ita = tknizer_ita\n",
        "        self.max_len = max_len\n",
        "\n",
        "    def __getitem__(self, i):\n",
        "        self.encoder_seq = self.tknizer_ita.texts_to_sequences([self.encoder_inps[i]]) # need to pass list of values\n",
        "        self.decoder_inp_seq = self.tknizer_eng.texts_to_sequences([self.decoder_inps[i]])\n",
        "        self.decoder_out_seq = self.tknizer_eng.texts_to_sequences([self.decoder_outs[i]])\n",
        "\n",
        "        self.encoder_seq = pad_sequences(self.encoder_seq, maxlen=self.max_len, dtype='int32', padding='post')\n",
        "        self.decoder_inp_seq = pad_sequences(self.decoder_inp_seq, maxlen=self.max_len, dtype='int32', padding='post')\n",
        "        self.decoder_out_seq = pad_sequences(self.decoder_out_seq, maxlen=self.max_len, dtype='int32', padding='post')\n",
        "        return self.encoder_seq, self.decoder_inp_seq, self.decoder_out_seq\n",
        "\n",
        "    def __len__(self): # your model.fit_gen requires this function\n",
        "        return len(self.encoder_inps)\n",
        "\n",
        "    \n",
        "class Dataloder(tf.keras.utils.Sequence):    \n",
        "    def __init__(self, dataset, batch_size=1):\n",
        "        self.dataset = dataset\n",
        "        self.batch_size = batch_size\n",
        "        self.indexes = np.arange(len(self.dataset.encoder_inps))\n",
        "\n",
        "\n",
        "    def __getitem__(self, i):\n",
        "        start = i * self.batch_size\n",
        "        stop = (i + 1) * self.batch_size\n",
        "        data = []\n",
        "        for j in range(start, stop):\n",
        "            data.append(self.dataset[j])\n",
        "\n",
        "        batch = [np.squeeze(np.stack(samples, axis=1), axis=0) for samples in zip(*data)]\n",
        "        # we are creating data like ([italian, english_inp], english_out) these are already converted into seq\n",
        "        return tuple([[batch[0],batch[1]],batch[2]])\n",
        "        \n",
        "\n",
        "    def __len__(self):  # your model.fit_gen requires this function\n",
        "        return len(self.indexes) // self.batch_size\n",
        "\n",
        "    def on_epoch_end(self):\n",
        "        self.indexes = np.random.permutation(self.indexes)"
      ],
      "execution_count": 65,
      "outputs": []
    },
    {
      "cell_type": "code",
      "metadata": {
        "colab": {
          "base_uri": "https://localhost:8080/"
        },
        "id": "4pJIHRGHeYEN",
        "outputId": "a48bc595-f7c5-4bf6-a159-545e99c455dc"
      },
      "source": [
        "train_dataset = Dataset(data, tknizer_ita, tknizer_eng, 20)\n",
        "print(train_dataset)\n",
        "\n",
        "test_dataset  = Dataset(validation, tknizer_ita, tknizer_eng, 20)\n",
        "\n",
        "train_dataloader = Dataloder(train_dataset, batch_size=1024)\n",
        "print(train_dataloader)\n",
        "test_dataloader = Dataloder(test_dataset, batch_size=1024)\n",
        "\n",
        "\n",
        "print(train_dataloader[0][0][0].shape, train_dataloader[0][0][1].shape, train_dataloader[0][1].shape)"
      ],
      "execution_count": 66,
      "outputs": [
        {
          "output_type": "stream",
          "text": [
            "<__main__.Dataset object at 0x7fa0f28a6710>\n",
            "<__main__.Dataloder object at 0x7fa0f28a66d8>\n",
            "(1024, 20) (1024, 20) (1024, 20)\n"
          ],
          "name": "stdout"
        }
      ]
    },
    {
      "cell_type": "code",
      "metadata": {
        "id": "JxxS2YdbcvsO"
      },
      "source": [
        "for i in train_dataloader:\r\n",
        "  break"
      ],
      "execution_count": null,
      "outputs": []
    },
    {
      "cell_type": "code",
      "metadata": {
        "colab": {
          "base_uri": "https://localhost:8080/"
        },
        "id": "xBlA-G_5c6YJ",
        "outputId": "8b87ea7f-39a3-4031-ce1d-fbaf0ff9115d"
      },
      "source": [
        "i[0][0]"
      ],
      "execution_count": null,
      "outputs": [
        {
          "output_type": "execute_result",
          "data": {
            "text/plain": [
              "array([[4346,    0,    0, ...,    0,    0,    0],\n",
              "       [7750,    0,    0, ...,    0,    0,    0],\n",
              "       [7917,    0,    0, ...,    0,    0,    0],\n",
              "       ...,\n",
              "       [1324,    1,    0, ...,    0,    0,    0],\n",
              "       [7379,    5,    1, ...,    0,    0,    0],\n",
              "       [4103,    5,    1, ...,    0,    0,    0]], dtype=int32)"
            ]
          },
          "metadata": {
            "tags": []
          },
          "execution_count": 76
        }
      ]
    },
    {
      "cell_type": "markdown",
      "metadata": {
        "id": "gn8eD59Ga_Dp"
      },
      "source": [
        "### Callbacks\n"
      ]
    },
    {
      "cell_type": "code",
      "metadata": {
        "id": "Fs5NuPDobCox"
      },
      "source": [
        "#earlystopping\n",
        "import numpy as np\n",
        "\n",
        "\n",
        "class EarlyStoppingAtMinLoss(tf.keras.callbacks.Callback):\n",
        "    \"\"\"Stop training when the loss is at its min, i.e. the loss stops decreasing.\n",
        "\n",
        "  Arguments:\n",
        "      patience: Number of epochs to wait after min has been hit. After this\n",
        "      number of no improvement, training stops.\n",
        "  \"\"\"\n",
        "\n",
        "    def __init__(self, patience=3):\n",
        "        super(EarlyStoppingAtMinLoss, self).__init__()\n",
        "        self.patience = patience\n",
        "        # best_weights to store the weights at which the minimum loss occurs.\n",
        "        self.best_weights = None\n",
        "\n",
        "    def on_train_begin(self, logs=None):\n",
        "        # The number of epoch it has waited when loss is no longer minimum.\n",
        "        self.wait = 0\n",
        "        # The epoch the training stops at.\n",
        "        self.stopped_epoch = 0\n",
        "        # Initialize the best as infinity.\n",
        "        #self.best = np.Inf\n",
        "\n",
        "    def on_epoch_end(self, epoch, logs=None):\n",
        "        current_loss = logs.get(\"loss\")\n",
        "        current_valloss = logs.get(\"val_loss\")\n",
        "        if np.less(current_valloss,current_loss):\n",
        "            #self.best = current\n",
        "            self.wait = 0\n",
        "            # Record the best weights if current results is better (less).\n",
        "            self.best_weights = self.model.get_weights()\n",
        "        else:\n",
        "            self.wait += 1\n",
        "            if self.wait >= self.patience:\n",
        "                self.stopped_epoch = epoch\n",
        "                self.model.stop_training = True\n",
        "                print(\"Restoring model weights from the end of the best epoch.\")\n",
        "                self.model.set_weights(self.best_weights)\n",
        "\n",
        "    def on_train_end(self, logs=None):\n",
        "        if self.stopped_epoch > 0:\n",
        "            print(\"Epoch %05d: early stopping\" % (self.stopped_epoch + 1))\n",
        "\n",
        "\n"
      ],
      "execution_count": null,
      "outputs": []
    },
    {
      "cell_type": "code",
      "metadata": {
        "id": "4XSrqL3WV1-i"
      },
      "source": [
        "\r\n",
        "loss_object = tf.keras.losses.SparseCategoricalCrossentropy( reduction='none')\r\n",
        "\r\n",
        "def custom_lossfunction(targets,logits):\r\n",
        "  mask = tf.math.logical_not(tf.math.equal(targets, 0))\r\n",
        "  loss_ = loss_object(targets, logits)\r\n",
        "\r\n",
        "  mask = tf.cast(mask, dtype=loss_.dtype)\r\n",
        "  loss_ *= mask\r\n",
        "\r\n",
        "  return tf.reduce_mean(loss_)\r\n",
        "  # Custom loss function that will not consider the loss for padded zeros.\r\n",
        "  # Refer https://www.tensorflow.org/tutorials/text/nmt_with_attention#define_the_optimizer_and_the_loss_function\r\n"
      ],
      "execution_count": null,
      "outputs": []
    },
    {
      "cell_type": "code",
      "metadata": {
        "colab": {
          "base_uri": "https://localhost:8080/"
        },
        "id": "rh03kABXeYEW",
        "outputId": "ab26cfc3-e6a6-4dc4-e400-10a052cb3834"
      },
      "source": [
        "model  = Encoder_decoder(encoder_input_length=20,decoder_input_length=None,output_vocabsize=vocab_size_eng)\n",
        "optimizer = tf.keras.optimizers.Adam()\n",
        "model.compile(optimizer=optimizer,loss=custom_lossfunction)\n",
        "train_steps=train.shape[0]//1024\n",
        "valid_steps=validation.shape[0]//1024\n",
        "history=model.fit(train_dataloader, steps_per_epoch=train_steps, epochs=50, validation_data=train_dataloader, validation_steps=valid_steps,verbose=1)\n",
        "model.summary()"
      ],
      "execution_count": null,
      "outputs": [
        {
          "output_type": "stream",
          "text": [
            "Epoch 1/50\n",
            "268/268 [==============================] - 74s 277ms/step - loss: 0.6439 - val_loss: 0.2448\n",
            "Epoch 2/50\n",
            "268/268 [==============================] - 73s 271ms/step - loss: 0.5680 - val_loss: 0.2229\n",
            "Epoch 3/50\n",
            "268/268 [==============================] - 72s 270ms/step - loss: 0.5402 - val_loss: 0.2209\n",
            "Epoch 4/50\n",
            "268/268 [==============================] - 73s 271ms/step - loss: 0.5078 - val_loss: 0.2064\n",
            "Epoch 5/50\n",
            "268/268 [==============================] - 73s 272ms/step - loss: 0.4866 - val_loss: 0.1987\n",
            "Epoch 6/50\n",
            "268/268 [==============================] - 73s 272ms/step - loss: 0.4456 - val_loss: 0.1844\n",
            "Epoch 7/50\n",
            "268/268 [==============================] - 73s 271ms/step - loss: 0.4463 - val_loss: 0.1738\n",
            "Epoch 8/50\n",
            "268/268 [==============================] - 73s 272ms/step - loss: 0.4097 - val_loss: 0.1597\n",
            "Epoch 9/50\n",
            "268/268 [==============================] - 73s 272ms/step - loss: 0.3822 - val_loss: 0.1494\n",
            "Epoch 10/50\n",
            "268/268 [==============================] - 73s 271ms/step - loss: 0.3674 - val_loss: 0.1388\n",
            "Epoch 11/50\n",
            "268/268 [==============================] - 73s 272ms/step - loss: 0.3359 - val_loss: 0.1319\n",
            "Epoch 12/50\n",
            "268/268 [==============================] - 73s 271ms/step - loss: 0.3145 - val_loss: 0.1242\n",
            "Epoch 13/50\n",
            "268/268 [==============================] - 73s 272ms/step - loss: 0.2871 - val_loss: 0.1113\n",
            "Epoch 14/50\n",
            "268/268 [==============================] - 73s 271ms/step - loss: 0.2796 - val_loss: 0.1058\n",
            "Epoch 15/50\n",
            "268/268 [==============================] - 73s 272ms/step - loss: 0.2592 - val_loss: 0.1002\n",
            "Epoch 16/50\n",
            "268/268 [==============================] - 73s 271ms/step - loss: 0.2411 - val_loss: 0.0941\n",
            "Epoch 17/50\n",
            "268/268 [==============================] - 73s 272ms/step - loss: 0.2243 - val_loss: 0.0900\n",
            "Epoch 18/50\n",
            "268/268 [==============================] - 73s 272ms/step - loss: 0.2215 - val_loss: 0.0862\n",
            "Epoch 19/50\n",
            "268/268 [==============================] - 73s 272ms/step - loss: 0.2091 - val_loss: 0.0840\n",
            "Epoch 20/50\n",
            "268/268 [==============================] - 73s 273ms/step - loss: 0.1984 - val_loss: 0.0795\n",
            "Epoch 21/50\n",
            "268/268 [==============================] - 73s 272ms/step - loss: 0.1939 - val_loss: 0.0812\n",
            "Epoch 22/50\n",
            "268/268 [==============================] - 73s 273ms/step - loss: 0.1828 - val_loss: 0.0745\n",
            "Epoch 23/50\n",
            "268/268 [==============================] - 73s 273ms/step - loss: 0.1761 - val_loss: 0.0723\n",
            "Epoch 24/50\n",
            "268/268 [==============================] - 73s 272ms/step - loss: 0.1699 - val_loss: 0.0696\n",
            "Epoch 25/50\n",
            "268/268 [==============================] - 73s 274ms/step - loss: 0.1615 - val_loss: 0.0688\n",
            "Epoch 26/50\n",
            "268/268 [==============================] - 73s 272ms/step - loss: 0.1606 - val_loss: 0.0656\n",
            "Epoch 27/50\n",
            "268/268 [==============================] - 73s 273ms/step - loss: 0.1533 - val_loss: 0.0642\n",
            "Epoch 28/50\n",
            "268/268 [==============================] - 73s 273ms/step - loss: 0.1456 - val_loss: 0.0621\n",
            "Epoch 29/50\n",
            "268/268 [==============================] - 73s 272ms/step - loss: 0.1431 - val_loss: 0.0606\n",
            "Epoch 30/50\n",
            "268/268 [==============================] - 73s 273ms/step - loss: 0.1418 - val_loss: 0.0601\n",
            "Epoch 31/50\n",
            "268/268 [==============================] - 73s 272ms/step - loss: 0.1390 - val_loss: 0.0578\n",
            "Epoch 32/50\n",
            "268/268 [==============================] - 73s 273ms/step - loss: 0.1292 - val_loss: 0.0566\n",
            "Epoch 33/50\n",
            "268/268 [==============================] - 73s 272ms/step - loss: 0.1204 - val_loss: 0.0543\n",
            "Epoch 34/50\n",
            "268/268 [==============================] - 73s 273ms/step - loss: 0.1247 - val_loss: 0.0535\n",
            "Epoch 35/50\n",
            "268/268 [==============================] - 73s 273ms/step - loss: 0.1166 - val_loss: 0.0514\n",
            "Epoch 36/50\n",
            "268/268 [==============================] - 73s 274ms/step - loss: 0.1149 - val_loss: 0.0506\n",
            "Epoch 37/50\n",
            "268/268 [==============================] - 73s 273ms/step - loss: 0.1155 - val_loss: 0.0494\n",
            "Epoch 38/50\n",
            "268/268 [==============================] - 73s 273ms/step - loss: 0.1120 - val_loss: 0.0487\n",
            "Epoch 39/50\n",
            "268/268 [==============================] - 73s 273ms/step - loss: 0.1080 - val_loss: 0.0476\n",
            "Epoch 40/50\n",
            "268/268 [==============================] - 73s 274ms/step - loss: 0.1037 - val_loss: 0.0466\n",
            "Epoch 41/50\n",
            "268/268 [==============================] - 73s 273ms/step - loss: 0.1069 - val_loss: 0.0462\n",
            "Epoch 42/50\n",
            "268/268 [==============================] - 73s 274ms/step - loss: 0.0997 - val_loss: 0.0454\n",
            "Epoch 43/50\n",
            "268/268 [==============================] - 73s 273ms/step - loss: 0.0996 - val_loss: 0.0452\n",
            "Epoch 44/50\n",
            "268/268 [==============================] - 73s 274ms/step - loss: 0.0974 - val_loss: 0.0442\n",
            "Epoch 45/50\n",
            "268/268 [==============================] - 73s 272ms/step - loss: 0.0969 - val_loss: 0.0439\n",
            "Epoch 46/50\n",
            "268/268 [==============================] - 73s 273ms/step - loss: 0.0968 - val_loss: 0.0434\n",
            "Epoch 47/50\n",
            "268/268 [==============================] - 73s 272ms/step - loss: 0.0969 - val_loss: 0.0424\n",
            "Epoch 48/50\n",
            "268/268 [==============================] - 73s 273ms/step - loss: 0.0951 - val_loss: 0.0420\n",
            "Epoch 49/50\n",
            "268/268 [==============================] - 73s 273ms/step - loss: 0.0937 - val_loss: 0.0420\n",
            "Epoch 50/50\n",
            "268/268 [==============================] - 73s 274ms/step - loss: 0.0919 - val_loss: 0.0418\n",
            "Model: \"encoder_decoder_19\"\n",
            "_________________________________________________________________\n",
            "Layer (type)                 Output Shape              Param #   \n",
            "=================================================================\n",
            "encoder_19 (Encoder)         multiple                  2993068   \n",
            "_________________________________________________________________\n",
            "decoder_19 (Decoder)         multiple                  1651168   \n",
            "_________________________________________________________________\n",
            "time_distributed_4 (TimeDist multiple                  3303992   \n",
            "=================================================================\n",
            "Total params: 7,948,228\n",
            "Trainable params: 6,662,628\n",
            "Non-trainable params: 1,285,600\n",
            "_________________________________________________________________\n"
          ],
          "name": "stdout"
        }
      ]
    },
    {
      "cell_type": "code",
      "metadata": {
        "colab": {
          "base_uri": "https://localhost:8080/",
          "height": 295
        },
        "id": "k6ZbqFXe_WE8",
        "outputId": "14db694f-9c28-4478-a395-a02c1419d640"
      },
      "source": [
        "import matplotlib.pyplot as plt\n",
        "plt.title('Learning Curves')\n",
        "plt.xlabel('Epoch')\n",
        "plt.ylabel('Cross Entropy')\n",
        "plt.plot(history.history['loss'], label='train')\n",
        "plt.plot(history.history['val_loss'], label='val')\n",
        "plt.legend()\n",
        "plt.show()\n"
      ],
      "execution_count": null,
      "outputs": [
        {
          "output_type": "display_data",
          "data": {
            "image/png": "[encoded data removed]",
            "text/plain": [
              "<Figure size 432x288 with 1 Axes>"
            ]
          },
          "metadata": {
            "tags": []
          }
        }
      ]
    },
    {
      "cell_type": "code",
      "metadata": {
        "colab": {
          "base_uri": "https://localhost:8080/",
          "height": 51
        },
        "id": "UFZrYi8co6m0",
        "outputId": "9759d763-5a8f-4053-8678-8bda8a236b2a"
      },
      "source": [
        "\"\"\"\n",
        "import matplotlib.pyplot as plt\n",
        "plt.title('Learning Curves')\n",
        "plt.xlabel('Epoch')\n",
        "plt.ylabel('Cross Entropy')\n",
        "plt.plot(history.history['loss'], label='train')\n",
        "plt.plot(history.history['val_loss'], label='val')\n",
        "plt.legend()\n",
        "plt.show()\n",
        "\"\"\""
      ],
      "execution_count": null,
      "outputs": [
        {
          "output_type": "execute_result",
          "data": {
            "application/vnd.google.colaboratory.intrinsic+json": {
              "type": "string"
            },
            "text/plain": [
              "\"\\nimport matplotlib.pyplot as plt\\nplt.title('Learning Curves')\\nplt.xlabel('Epoch')\\nplt.ylabel('Cross Entropy')\\nplt.plot(history.history['loss'], label='train')\\nplt.plot(history.history['val_loss'], label='val')\\nplt.legend()\\nplt.show()\\n\""
            ]
          },
          "metadata": {
            "tags": []
          },
          "execution_count": 46
        }
      ]
    },
    {
      "cell_type": "code",
      "metadata": {
        "id": "mqjYLh-DeYEd"
      },
      "source": [
        "\n",
        "def predic_fun(input_sentence):\n",
        "    input_pred=[tknizer_ita.word_index[i] for i in input_sentence.split()] \n",
        "    print(\"input tokens\",input_pred)\n",
        "    a,b,c=model.layers[0](np.expand_dims(input_pred, 0))\n",
        "    state_values=[b,c]\n",
        "    start=\"<start>\"\n",
        "    pred=[]\n",
        "    for i in range(0,20):\n",
        "        start=tknizer_eng.word_index[start] \n",
        "        cur_vec = np.array(start).reshape(1,1)\n",
        "        cur_emb=model.layers[1].embedding(cur_vec)\n",
        "        infe_output, state_h, state_c = model.layers[1].lstm(cur_emb, initial_state=state_values)\n",
        "        state_values=[state_h, state_c]\n",
        "        infe_output=model.layers[2](infe_output)\n",
        "        ind=np.argmax(infe_output)\n",
        "        start=tknizer_eng.index_word[ind]\n",
        "        print(\"new eng word\",start)\n",
        "        pred.append(tknizer_eng.index_word[ind])\n",
        "        if start==\"<end>\":\n",
        "            break\n",
        "    return pred"
      ],
      "execution_count": null,
      "outputs": []
    },
    {
      "cell_type": "code",
      "metadata": {
        "colab": {
          "base_uri": "https://localhost:8080/"
        },
        "id": "vV_ZUWlu29Q3",
        "outputId": "ecf465ba-579f-4e5c-f569-ce7478996b53"
      },
      "source": [
        "model.layers"
      ],
      "execution_count": null,
      "outputs": [
        {
          "output_type": "execute_result",
          "data": {
            "text/plain": [
              "[<__main__.Encoder at 0x7fde4086fb00>,\n",
              " <__main__.Decoder at 0x7fde40e522e8>,\n",
              " <tensorflow.python.keras.layers.wrappers.TimeDistributed at 0x7fdf5220cf28>]"
            ]
          },
          "metadata": {
            "tags": []
          },
          "execution_count": 145
        }
      ]
    },
    {
      "cell_type": "code",
      "metadata": {
        "colab": {
          "base_uri": "https://localhost:8080/"
        },
        "id": "IshLzUgbeYEg",
        "outputId": "a691bb75-8ebb-4a53-a21d-2ddd65732b77"
      },
      "source": [
        "predic_fun(\"dovete imparare a sopportare questo tempo\")"
      ],
      "execution_count": null,
      "outputs": [
        {
          "output_type": "stream",
          "text": [
            "input tokens [261, 364, 5, 1370, 24, 106]\n",
            "new eng word you\n",
            "new eng word need\n",
            "new eng word to\n",
            "new eng word keep\n",
            "new eng word up\n",
            "new eng word with\n",
            "new eng word a\n",
            "new eng word <end>\n"
          ],
          "name": "stdout"
        },
        {
          "output_type": "execute_result",
          "data": {
            "text/plain": [
              "['you', 'need', 'to', 'keep', 'up', 'with', 'a', '<end>']"
            ]
          },
          "metadata": {
            "tags": []
          },
          "execution_count": 159
        }
      ]
    },
    {
      "cell_type": "code",
      "metadata": {
        "id": "2afkbyk5xGIg"
      },
      "source": [
        "model.save_weights('modelenc_50epoch.h5')"
      ],
      "execution_count": null,
      "outputs": []
    },
    {
      "cell_type": "code",
      "metadata": {
        "id": "a8fq6cQ7wzMA"
      },
      "source": [
        ""
      ],
      "execution_count": null,
      "outputs": []
    },
    {
      "cell_type": "code",
      "metadata": {
        "id": "TN5bDU8HBoWA"
      },
      "source": [
        ""
      ],
      "execution_count": null,
      "outputs": []
    },
    {
      "cell_type": "markdown",
      "metadata": {
        "id": "opuOdPj-BfCO"
      },
      "source": [
        "#ATTENTION"
      ]
    },
    {
      "cell_type": "code",
      "metadata": {
        "id": "46a6CpJQos3N"
      },
      "source": [
        "import matplotlib.pyplot as plt\n",
        "%matplotlib inline\n",
        "# import seaborn as sns\n",
        "import pandas as pd\n",
        "import re\n",
        "import tensorflow as tf\n",
        "from tensorflow.keras.layers import Embedding, LSTM, Dense,Concatenate,TimeDistributed,Masking,GRU,Dot\n",
        "from tensorflow.keras.models import Model\n",
        "from tensorflow.keras.preprocessing.text import Tokenizer\n",
        "from tensorflow.keras.preprocessing.sequence import pad_sequences\n",
        "from tensorflow.math import reduce_sum\n",
        "from tensorflow.keras.backend import sum\n",
        "from tensorflow.nn import softmax\n",
        "from keras.callbacks import Callback\n",
        "\n",
        "import numpy as np"
      ],
      "execution_count": 52,
      "outputs": []
    },
    {
      "cell_type": "code",
      "metadata": {
        "id": "fYiq4_dVkpNH"
      },
      "source": [
        "tf.keras.backend.clear_session()"
      ],
      "execution_count": 53,
      "outputs": []
    },
    {
      "cell_type": "code",
      "metadata": {
        "id": "3D3yU5xc-xOT"
      },
      "source": [
        "init=tf.keras.initializers.HeNormal(\r\n",
        "    seed=None\r\n",
        ")"
      ],
      "execution_count": 54,
      "outputs": []
    },
    {
      "cell_type": "markdown",
      "metadata": {
        "id": "PU4KIsGxLOfK"
      },
      "source": [
        "### <font color='blue'>**Implement custom encoder decoder and attention layers**</font>"
      ]
    },
    {
      "cell_type": "markdown",
      "metadata": {
        "id": "TMm3ADQDLOfK"
      },
      "source": [
        "<font color='blue'>**Encoder**</font>"
      ]
    },
    {
      "cell_type": "code",
      "metadata": {
        "id": "3x1qrAdDos3P"
      },
      "source": [
        "class Encoder(tf.keras.Model):\n",
        "    def __init__(self,inp_vocab_size,embedding_size,lstm_size,input_length_enc):\n",
        "        super().__init__()\n",
        "        self.inp_vocab_size=inp_vocab_size\n",
        "        self.embedding_size=embedding_size\n",
        "        self.lstm_size=lstm_size\n",
        "        self.input_length_enc=input_length_enc\n",
        "        #self.lstm_output = 0\n",
        "        #self.lstm_state_h=0\n",
        "        #self.lstm_state_c=0\n",
        "        self.embedding = Embedding(input_dim=self.inp_vocab_size, output_dim=self.embedding_size, input_length=self.input_length_enc, name=\"embedding_layer_encoder\",embeddings_initializer=init)\n",
        "        self.masking=Masking(mask_value=0)\n",
        "        self.lstm = LSTM(self.lstm_size, return_sequences=True,return_state=True, name=\"Encoder_LSTM\")\n",
        "    #def build(self, input_shape):\n",
        "        \n",
        "        #self.masking=Masking(mask_value=0)\n",
        "        \n",
        "    def call(self,input_sequence,training=True):\n",
        "        input_embedd = self.embedding(input_sequence)\n",
        "        input_embedd=self.masking(input_embedd)\n",
        "        lstm_output, lstm_state_h, lstm_state_c = self.lstm(input_embedd)\n",
        "        \n",
        "        return lstm_output, lstm_state_h, lstm_state_c\n",
        "    \n",
        "    def initialize_states(self,batch_size):\n",
        "        return  [tf.zeros((batch_size,self.lstm_size)),tf.zeros((batch_size,self.lstm_size))]\n",
        "    \n",
        "    #def get_states(self):\n",
        "        #return self.lstm_state_h,self.lstm_state_c\n",
        "         \n",
        "        \n",
        "    \n",
        "   "
      ],
      "execution_count": 55,
      "outputs": []
    },
    {
      "cell_type": "markdown",
      "metadata": {
        "id": "lXn278lhLYRM"
      },
      "source": [
        "<font color='blue'>**Attention**</font>"
      ]
    },
    {
      "cell_type": "code",
      "metadata": {
        "id": "ab5SNdPZLlur"
      },
      "source": [
        "class Attention(tf.keras.layers.Layer):\n",
        "  '''\n",
        "    Class the calculates score based on the scoring_function using Bahdanu attention mechanism.\n",
        "  '''\n",
        "  def __init__(self,scoring_function, att_units):\n",
        "    super().__init__()\n",
        "    self.soft = tf.keras.layers.Softmax(axis=1)\n",
        "    self.scoring_function=scoring_function\n",
        "\n",
        "\n",
        "    # Please go through the reference notebook and research paper to complete the scoring functions\n",
        "\n",
        "    if self.scoring_function=='dot':\n",
        "        self.dot=tf.keras.layers.Dot(axes=(-1,-1))\n",
        "        # Intialize variables needed for Dot score function here\n",
        "    if self.scoring_function == 'general':\n",
        "        self.W1 = tf.keras.layers.Dense(att_units)\n",
        "        self.dot=tf.keras.layers.Dot(axes=(-1,-1))\n",
        "      # Intialize variables needed for General score function here\n",
        "      \n",
        "    elif self.scoring_function == 'concat':\n",
        "        self.W1 = tf.keras.layers.Dense(att_units)\n",
        "        self.V = tf.keras.layers.Dense(1)\n",
        "      # Intialize variables needed for Concat score function here\n",
        "      \n",
        "  \n",
        "  \n",
        "  def call(self,decoder_hidden_state,encoder_output):\n",
        "    '''\n",
        "      Attention mechanism takes two inputs current step -- decoder_hidden_state and all the encoder_outputs.\n",
        "      * Based on the scoring function we will find the score or similarity between decoder_hidden_state and encoder_output.\n",
        "        Multiply the score function with your encoder_outputs to get the context vector.\n",
        "        Function returns context vector and attention weights(softmax - scores)\n",
        "    '''\n",
        "    \n",
        "    if self.scoring_function == 'dot':\n",
        "        decoder_hidden_state = tf.expand_dims(decoder_hidden_state, 1)\n",
        "        scores=self.dot([ encoder_output,decoder_hidden_state])\n",
        "        scores=self.soft(scores)\n",
        "        con_vec=encoder_output*scores\n",
        "        con_vec=tf.math.reduce_sum(con_vec,axis=1)\n",
        "        # Implement Dot score function here\n",
        "        \n",
        "    elif self.scoring_function == 'general':\n",
        "        decoder_hidden_state = tf.expand_dims(decoder_hidden_state, 1)\n",
        "        scores=self.W1(decoder_hidden_state)\n",
        "        scores=self.dot([ encoder_output,scores])\n",
        "        scores=self.soft(scores)\n",
        "        con_vec=encoder_output*scores\n",
        "        con_vec=tf.math.reduce_sum(con_vec,axis=1)\n",
        "        # Implement General score function here\n",
        "        \n",
        "    elif self.scoring_function == 'concat':\n",
        "        decoder_hidden_state = tf.expand_dims(decoder_hidden_state, 1)\n",
        "        scores=decoder_hidden_state+encoder_output\n",
        "        scores=self.W1(scores)\n",
        "        scores=self.V(tf.nn.tanh(scores))\n",
        "        scores=self.soft(scores)\n",
        "        con_vec=encoder_output*scores\n",
        "        con_vec=tf.math.reduce_sum(con_vec,axis=1)\\\n",
        "\n",
        "        # Implement General score function here\n",
        "        \n",
        "    return con_vec,scores\n",
        "    \n",
        "    "
      ],
      "execution_count": 56,
      "outputs": []
    },
    {
      "cell_type": "markdown",
      "metadata": {
        "id": "ic-FNEbfL2DN"
      },
      "source": [
        "<font color='blue'>**OneStepDecoder**</font>"
      ]
    },
    {
      "cell_type": "code",
      "metadata": {
        "id": "Kc8m7lmOL097"
      },
      "source": [
        "class OneStepDecoder(tf.keras.Model):\n",
        "  def __init__(self,tar_vocab_size, embedding_dim, input_length, dec_units ,score_fun ,att_units):\n",
        "    super().__init__()\n",
        "    self.tar_vocab_size=tar_vocab_size\n",
        "    self.embedding_dim=embedding_dim\n",
        "    self.input_length=input_length\n",
        "    self.dec_units=dec_units\n",
        "    self.score_fun=score_fun\n",
        "    self.att_units=att_units\n",
        "    self.embedding = Embedding(input_dim=self.tar_vocab_size, output_dim=self.embedding_dim, input_length=self.input_length,embeddings_initializer=init,weights=[embedding_matrix], trainable=False)\n",
        "    self.lstm = LSTM(self.dec_units, return_state=True, return_sequences=True,kernel_initializer=init,dropout=0.2)\n",
        "    self.masking=Masking(mask_value=0)\n",
        "    self.Attention=Attention(self.score_fun, self.att_units)\n",
        "    self.d1 = tf.keras.layers.Dense(self.tar_vocab_size)\n",
        "\n",
        "      # Initialize decoder embedding layer, LSTM and any other objects needed\n",
        "\n",
        "\n",
        "  def call(self,input_to_decoder, encoder_output, state_h,state_c):\n",
        "    '''\n",
        "        One step decoder mechanisim step by step:\n",
        "      A. Pass the input_to_decoder to the embedding layer and then get the output(batch_size,1,embedding_dim)\n",
        "      B. Using the encoder_output and decoder hidden state, compute the context vector.\n",
        "      C. Concat the context vector with the step A output\n",
        "      D. Pass the Step-C output to LSTM/GRU and get the decoder output and states(hidden and cell state)\n",
        "      E. Pass the decoder output to dense layer(vocab size) and store the result into output.\n",
        "      F. Return the states from step D, output from Step E, attention weights from Step -B\n",
        "    '''\n",
        "    \n",
        "    output=self.embedding(input_to_decoder)\n",
        "    output=self.masking(output)\n",
        "    con_vec,scores=self.Attention(state_h,encoder_output)\n",
        "    #print(\"output embedding--->\",output.shape)\n",
        "    #print(\"convec embedding--->\",con_vec.shape)\n",
        "    \n",
        "    dec_input=tf.concat([tf.expand_dims(con_vec, 1), output], axis=-1)\n",
        "    #print(\"dec_inp.shape--->\",dec_input.shape)\n",
        "    output,state_h,state_c=self.lstm(dec_input,[state_h,state_c])\n",
        "    # output shape == (batch_size * 1, hidden_size)\n",
        "    output = tf.squeeze(output, 1)\n",
        "    #output = tf.reshape(output, (-1, output.shape[2]))\n",
        "#tf.shape(output)[2]\n",
        "    output=self.d1(output)\n",
        "    '''print(\"outputshape--->\",output.shape)\n",
        "    print(\"state_h--->\",state_h.shape)\n",
        "    print(\"state_c--->\",state_c.shape)\n",
        "    print(\"scores--->\",scores.shape)'''\n",
        "    return output,state_h,state_c,scores,con_vec\n",
        "    \n"
      ],
      "execution_count": 57,
      "outputs": []
    },
    {
      "cell_type": "markdown",
      "metadata": {
        "id": "6FHrurjUMGAi"
      },
      "source": [
        "<font color='blue'>**Decoder**</font>"
      ]
    },
    {
      "cell_type": "code",
      "metadata": {
        "id": "NV-x31rj6Hc4"
      },
      "source": [
        "class Decoder(tf.keras.Model):\n",
        "    def __init__(self,out_vocab_size, embedding_dim, input_length, dec_units ,score_fun ,att_units):\n",
        "        super().__init__()\n",
        "      #Intialize necessary variables and create an object from the class onestepdecoder\n",
        "        self.out_vocab_size=out_vocab_size \n",
        "        self.embedding_dim=embedding_dim\n",
        "        self.input_length=input_length \n",
        "        self.dec_units=dec_units \n",
        "        self.score_fun=score_fun\n",
        "        self.att_units=att_units\n",
        "        self.OneStep_Decoder=OneStepDecoder(tar_vocab_size=self.out_vocab_size, \n",
        "                                            embedding_dim=self.embedding_dim,\n",
        "                                            input_length=self.input_length, dec_units=self.dec_units \n",
        "                                            ,score_fun=self.score_fun ,att_units=self.att_units)\n",
        "        \n",
        "\n",
        "    #@tf.function\n",
        "    def call(self, input_to_decoder,encoder_output,decoder_hidden_state,decoder_cell_state ):\n",
        "        all_outputs=tf.TensorArray(tf.float32,size=20,name=\"output_arrays\")\n",
        "        #Initialize an empty Tensor array, that will store the outputs at each and every time step\n",
        "        #Create a tensor array as shown in the reference notebook\n",
        "        \n",
        "        for timestep in range(0,20):\n",
        "            output,decoder_hidden_state,decoder_cell_state,_,_=self.OneStep_Decoder(input_to_decoder[:,timestep:timestep+1],encoder_output,decoder_hidden_state,decoder_cell_state)\n",
        "            all_outputs=all_outputs.write(timestep,output)\n",
        "        all_outputs=tf.transpose(all_outputs.stack(),[1,0,2])\n",
        "        \n",
        "        return all_outputs\n",
        "        \n",
        "        #Iterate till the length of the decoder input\n",
        "            # Call onestepdecoder for each token in decoder_input\n",
        "            # Store the output in tensorarray\n",
        "        # Return the tensor array\n",
        "        \n",
        "        \n",
        "    "
      ],
      "execution_count": 58,
      "outputs": []
    },
    {
      "cell_type": "markdown",
      "metadata": {
        "id": "fC1T1EOoMTqC"
      },
      "source": [
        "<font color='blue'>**Encoder Decoder model**</font>"
      ]
    },
    {
      "cell_type": "code",
      "metadata": {
        "id": "FfqBIe20MT3D"
      },
      "source": [
        "class encoder_decoder(tf.keras.Model):\n",
        "  def __init__(self,inp_vocab_size,embedding_size,lstm_size,input_length_enc,out_vocab_size, embedding_dim, input_length_dec, dec_units ,score_fun ,att_units):\n",
        "    super().__init__()\n",
        "    self.inp_vocab_size=inp_vocab_size\n",
        "    self.embedding_size=embedding_size\n",
        "    self.lstm_size=lstm_size\n",
        "    self.input_length_enc=input_length_enc\n",
        "        #self.lstm_output = 0\n",
        "    self.lstm_state_h=0\n",
        "    self.lstm_state_c=0\n",
        "    self.out_vocab_size=out_vocab_size\n",
        "    self.embedding_dim=embedding_dim\n",
        "    self.input_length_dec=input_length_dec \n",
        "    self.dec_units=dec_units \n",
        "    self.score_fun=score_fun \n",
        "    self.att_units=att_units\n",
        "    self.decoder=Decoder(out_vocab_size=self.out_vocab_size+1, embedding_dim=self.embedding_dim, input_length=self.input_length_dec, \n",
        "                              dec_units=self.dec_units ,score_fun=self.score_fun ,att_units=self.att_units)\n",
        "    self.encoder=Encoder(inp_vocab_size=self.inp_vocab_size+1,embedding_size=self.embedding_size,lstm_size=self.lstm_size,input_length_enc=self.input_length_enc)\n",
        "    #Intialize objects from encoder decoder\n",
        "  def call(self,data):\n",
        "    #Intialize encoder states, Pass the encoder_sequence to the embedding layer\n",
        "    # Decoder initial states are encoder final states, Initialize it accordingly\n",
        "    # Pass the decoder sequence,encoder_output,decoder states to Decoder\n",
        "    # return the decoder output\n",
        "    input,output = data[0], data[1]\n",
        "    #print(input.shape)\n",
        "    #self.lstm_state_h,self.lstm_state_c=self.encoder.initialize_states(len(data[0]))\n",
        "    lstm_output_enc, self.lstm_state_h,self.lstm_state_c=self.encoder(input,training=True)\n",
        "    print(lstm_output_enc.shape)\n",
        "    all_outputs=self.decoder(output,lstm_output_enc,self.lstm_state_h,self.lstm_state_c)\n",
        "    #print(all_outputs.shape)\n",
        "    return all_outputs"
      ],
      "execution_count": 59,
      "outputs": []
    },
    {
      "cell_type": "code",
      "metadata": {
        "id": "KSsbLRRgYbbZ"
      },
      "source": [
        "\n",
        "loss_object = tf.keras.losses.SparseCategoricalCrossentropy(reduction='none',from_logits=True)\n",
        "\n",
        "def custom_lossfunction(real,pred):\n",
        "  mask = tf.math.logical_not(tf.math.equal(real, 0))\n",
        "  loss_ = loss_object(real, pred)\n",
        "\n",
        "  mask = tf.cast(mask, dtype=loss_.dtype)\n",
        "  loss_ *= mask\n",
        "\n",
        "  return tf.reduce_mean(loss_)\n",
        "  # Custom loss function that will not consider the loss for padded zeros.\n",
        "  # Refer https://www.tensorflow.org/tutorials/text/nmt_with_attention#define_the_optimizer_and_the_loss_function\n"
      ],
      "execution_count": 60,
      "outputs": []
    },
    {
      "cell_type": "code",
      "metadata": {
        "id": "08JpvFsBYBTV"
      },
      "source": [
        "#earlystopping\n",
        "import numpy as np\n",
        "\n",
        "\n",
        "class EarlyStoppingAtMinLoss(tf.keras.callbacks.Callback):\n",
        "    def __init__(self, patience=3):\n",
        "        super(EarlyStoppingAtMinLoss, self).__init__()\n",
        "        self.patience = patience\n",
        "        # best_weights to store the weights at which the minimum loss occurs.\n",
        "        self.best_weights = None\n",
        "\n",
        "    def on_train_begin(self, logs=None):\n",
        "        # The number of epoch it has waited when loss is no longer minimum.\n",
        "        self.wait = 0\n",
        "        # The epoch the training stops at.\n",
        "        self.stopped_epoch = 0\n",
        "        # Initialize the best as infinity.\n",
        "        #self.best = np.Inf\n",
        "\n",
        "    def on_epoch_end(self, epoch, logs=None):\n",
        "        current_loss = logs.get(\"loss\")\n",
        "        current_valloss = logs.get(\"val_loss\")\n",
        "        if np.less(current_valloss,current_loss):\n",
        "            #self.best = current\n",
        "            self.wait = 0\n",
        "            # Record the best weights if current results is better (less).\n",
        "            self.best_weights = self.model.get_weights()\n",
        "        else:\n",
        "            self.wait += 1\n",
        "            if self.wait >= self.patience:\n",
        "                self.stopped_epoch = epoch\n",
        "                self.model.stop_training = True\n",
        "                print(\"Restoring model weights from the end of the best epoch.\")\n",
        "                self.model.set_weights(self.best_weights)\n",
        "\n",
        "    def on_train_end(self, logs=None):\n",
        "        if self.stopped_epoch > 0:\n",
        "            print(\"Epoch %05d: early stopping\" % (self.stopped_epoch + 1))\n",
        "\n",
        "\n"
      ],
      "execution_count": 61,
      "outputs": []
    },
    {
      "cell_type": "code",
      "metadata": {
        "id": "rNqMyQv94lJ-"
      },
      "source": [
        "class save_modelweights(Callback):\r\n",
        "    def on_epoch_end(self, epoch, logs=None):\r\n",
        "      if (epoch+1)%5 == 0:\r\n",
        "        \r\n",
        "        self.model.save_weights(\"/content/\"+\"weights_\"+str(epoch+1),save_format=\"h5\",overwrite=False)\r\n",
        "        print(\" weights of  {} epoch are saved \".format(epoch+1))"
      ],
      "execution_count": 63,
      "outputs": []
    },
    {
      "cell_type": "markdown",
      "metadata": {
        "id": "mla6DtuXiqqn"
      },
      "source": [
        "### lstm - 256"
      ]
    },
    {
      "cell_type": "code",
      "metadata": {
        "colab": {
          "base_uri": "https://localhost:8080/"
        },
        "id": "Lv4dbk1Oiygq",
        "outputId": "34b7d61b-6255-4427-8045-5c690436ac37"
      },
      "source": [
        "modela_256  = encoder_decoder(inp_vocab_size=vocab_size_ita,embedding_size=100,lstm_size=256,input_length_enc=20,out_vocab_size=vocab_size_eng, embedding_dim=100, input_length_dec=20, dec_units=256,score_fun=\"dot\",att_units=128)\r\n",
        "optimizer = tf.keras.optimizers.Adam()\r\n",
        "modela_256.compile(optimizer=optimizer,loss=custom_lossfunction)\r\n",
        "train_steps=train.shape[0]//1024\r\n",
        "valid_steps=validation.shape[0]//1024\r\n",
        "history_256=modela_256.fit(train_dataloader, steps_per_epoch=train_steps, epochs=50, validation_data=train_dataloader, validation_steps=valid_steps,verbose=1,callbacks=[EarlyStoppingAtMinLoss(),save_modelweights()])\r\n",
        "modela_256.summary()"
      ],
      "execution_count": 67,
      "outputs": [
        {
          "output_type": "stream",
          "text": [
            "(1024, 20, 256)\n",
            "Epoch 1/50\n",
            "(None, None, 256)\n",
            "(None, None, 256)\n",
            "268/268 [==============================] - ETA: 0s - loss: 1.9098(None, None, 256)\n",
            "268/268 [==============================] - 74s 275ms/step - loss: 1.9098 - val_loss: 1.1363\n",
            "Epoch 2/50\n",
            "268/268 [==============================] - 68s 252ms/step - loss: 1.6834 - val_loss: 1.0259\n",
            "Epoch 3/50\n",
            "268/268 [==============================] - 67s 251ms/step - loss: 1.5347 - val_loss: 0.9472\n",
            "Epoch 4/50\n",
            "268/268 [==============================] - 67s 251ms/step - loss: 1.4911 - val_loss: 0.8770\n",
            "Epoch 5/50\n",
            "268/268 [==============================] - ETA: 0s - loss: 1.3822 weights of  5 epoch are saved \n",
            "268/268 [==============================] - 67s 250ms/step - loss: 1.3822 - val_loss: 0.8209\n",
            "Epoch 6/50\n",
            "268/268 [==============================] - 67s 251ms/step - loss: 1.3131 - val_loss: 0.7757\n",
            "Epoch 7/50\n",
            "268/268 [==============================] - 67s 249ms/step - loss: 1.2435 - val_loss: 0.7149\n",
            "Epoch 8/50\n",
            "268/268 [==============================] - 67s 250ms/step - loss: 1.1662 - val_loss: 0.6697\n",
            "Epoch 9/50\n",
            "268/268 [==============================] - 67s 250ms/step - loss: 1.0795 - val_loss: 0.6012\n",
            "Epoch 10/50\n",
            "268/268 [==============================] - ETA: 0s - loss: 1.0278 weights of  10 epoch are saved \n",
            "268/268 [==============================] - 67s 250ms/step - loss: 1.0278 - val_loss: 0.5489\n",
            "Epoch 11/50\n",
            "268/268 [==============================] - 67s 249ms/step - loss: 0.9306 - val_loss: 0.4990\n",
            "Epoch 12/50\n",
            "268/268 [==============================] - 67s 250ms/step - loss: 0.8617 - val_loss: 0.4621\n",
            "Epoch 13/50\n",
            "268/268 [==============================] - 67s 250ms/step - loss: 0.7990 - val_loss: 0.4141\n",
            "Epoch 14/50\n",
            "268/268 [==============================] - 67s 251ms/step - loss: 0.7524 - val_loss: 0.3724\n",
            "Epoch 15/50\n",
            "268/268 [==============================] - ETA: 0s - loss: 0.6904 weights of  15 epoch are saved \n",
            "268/268 [==============================] - 67s 251ms/step - loss: 0.6904 - val_loss: 0.3425\n",
            "Epoch 16/50\n",
            "268/268 [==============================] - 67s 250ms/step - loss: 0.6582 - val_loss: 0.3074\n",
            "Epoch 17/50\n",
            "268/268 [==============================] - 67s 249ms/step - loss: 0.5885 - val_loss: 0.2737\n",
            "Epoch 18/50\n",
            "268/268 [==============================] - 67s 250ms/step - loss: 0.5686 - val_loss: 0.2548\n",
            "Epoch 19/50\n",
            "268/268 [==============================] - 67s 250ms/step - loss: 0.5088 - val_loss: 0.2206\n",
            "Epoch 20/50\n",
            "268/268 [==============================] - ETA: 0s - loss: 0.4750 weights of  20 epoch are saved \n",
            "268/268 [==============================] - 67s 250ms/step - loss: 0.4750 - val_loss: 0.2000\n",
            "Epoch 21/50\n",
            "268/268 [==============================] - 67s 250ms/step - loss: 0.4355 - val_loss: 0.1918\n",
            "Epoch 22/50\n",
            "268/268 [==============================] - 67s 251ms/step - loss: 0.4051 - val_loss: 0.1707\n",
            "Epoch 23/50\n",
            "268/268 [==============================] - 67s 250ms/step - loss: 0.3736 - val_loss: 0.1505\n",
            "Epoch 24/50\n",
            "268/268 [==============================] - 67s 251ms/step - loss: 0.3648 - val_loss: 0.1407\n",
            "Epoch 25/50\n",
            "268/268 [==============================] - ETA: 0s - loss: 0.3276 weights of  25 epoch are saved \n",
            "268/268 [==============================] - 67s 250ms/step - loss: 0.3276 - val_loss: 0.1330\n",
            "Epoch 26/50\n",
            "268/268 [==============================] - 67s 250ms/step - loss: 0.3289 - val_loss: 0.1256\n",
            "Epoch 27/50\n",
            "268/268 [==============================] - 67s 250ms/step - loss: 0.2996 - val_loss: 0.1158\n",
            "Epoch 28/50\n",
            "268/268 [==============================] - 67s 250ms/step - loss: 0.2875 - val_loss: 0.1080\n",
            "Epoch 29/50\n",
            "268/268 [==============================] - 67s 250ms/step - loss: 0.2641 - val_loss: 0.1070\n",
            "Epoch 30/50\n",
            "268/268 [==============================] - ETA: 0s - loss: 0.2608 weights of  30 epoch are saved \n",
            "268/268 [==============================] - 67s 250ms/step - loss: 0.2608 - val_loss: 0.0990\n",
            "Epoch 31/50\n",
            "268/268 [==============================] - 67s 251ms/step - loss: 0.2281 - val_loss: 0.0930\n",
            "Epoch 32/50\n",
            "268/268 [==============================] - 67s 249ms/step - loss: 0.2354 - val_loss: 0.0901\n",
            "Epoch 33/50\n",
            "268/268 [==============================] - 67s 250ms/step - loss: 0.2233 - val_loss: 0.0858\n",
            "Epoch 34/50\n",
            "268/268 [==============================] - 67s 251ms/step - loss: 0.2088 - val_loss: 0.0808\n",
            "Epoch 35/50\n",
            "268/268 [==============================] - ETA: 0s - loss: 0.1967 weights of  35 epoch are saved \n",
            "268/268 [==============================] - 67s 250ms/step - loss: 0.1967 - val_loss: 0.0801\n",
            "Epoch 36/50\n",
            "268/268 [==============================] - 67s 250ms/step - loss: 0.1951 - val_loss: 0.0768\n",
            "Epoch 37/50\n",
            "268/268 [==============================] - 67s 250ms/step - loss: 0.1919 - val_loss: 0.0761\n",
            "Epoch 38/50\n",
            "268/268 [==============================] - 67s 250ms/step - loss: 0.1697 - val_loss: 0.0701\n",
            "Epoch 39/50\n",
            "268/268 [==============================] - 67s 250ms/step - loss: 0.1725 - val_loss: 0.0691\n",
            "Epoch 40/50\n",
            "268/268 [==============================] - ETA: 0s - loss: 0.1601 weights of  40 epoch are saved \n",
            "268/268 [==============================] - 67s 250ms/step - loss: 0.1601 - val_loss: 0.0662\n",
            "Epoch 41/50\n",
            "268/268 [==============================] - 67s 251ms/step - loss: 0.1492 - val_loss: 0.0654\n",
            "Epoch 42/50\n",
            "268/268 [==============================] - 67s 250ms/step - loss: 0.1635 - val_loss: 0.0655\n",
            "Epoch 43/50\n",
            "268/268 [==============================] - 67s 250ms/step - loss: 0.1528 - val_loss: 0.0620\n",
            "Epoch 44/50\n",
            "268/268 [==============================] - 67s 251ms/step - loss: 0.1411 - val_loss: 0.0599\n",
            "Epoch 45/50\n",
            "268/268 [==============================] - ETA: 0s - loss: 0.1400 weights of  45 epoch are saved \n",
            "268/268 [==============================] - 67s 250ms/step - loss: 0.1400 - val_loss: 0.0572\n",
            "Epoch 46/50\n",
            "268/268 [==============================] - 67s 250ms/step - loss: 0.1352 - val_loss: 0.0571\n",
            "Epoch 47/50\n",
            "268/268 [==============================] - 67s 251ms/step - loss: 0.1293 - val_loss: 0.0540\n",
            "Epoch 48/50\n",
            "268/268 [==============================] - 67s 249ms/step - loss: 0.1244 - val_loss: 0.0546\n",
            "Epoch 49/50\n",
            "268/268 [==============================] - 67s 249ms/step - loss: 0.1205 - val_loss: 0.0509\n",
            "Epoch 50/50\n",
            "268/268 [==============================] - ETA: 0s - loss: 0.1097 weights of  50 epoch are saved \n",
            "268/268 [==============================] - 67s 251ms/step - loss: 0.1097 - val_loss: 0.0491\n",
            "Model: \"encoder_decoder_1\"\n",
            "_________________________________________________________________\n",
            "Layer (type)                 Output Shape              Param #   \n",
            "=================================================================\n",
            "decoder_1 (Decoder)          multiple                  5208022   \n",
            "_________________________________________________________________\n",
            "encoder_1 (Encoder)          multiple                  2985768   \n",
            "=================================================================\n",
            "Total params: 8,193,790\n",
            "Trainable params: 6,910,790\n",
            "Non-trainable params: 1,283,000\n",
            "_________________________________________________________________\n"
          ],
          "name": "stdout"
        }
      ]
    },
    {
      "cell_type": "code",
      "metadata": {
        "colab": {
          "base_uri": "https://localhost:8080/",
          "height": 295
        },
        "id": "CbSkXqZRiyL7",
        "outputId": "7b0c2a39-4f31-4b46-bfc5-4da9a86f5736"
      },
      "source": [
        "import matplotlib.pyplot as plt\r\n",
        "plt.title('Learning Curves')\r\n",
        "plt.xlabel('Epoch')\r\n",
        "plt.ylabel('Cross Entropy')\r\n",
        "plt.plot(history_256.history['loss'], label='train')\r\n",
        "plt.plot(history_256.history['val_loss'], label='val')\r\n",
        "plt.legend()\r\n",
        "plt.show()\r\n"
      ],
      "execution_count": 68,
      "outputs": [
        {
          "output_type": "display_data",
          "data": {
            "image/png": "[encoded data removed]",
            "text/plain": [
              "<Figure size 432x288 with 1 Axes>"
            ]
          },
          "metadata": {
            "tags": [],
            "needs_background": "light"
          }
        }
      ]
    },
    {
      "cell_type": "code",
      "metadata": {
        "id": "GbvVAjIx-2f0"
      },
      "source": [
        "def evaluate(sentence):\r\n",
        "  attention_plot = np.zeros((20, 20))\r\n",
        "  fi=\"\"\r\n",
        "  for word in sentence.split():\r\n",
        "    if word not in tknizer_ita.word_index.keys():\r\n",
        "      word=\"\"\r\n",
        "    fi=fi+word+\" \"\r\n",
        "  sentence=fi\r\n",
        "  sentence = decontractions(sentence)\r\n",
        "  sentence=preprocess_ita(sentence)\r\n",
        "  inputs = [tknizer_ita.word_index[i] for i in sentence.split()]\r\n",
        "  inputs = tf.keras.preprocessing.sequence.pad_sequences([inputs],\r\n",
        "                                                         maxlen=20,\r\n",
        "                                                         padding='post')\r\n",
        "  inputs = tf.convert_to_tensor(inputs)\r\n",
        "  result = ''\r\n",
        "  hidden = [tf.zeros((1, 256))]\r\n",
        "  enc_out, enc_h,enc_c = modela_256.layers[1](inputs)\r\n",
        "  dec_h,dec_c = enc_h,enc_c\r\n",
        "  dec_input = tf.expand_dims([tknizer_eng.word_index['<start>']], 0)\r\n",
        "  for t in range(20):\r\n",
        "    predictions,dec_h,dec_c,attention_weights,con_vec = modela_256.layers[0].layers[0](dec_input, enc_out, dec_h,dec_c)\r\n",
        "    # storing the attention weights to plot later on\r\n",
        "    attention_weights = tf.reshape(attention_weights, (-1, ))\r\n",
        "    attention_plot[t] = attention_weights.numpy()\r\n",
        "    predicted_id = tf.argmax(predictions[0]).numpy()\r\n",
        "    result += tknizer_eng.index_word[predicted_id] + ' '\r\n",
        "    if tknizer_eng.index_word[predicted_id] == '<end>':\r\n",
        "      return result, sentence, attention_plot\r\n",
        "    # the predicted ID is fed back into the model\r\n",
        "    dec_input = tf.expand_dims([predicted_id], 0)\r\n",
        "  return result, sentence, attention_plot"
      ],
      "execution_count": 130,
      "outputs": []
    },
    {
      "cell_type": "code",
      "metadata": {
        "id": "PKnOvfaJk1er"
      },
      "source": [
        "import matplotlib\r\n",
        "import matplotlib.pyplot as plt\r\n",
        "import matplotlib.ticker as ticker\r\n",
        "import matplotlib.dates as mdates\r\n",
        "import numpy as np"
      ],
      "execution_count": 126,
      "outputs": []
    },
    {
      "cell_type": "markdown",
      "metadata": {
        "id": "Z5NhESYyMW_t"
      },
      "source": [
        "<font color='blue'>**Plot attention weights**</font>"
      ]
    },
    {
      "cell_type": "code",
      "metadata": {
        "id": "pkEY7SsBMtrC"
      },
      "source": [
        "def plot_attention(attention, sentence, predicted_sentence):\n",
        "  fig = plt.figure(figsize=(10,10))\n",
        "  ax = fig.add_subplot(1, 1, 1)\n",
        "  ax.matshow(attention, cmap='viridis')\n",
        "  fontdict = {'fontsize': 10}\n",
        "  ax.set_xticklabels([''] + sentence, fontdict=fontdict, rotation=90)\n",
        "  ax.set_yticklabels([''] + predicted_sentence, fontdict=fontdict)\n",
        "  ax.xaxis.set_major_locator(ticker.MultipleLocator(1))\n",
        "  ax.yaxis.set_major_locator(ticker.MultipleLocator(1))\n",
        "  plt.show()"
      ],
      "execution_count": 127,
      "outputs": []
    },
    {
      "cell_type": "code",
      "metadata": {
        "id": "c0GsAN2iNgcd"
      },
      "source": [
        "def translate(sentence):\r\n",
        "  result, sentence, attention_plot = evaluate(sentence)\r\n",
        "\r\n",
        "  print('Input: %s' % (sentence))\r\n",
        "  print('Predicted translation: {}'.format(result))\r\n",
        "\r\n",
        "  attention_plot = attention_plot[:len(result.split(' ')), :len(sentence.split(' '))]\r\n",
        "  plot_attention(attention_plot, sentence.split(' '), result.split(' '))"
      ],
      "execution_count": 128,
      "outputs": []
    },
    {
      "cell_type": "code",
      "metadata": {
        "colab": {
          "base_uri": "https://localhost:8080/",
          "height": 662
        },
        "id": "AE5EEiKR1xY9",
        "outputId": "716a9b3d-3f0e-4efb-b05a-9288a35f3e0a"
      },
      "source": [
        "translate(\"noi siamo pronti a ritornare\")"
      ],
      "execution_count": 163,
      "outputs": [
        {
          "output_type": "stream",
          "text": [
            "Input: noi siamo pronti a ritornare \n",
            "Predicted translation: we are ready to return <end> \n"
          ],
          "name": "stdout"
        },
        {
          "output_type": "display_data",
          "data": {
            "image/png": "[encoded data removed]",
            "text/plain": [
              "<Figure size 720x720 with 1 Axes>"
            ]
          },
          "metadata": {
            "tags": [],
            "needs_background": "light"
          }
        }
      ]
    },
    {
      "cell_type": "markdown",
      "metadata": {
        "id": "jmxIVOOQPWMu"
      },
      "source": [
        "<font color='blue'>**Calculate BLEU score**</font>"
      ]
    },
    {
      "cell_type": "code",
      "metadata": {
        "colab": {
          "base_uri": "https://localhost:8080/"
        },
        "id": "RFDHueIy4sLm",
        "outputId": "2a0995c2-6c32-41bd-aa02-79d1ce0b43da"
      },
      "source": [
        "from sklearn.utils import shuffle\r\n",
        "import nltk.translate.bleu_score as bleu\r\n",
        "df = shuffle(validation)[0:1000]\r\n",
        "score=0\r\n",
        "for (i,j) in zip(df[\"italian\"].values,df[\"english_out\"].apply(decontractions).apply(preprocess).values):\r\n",
        "    blue_score=bleu.sentence_bleu(j.split(), evaluate(i)[0].split())\r\n",
        "    score=score+blue_score\r\n",
        "score/1000"
      ],
      "execution_count": 132,
      "outputs": [
        {
          "output_type": "stream",
          "text": [
            "/usr/local/lib/python3.6/dist-packages/nltk/translate/bleu_score.py:490: UserWarning: \n",
            "Corpus/Sentence contains 0 counts of 2-gram overlaps.\n",
            "BLEU scores might be undesirable; use SmoothingFunction().\n",
            "  warnings.warn(_msg)\n"
          ],
          "name": "stderr"
        },
        {
          "output_type": "execute_result",
          "data": {
            "text/plain": [
              "0.2447617272710519"
            ]
          },
          "metadata": {
            "tags": []
          },
          "execution_count": 132
        }
      ]
    },
    {
      "cell_type": "code",
      "metadata": {
        "id": "Hk3O5vPj9EQ9"
      },
      "source": [
        "def evaluatess(sentence):\r\n",
        "  attention_plot = np.zeros((20, 20))\r\n",
        "  fi=\"\"\r\n",
        "  for word in sentence.split():\r\n",
        "    if word not in tknizer_ita.word_index.keys():\r\n",
        "      word=\"\"\r\n",
        "    fi=fi+word+\" \"\r\n",
        "  sentence=fi\r\n",
        "  sentence = decontractions(sentence)\r\n",
        "  sentence=preprocess_ita(sentence)\r\n",
        "  inputs = [tknizer_ita.word_index[i] for i in sentence.split()]\r\n",
        "  inputs = tf.keras.preprocessing.sequence.pad_sequences([inputs],\r\n",
        "                                                         maxlen=20,\r\n",
        "                                                         padding='post')\r\n",
        "  inputs = tf.convert_to_tensor(inputs)\r\n",
        "  result = ''\r\n",
        "  hidden = [tf.zeros((1, 256))]\r\n",
        "  enc_out, enc_h,enc_c = modela_256.layers[1](inputs)\r\n",
        "  dec_h,dec_c = enc_h,enc_c\r\n",
        "  dec_input = tf.expand_dims([tknizer_eng.word_index['<start>']], 0)\r\n",
        "  for t in range(20):\r\n",
        "    predictions,dec_h,dec_c,attention_weights,con_vec = modela_256.layers[0].layers[0](dec_input, enc_out, dec_h,dec_c)\r\n",
        "    # storing the attention weights to plot later on\r\n",
        "    attention_weights = tf.reshape(attention_weights, (-1, ))\r\n",
        "    attention_plot[t] = attention_weights.numpy()\r\n",
        "    predicted_id = tf.argmax(predictions[0]).numpy()\r\n",
        "    result += tknizer_eng.index_word[predicted_id] + ' '\r\n",
        "    if tknizer_eng.index_word[predicted_id] == '<end>':\r\n",
        "      return result\r\n",
        "    # the predicted ID is fed back into the model\r\n",
        "    dec_input = tf.expand_dims([predicted_id], 0)\r\n",
        "  return result"
      ],
      "execution_count": 144,
      "outputs": []
    },
    {
      "cell_type": "code",
      "metadata": {
        "id": "4MyjsbOMoUnn"
      },
      "source": [
        "Test[\"Eng_Predicted\"]=pd.DataFrame(df[\"italian\"].apply(evaluatess))"
      ],
      "execution_count": 149,
      "outputs": []
    },
    {
      "cell_type": "code",
      "metadata": {
        "id": "nvh_Ku1h9K2X"
      },
      "source": [
        "Test[\"Ennglish_actual\"]=df[\"english_out\"]"
      ],
      "execution_count": 150,
      "outputs": []
    },
    {
      "cell_type": "code",
      "metadata": {
        "id": "8CHcKp-h-K0D"
      },
      "source": [
        "Test[\"Input_Italian\"]=df[\"italian\"]"
      ],
      "execution_count": 151,
      "outputs": []
    },
    {
      "cell_type": "code",
      "metadata": {
        "colab": {
          "base_uri": "https://localhost:8080/",
          "height": 669
        },
        "id": "0EmL4WRe94oX",
        "outputId": "8bc8c267-4dc3-4624-f072-1fa1375b5bc1"
      },
      "source": [
        "Test[[\"Input_Italian\",\"Eng_Predicted\",\"Ennglish_actual\"]][900:920]"
      ],
      "execution_count": 161,
      "outputs": [
        {
          "output_type": "execute_result",
          "data": {
            "text/html": [
              "<div>\n",
              "<style scoped>\n",
              "    .dataframe tbody tr th:only-of-type {\n",
              "        vertical-align: middle;\n",
              "    }\n",
              "\n",
              "    .dataframe tbody tr th {\n",
              "        vertical-align: top;\n",
              "    }\n",
              "\n",
              "    .dataframe thead th {\n",
              "        text-align: right;\n",
              "    }\n",
              "</style>\n",
              "<table border=\"1\" class=\"dataframe\">\n",
              "  <thead>\n",
              "    <tr style=\"text-align: right;\">\n",
              "      <th></th>\n",
              "      <th>Input_Italian</th>\n",
              "      <th>Eng_Predicted</th>\n",
              "      <th>Ennglish_actual</th>\n",
              "    </tr>\n",
              "  </thead>\n",
              "  <tbody>\n",
              "    <tr>\n",
              "      <th>242378</th>\n",
              "      <td>tom non ha mai avuto una ragazza</td>\n",
              "      <td>tom has never had a girlfriend &lt;end&gt;</td>\n",
              "      <td>tom has never had a girlfriend &lt;end&gt;</td>\n",
              "    </tr>\n",
              "    <tr>\n",
              "      <th>132092</th>\n",
              "      <td>ho dimenticato di indossare una cintura</td>\n",
              "      <td>i forgot to wear a belt &lt;end&gt;</td>\n",
              "      <td>i forgot to wear a belt &lt;end&gt;</td>\n",
              "    </tr>\n",
              "    <tr>\n",
              "      <th>208174</th>\n",
              "      <td>quanto tempo dovrò aspettare</td>\n",
              "      <td>how long will i have to wait &lt;end&gt;</td>\n",
              "      <td>how long will i have to wait &lt;end&gt;</td>\n",
              "    </tr>\n",
              "    <tr>\n",
              "      <th>94035</th>\n",
              "      <td>tom è molto estroverso</td>\n",
              "      <td>tom is very outgoing &lt;end&gt;</td>\n",
              "      <td>tom is very outgoing &lt;end&gt;</td>\n",
              "    </tr>\n",
              "    <tr>\n",
              "      <th>130713</th>\n",
              "      <td>lui è basso ma forte</td>\n",
              "      <td>he is short but strong &lt;end&gt;</td>\n",
              "      <td>he is short but strong &lt;end&gt;</td>\n",
              "    </tr>\n",
              "    <tr>\n",
              "      <th>35181</th>\n",
              "      <td>sono venuta ieri</td>\n",
              "      <td>i came yesterday &lt;end&gt;</td>\n",
              "      <td>i came yesterday &lt;end&gt;</td>\n",
              "    </tr>\n",
              "    <tr>\n",
              "      <th>110652</th>\n",
              "      <td>noi siamo pronti a ritornare</td>\n",
              "      <td>we are ready to return &lt;end&gt;</td>\n",
              "      <td>we are ready to return &lt;end&gt;</td>\n",
              "    </tr>\n",
              "    <tr>\n",
              "      <th>61621</th>\n",
              "      <td>sono molto impegnato qui</td>\n",
              "      <td>i am very busy here &lt;end&gt;</td>\n",
              "      <td>i am very busy here &lt;end&gt;</td>\n",
              "    </tr>\n",
              "    <tr>\n",
              "      <th>170500</th>\n",
              "      <td>tom non è più stupido di te</td>\n",
              "      <td>tom is not dumber than you &lt;end&gt;</td>\n",
              "      <td>tom is not dumber than you &lt;end&gt;</td>\n",
              "    </tr>\n",
              "    <tr>\n",
              "      <th>293960</th>\n",
              "      <td>ecco un elenco di quello che dobbiamo comprare</td>\n",
              "      <td>here is a list of what we need to buy &lt;end&gt;</td>\n",
              "      <td>here is a list of what we need to buy &lt;end&gt;</td>\n",
              "    </tr>\n",
              "    <tr>\n",
              "      <th>298234</th>\n",
              "      <td>tom probabilmente lo farà da solo</td>\n",
              "      <td>tom will probably do that alone &lt;end&gt;</td>\n",
              "      <td>tom will probably do that by himself &lt;end&gt;</td>\n",
              "    </tr>\n",
              "    <tr>\n",
              "      <th>113828</th>\n",
              "      <td>eravate daccordo a farlo</td>\n",
              "      <td>did you agree to do it &lt;end&gt;</td>\n",
              "      <td>did you agree to do it &lt;end&gt;</td>\n",
              "    </tr>\n",
              "    <tr>\n",
              "      <th>283740</th>\n",
              "      <td>tom non ha mai pensato al futuro</td>\n",
              "      <td>tom never thought about the future &lt;end&gt;</td>\n",
              "      <td>tom never thought about the future &lt;end&gt;</td>\n",
              "    </tr>\n",
              "    <tr>\n",
              "      <th>327092</th>\n",
              "      <td>voglio cambiare diecimila yen in dollari</td>\n",
              "      <td>i want to put ten yen in a thousand dollars &lt;e...</td>\n",
              "      <td>i want to change ten thousand yen to dollars &lt;...</td>\n",
              "    </tr>\n",
              "    <tr>\n",
              "      <th>64064</th>\n",
              "      <td>sono andate assieme</td>\n",
              "      <td>they went together &lt;end&gt;</td>\n",
              "      <td>they went together &lt;end&gt;</td>\n",
              "    </tr>\n",
              "    <tr>\n",
              "      <th>141635</th>\n",
              "      <td>dove siete state voi due</td>\n",
              "      <td>where have you been two &lt;end&gt;</td>\n",
              "      <td>where have you two been &lt;end&gt;</td>\n",
              "    </tr>\n",
              "    <tr>\n",
              "      <th>30414</th>\n",
              "      <td>tom sembra più vecchio</td>\n",
              "      <td>tom looks older &lt;end&gt;</td>\n",
              "      <td>tom looks older &lt;end&gt;</td>\n",
              "    </tr>\n",
              "    <tr>\n",
              "      <th>59952</th>\n",
              "      <td>non ti ho mai incolpato</td>\n",
              "      <td>i never blamed you &lt;end&gt;</td>\n",
              "      <td>i never blamed you &lt;end&gt;</td>\n",
              "    </tr>\n",
              "    <tr>\n",
              "      <th>281225</th>\n",
              "      <td>cè spazio per unaltra persona</td>\n",
              "      <td>there is space for another person &lt;end&gt;</td>\n",
              "      <td>is there space for one more person &lt;end&gt;</td>\n",
              "    </tr>\n",
              "    <tr>\n",
              "      <th>281883</th>\n",
              "      <td>lei è troppo giovane per sapere la verità</td>\n",
              "      <td>you are too young to know the truth &lt;end&gt;</td>\n",
              "      <td>she is too young to know the truth &lt;end&gt;</td>\n",
              "    </tr>\n",
              "  </tbody>\n",
              "</table>\n",
              "</div>"
            ],
            "text/plain": [
              "                                         Input_Italian  ...                                    Ennglish_actual\n",
              "242378                tom non ha mai avuto una ragazza  ...               tom has never had a girlfriend <end>\n",
              "132092         ho dimenticato di indossare una cintura  ...                      i forgot to wear a belt <end>\n",
              "208174                    quanto tempo dovrò aspettare  ...                 how long will i have to wait <end>\n",
              "94035                           tom è molto estroverso  ...                         tom is very outgoing <end>\n",
              "130713                            lui è basso ma forte  ...                       he is short but strong <end>\n",
              "35181                                 sono venuta ieri  ...                             i came yesterday <end>\n",
              "110652                    noi siamo pronti a ritornare  ...                       we are ready to return <end>\n",
              "61621                         sono molto impegnato qui  ...                          i am very busy here <end>\n",
              "170500                     tom non è più stupido di te  ...                   tom is not dumber than you <end>\n",
              "293960  ecco un elenco di quello che dobbiamo comprare  ...        here is a list of what we need to buy <end>\n",
              "298234               tom probabilmente lo farà da solo  ...         tom will probably do that by himself <end>\n",
              "113828                        eravate daccordo a farlo  ...                       did you agree to do it <end>\n",
              "283740                tom non ha mai pensato al futuro  ...           tom never thought about the future <end>\n",
              "327092        voglio cambiare diecimila yen in dollari  ...  i want to change ten thousand yen to dollars <...\n",
              "64064                              sono andate assieme  ...                           they went together <end>\n",
              "141635                        dove siete state voi due  ...                      where have you two been <end>\n",
              "30414                           tom sembra più vecchio  ...                              tom looks older <end>\n",
              "59952                          non ti ho mai incolpato  ...                           i never blamed you <end>\n",
              "281225                   cè spazio per unaltra persona  ...           is there space for one more person <end>\n",
              "281883       lei è troppo giovane per sapere la verità  ...           she is too young to know the truth <end>\n",
              "\n",
              "[20 rows x 3 columns]"
            ]
          },
          "metadata": {
            "tags": []
          },
          "execution_count": 161
        }
      ]
    },
    {
      "cell_type": "code",
      "metadata": {
        "id": "-hrSK6jpA9Ou"
      },
      "source": [
        ""
      ],
      "execution_count": 157,
      "outputs": []
    }
  ]
}