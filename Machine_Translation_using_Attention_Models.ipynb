{
  "nbformat": 4,
  "nbformat_minor": 0,
  "metadata": {
    "accelerator": "GPU",
    "colab": {
      "name": "Machine Translation using Attention Models.ipynb",
      "provenance": [],
      "collapsed_sections": [],
      "machine_shape": "hm"
    },
    "kernelspec": {
      "display_name": "Python 3",
      "name": "python3"
    }
  },
  "cells": [
    {
      "cell_type": "markdown",
      "metadata": {
        "id": "view-in-github"
      },
      "source": [
        "<a href=\"https://colab.research.google.com/github/harsha-bsm/Deeplearning-/blob/main/Sample_MT_using_Encoder_Decoder_ArchitectureV2.ipynb\" target=\"_parent\"><img src=\"https://colab.research.google.com/assets/colab-badge.svg\" alt=\"Open In Colab\"/></a>"
      ]
    },
    {
      "cell_type": "code",
      "metadata": {
        "id": "ne3aScFEfJef"
      },
      "source": [
        ""
      ],
      "execution_count": null,
      "outputs": []
    },
    {
      "cell_type": "markdown",
      "metadata": {
        "id": "xQp1RU0Qf58n"
      },
      "source": [
        "#Encoder Decoder Architecture"
      ]
    },
    {
      "cell_type": "code",
      "metadata": {
        "colab": {
          "base_uri": "https://localhost:8080/"
        },
        "id": "R5HcLgUZbhea",
        "outputId": "72c8c0f8-fab1-40af-a360-c52dd36f6a08"
      },
      "source": [
        "%tensorflow_version 2.x\n",
        "import tensorflow as tf\n",
        "device_name = tf.test.gpu_device_name()\n",
        "if device_name != '/device:GPU:0':\n",
        "  raise SystemError('GPU device not found')\n",
        "print('Found GPU at: {}'.format(device_name))"
      ],
      "execution_count": null,
      "outputs": [
        {
          "output_type": "stream",
          "text": [
            "Found GPU at: /device:GPU:0\n"
          ],
          "name": "stdout"
        }
      ]
    },
    {
      "cell_type": "markdown",
      "metadata": {
        "id": "Gf8UN2xdlvs6"
      },
      "source": [
        ""
      ]
    },
    {
      "cell_type": "code",
      "metadata": {
        "id": "ScW-BT79sOOB"
      },
      "source": [
        ""
      ],
      "execution_count": null,
      "outputs": []
    },
    {
      "cell_type": "code",
      "metadata": {
        "colab": {
          "base_uri": "https://localhost:8080/"
        },
        "id": "fU80Ao-AGaob",
        "outputId": "be4002a2-25cd-4bf2-e0c4-7208c2e7c4f2"
      },
      "source": [
        "!wget http://www.manythings.org/anki/ita-eng.zip\n",
        "!unzip ita-eng.zip"
      ],
      "execution_count": null,
      "outputs": [
        {
          "output_type": "stream",
          "text": [
            "--2020-12-13 06:33:20--  http://www.manythings.org/anki/ita-eng.zip\n",
            "Resolving www.manythings.org (www.manythings.org)... 172.67.173.198, 104.24.109.196, 104.24.108.196, ...\n",
            "Connecting to www.manythings.org (www.manythings.org)|172.67.173.198|:80... connected.\n",
            "HTTP request sent, awaiting response... 200 OK\n",
            "Length: 7521114 (7.2M) [application/zip]\n",
            "Saving to: ‘ita-eng.zip’\n",
            "\n",
            "ita-eng.zip         100%[===================>]   7.17M  22.1MB/s    in 0.3s    \n",
            "\n",
            "2020-12-13 06:33:20 (22.1 MB/s) - ‘ita-eng.zip’ saved [7521114/7521114]\n",
            "\n",
            "Archive:  ita-eng.zip\n",
            "  inflating: ita.txt                 \n",
            "  inflating: _about.txt              \n"
          ],
          "name": "stdout"
        }
      ]
    },
    {
      "cell_type": "markdown",
      "metadata": {
        "id": "mYzCMdW0lux8"
      },
      "source": [
        ""
      ]
    },
    {
      "cell_type": "code",
      "metadata": {
        "colab": {
          "base_uri": "https://localhost:8080/"
        },
        "id": "G6aDMnsP89VN",
        "outputId": "b92ec224-10da-4238-c0dc-6ad177a50052"
      },
      "source": [
        "!wget https://www.dropbox.com/s/ddkmtqz01jc024u/glove.6B.100d.txt"
      ],
      "execution_count": null,
      "outputs": [
        {
          "output_type": "stream",
          "text": [
            "--2020-12-13 06:33:29--  https://www.dropbox.com/s/ddkmtqz01jc024u/glove.6B.100d.txt\n",
            "Resolving www.dropbox.com (www.dropbox.com)... 162.125.3.18, 2620:100:601b:18::a27d:812\n",
            "Connecting to www.dropbox.com (www.dropbox.com)|162.125.3.18|:443... connected.\n",
            "HTTP request sent, awaiting response... 301 Moved Permanently\n",
            "Location: /s/raw/ddkmtqz01jc024u/glove.6B.100d.txt [following]\n",
            "--2020-12-13 06:33:29--  https://www.dropbox.com/s/raw/ddkmtqz01jc024u/glove.6B.100d.txt\n",
            "Reusing existing connection to www.dropbox.com:443.\n",
            "HTTP request sent, awaiting response... 302 Found\n",
            "Location: https://uc613de0fa98c43d0054637ad9d4.dl.dropboxusercontent.com/cd/0/inline/BE_UQLgaTOUJR0aZECD3NCu1qm6jM3dZwDrHx3Qv27b_eyzXOAdA6dcoP02jezWdAh4U-68RaKteBseAbvJpUNYNTdHA8WJlg9Z0Jv_6aWL2FOQ64C8YHq3V1Q6ik31BUwE/file# [following]\n",
            "--2020-12-13 06:33:29--  https://uc613de0fa98c43d0054637ad9d4.dl.dropboxusercontent.com/cd/0/inline/BE_UQLgaTOUJR0aZECD3NCu1qm6jM3dZwDrHx3Qv27b_eyzXOAdA6dcoP02jezWdAh4U-68RaKteBseAbvJpUNYNTdHA8WJlg9Z0Jv_6aWL2FOQ64C8YHq3V1Q6ik31BUwE/file\n",
            "Resolving uc613de0fa98c43d0054637ad9d4.dl.dropboxusercontent.com (uc613de0fa98c43d0054637ad9d4.dl.dropboxusercontent.com)... 162.125.3.15, 2620:100:601b:15::a27d:80f\n",
            "Connecting to uc613de0fa98c43d0054637ad9d4.dl.dropboxusercontent.com (uc613de0fa98c43d0054637ad9d4.dl.dropboxusercontent.com)|162.125.3.15|:443... connected.\n",
            "HTTP request sent, awaiting response... 200 OK\n",
            "Length: 347116733 (331M) [text/plain]\n",
            "Saving to: ‘glove.6B.100d.txt’\n",
            "\n",
            "glove.6B.100d.txt   100%[===================>] 331.04M  83.0MB/s    in 4.0s    \n",
            "\n",
            "2020-12-13 06:33:34 (82.8 MB/s) - ‘glove.6B.100d.txt’ saved [347116733/347116733]\n",
            "\n"
          ],
          "name": "stdout"
        }
      ]
    },
    {
      "cell_type": "markdown",
      "metadata": {
        "id": "vmGWTdRmKRph"
      },
      "source": [
        "### <font color='blue'>**Loading data**</font>"
      ]
    },
    {
      "cell_type": "code",
      "metadata": {
        "id": "6KHw1l6QREOD"
      },
      "source": [
        "import matplotlib.pyplot as plt\n",
        "%matplotlib inline\n",
        "# import seaborn as sns\n",
        "import pandas as pd\n",
        "import re\n",
        "import tensorflow as tf\n",
        "from tensorflow.keras.layers import Embedding, LSTM, Dense,Concatenate,TimeDistributed,Masking,GRU\n",
        "from tensorflow.keras.models import Model\n",
        "from tensorflow.keras.preprocessing.text import Tokenizer\n",
        "from tensorflow.keras.preprocessing.sequence import pad_sequences\n",
        "\n",
        "import numpy as np"
      ],
      "execution_count": null,
      "outputs": []
    },
    {
      "cell_type": "code",
      "metadata": {
        "colab": {
          "base_uri": "https://localhost:8080/",
          "height": 207
        },
        "id": "9QqElB_nKZos",
        "outputId": "54d956b4-7413-4f63-b5ce-1eeb7b4475c3"
      },
      "source": [
        "with open('ita.txt', 'r', encoding=\"utf8\") as f:\n",
        "    eng=[]\n",
        "    ita=[]\n",
        "    for i in f.readlines():\n",
        "        eng.append(i.split(\"\\t\")[0])\n",
        "        ita.append(i.split(\"\\t\")[1])\n",
        "data = pd.DataFrame(data=list(zip(eng, ita)), columns=['english','italian'])\n",
        "print(data.shape)\n",
        "data.head()"
      ],
      "execution_count": null,
      "outputs": [
        {
          "output_type": "stream",
          "text": [
            "(343813, 2)\n"
          ],
          "name": "stdout"
        },
        {
          "output_type": "execute_result",
          "data": {
            "text/html": [
              "<div>\n",
              "<style scoped>\n",
              "    .dataframe tbody tr th:only-of-type {\n",
              "        vertical-align: middle;\n",
              "    }\n",
              "\n",
              "    .dataframe tbody tr th {\n",
              "        vertical-align: top;\n",
              "    }\n",
              "\n",
              "    .dataframe thead th {\n",
              "        text-align: right;\n",
              "    }\n",
              "</style>\n",
              "<table border=\"1\" class=\"dataframe\">\n",
              "  <thead>\n",
              "    <tr style=\"text-align: right;\">\n",
              "      <th></th>\n",
              "      <th>english</th>\n",
              "      <th>italian</th>\n",
              "    </tr>\n",
              "  </thead>\n",
              "  <tbody>\n",
              "    <tr>\n",
              "      <th>0</th>\n",
              "      <td>Hi.</td>\n",
              "      <td>Ciao!</td>\n",
              "    </tr>\n",
              "    <tr>\n",
              "      <th>1</th>\n",
              "      <td>Run!</td>\n",
              "      <td>Corri!</td>\n",
              "    </tr>\n",
              "    <tr>\n",
              "      <th>2</th>\n",
              "      <td>Run!</td>\n",
              "      <td>Corra!</td>\n",
              "    </tr>\n",
              "    <tr>\n",
              "      <th>3</th>\n",
              "      <td>Run!</td>\n",
              "      <td>Correte!</td>\n",
              "    </tr>\n",
              "    <tr>\n",
              "      <th>4</th>\n",
              "      <td>Who?</td>\n",
              "      <td>Chi?</td>\n",
              "    </tr>\n",
              "  </tbody>\n",
              "</table>\n",
              "</div>"
            ],
            "text/plain": [
              "  english   italian\n",
              "0     Hi.     Ciao!\n",
              "1    Run!    Corri!\n",
              "2    Run!    Corra!\n",
              "3    Run!  Correte!\n",
              "4    Who?      Chi?"
            ]
          },
          "metadata": {
            "tags": []
          },
          "execution_count": 5
        }
      ]
    },
    {
      "cell_type": "code",
      "metadata": {
        "colab": {
          "base_uri": "https://localhost:8080/",
          "height": 191
        },
        "id": "XnDyE0ljbYor",
        "outputId": "39873751-c778-4627-e2fb-5aa578544d7b"
      },
      "source": [
        "def decontractions(phrase):\n",
        "    # ref: https://stackoverflow.com/questions/19790188/expanding-english-language-contractions-in-python/47091490#47091490\"\"\"\n",
        "    # specific\n",
        "    phrase = re.sub(r\"won\\'t\", \"will not\", phrase)\n",
        "    phrase = re.sub(r\"can\\'t\", \"can not\", phrase)\n",
        "    phrase = re.sub(r\"won\\’t\", \"will not\", phrase)\n",
        "    phrase = re.sub(r\"can\\’t\", \"can not\", phrase)\n",
        "\n",
        "    # general\n",
        "    phrase = re.sub(r\"n\\'t\", \" not\", phrase)\n",
        "    phrase = re.sub(r\"\\'re\", \" are\", phrase)\n",
        "    phrase = re.sub(r\"\\'s\", \" is\", phrase)\n",
        "    phrase = re.sub(r\"\\'d\", \" would\", phrase)\n",
        "    phrase = re.sub(r\"\\'ll\", \" will\", phrase)\n",
        "    phrase = re.sub(r\"\\'t\", \" not\", phrase)\n",
        "    phrase = re.sub(r\"\\'ve\", \" have\", phrase)\n",
        "    phrase = re.sub(r\"\\'m\", \" am\", phrase)\n",
        "\n",
        "    phrase = re.sub(r\"n\\’t\", \" not\", phrase)\n",
        "    phrase = re.sub(r\"\\’re\", \" are\", phrase)\n",
        "    phrase = re.sub(r\"\\’s\", \" is\", phrase)\n",
        "    phrase = re.sub(r\"\\’d\", \" would\", phrase)\n",
        "    phrase = re.sub(r\"\\’ll\", \" will\", phrase)\n",
        "    phrase = re.sub(r\"\\’t\", \" not\", phrase)\n",
        "    phrase = re.sub(r\"\\’ve\", \" have\", phrase)\n",
        "    phrase = re.sub(r\"\\’m\", \" am\", phrase)\n",
        "\n",
        "    return phrase\n",
        "\n",
        "def preprocess(text):\n",
        "\n",
        "    text = text.lower()\n",
        "    text = decontractions(text)\n",
        "    text = re.sub('[^A-Za-z0-9 ]+', '', text)\n",
        "    return text\n",
        "\n",
        "def preprocess_ita(text):\n",
        "\n",
        "    \n",
        "    text = text.lower()\n",
        "    text = decontractions(text)\n",
        "    text = re.sub('[$)\\?\"’.°!;\\'€%:,(/]', '', text)\n",
        "    text = re.sub('\\u200b', ' ', text)\n",
        "    text = re.sub('\\xa0', ' ', text)\n",
        "    text = re.sub('-', ' ', text)\n",
        "    return text\n",
        "\n",
        "\n",
        "data['english'] = data['english'].apply(preprocess)\n",
        "data['italian'] = data['italian'].apply(preprocess_ita)\n",
        "data.head()"
      ],
      "execution_count": null,
      "outputs": [
        {
          "output_type": "execute_result",
          "data": {
            "text/html": [
              "<div>\n",
              "<style scoped>\n",
              "    .dataframe tbody tr th:only-of-type {\n",
              "        vertical-align: middle;\n",
              "    }\n",
              "\n",
              "    .dataframe tbody tr th {\n",
              "        vertical-align: top;\n",
              "    }\n",
              "\n",
              "    .dataframe thead th {\n",
              "        text-align: right;\n",
              "    }\n",
              "</style>\n",
              "<table border=\"1\" class=\"dataframe\">\n",
              "  <thead>\n",
              "    <tr style=\"text-align: right;\">\n",
              "      <th></th>\n",
              "      <th>english</th>\n",
              "      <th>italian</th>\n",
              "    </tr>\n",
              "  </thead>\n",
              "  <tbody>\n",
              "    <tr>\n",
              "      <th>0</th>\n",
              "      <td>hi</td>\n",
              "      <td>ciao</td>\n",
              "    </tr>\n",
              "    <tr>\n",
              "      <th>1</th>\n",
              "      <td>run</td>\n",
              "      <td>corri</td>\n",
              "    </tr>\n",
              "    <tr>\n",
              "      <th>2</th>\n",
              "      <td>run</td>\n",
              "      <td>corra</td>\n",
              "    </tr>\n",
              "    <tr>\n",
              "      <th>3</th>\n",
              "      <td>run</td>\n",
              "      <td>correte</td>\n",
              "    </tr>\n",
              "    <tr>\n",
              "      <th>4</th>\n",
              "      <td>who</td>\n",
              "      <td>chi</td>\n",
              "    </tr>\n",
              "  </tbody>\n",
              "</table>\n",
              "</div>"
            ],
            "text/plain": [
              "  english  italian\n",
              "0      hi     ciao\n",
              "1     run    corri\n",
              "2     run    corra\n",
              "3     run  correte\n",
              "4     who      chi"
            ]
          },
          "metadata": {
            "tags": []
          },
          "execution_count": 6
        }
      ]
    },
    {
      "cell_type": "code",
      "metadata": {
        "id": "IypVGvYKREOL",
        "scrolled": true
      },
      "source": [
        "ita_lengths = data['italian'].str.split().apply(len)\n",
        "eng_lengths = data['english'].str.split().apply(len)"
      ],
      "execution_count": null,
      "outputs": []
    },
    {
      "cell_type": "code",
      "metadata": {
        "colab": {
          "base_uri": "https://localhost:8080/"
        },
        "id": "YOWJ9c5jREON",
        "outputId": "7d651e40-222c-40a8-982e-a09f130b2498"
      },
      "source": [
        "for i in range(0,101,10):\n",
        "    print(i,np.percentile(ita_lengths, i))\n",
        "for i in range(90,101):\n",
        "    print(i,np.percentile(ita_lengths, i))\n",
        "for i in [99.1,99.2,99.3,99.4,99.5,99.6,99.7,99.8,99.9,100]:\n",
        "    print(i,np.percentile(ita_lengths, i))"
      ],
      "execution_count": null,
      "outputs": [
        {
          "output_type": "stream",
          "text": [
            "0 1.0\n",
            "10 3.0\n",
            "20 4.0\n",
            "30 4.0\n",
            "40 5.0\n",
            "50 5.0\n",
            "60 6.0\n",
            "70 6.0\n",
            "80 7.0\n",
            "90 8.0\n",
            "100 92.0\n",
            "90 8.0\n",
            "91 8.0\n",
            "92 8.0\n",
            "93 9.0\n",
            "94 9.0\n",
            "95 9.0\n",
            "96 10.0\n",
            "97 10.0\n",
            "98 11.0\n",
            "99 12.0\n",
            "100 92.0\n",
            "99.1 12.0\n",
            "99.2 12.0\n",
            "99.3 13.0\n",
            "99.4 13.0\n",
            "99.5 13.0\n",
            "99.6 14.0\n",
            "99.7 15.0\n",
            "99.8 16.0\n",
            "99.9 20.0\n",
            "100 92.0\n"
          ],
          "name": "stdout"
        }
      ]
    },
    {
      "cell_type": "code",
      "metadata": {
        "colab": {
          "base_uri": "https://localhost:8080/"
        },
        "id": "pGCOWtN1REOP",
        "outputId": "0ed6a33c-55c0-4390-f1e3-b9bd30e4cb5d"
      },
      "source": [
        "for i in range(0,101,10):\n",
        "    print(i,np.percentile(eng_lengths, i))\n",
        "for i in range(90,101):\n",
        "    print(i,np.percentile(eng_lengths, i))\n",
        "for i in [99.1,99.2,99.3,99.4,99.5,99.6,99.7,99.8,99.9,100]:\n",
        "    print(i,np.percentile(eng_lengths, i))"
      ],
      "execution_count": null,
      "outputs": [
        {
          "output_type": "stream",
          "text": [
            "0 1.0\n",
            "10 4.0\n",
            "20 4.0\n",
            "30 5.0\n",
            "40 5.0\n",
            "50 6.0\n",
            "60 6.0\n",
            "70 7.0\n",
            "80 7.0\n",
            "90 8.0\n",
            "100 101.0\n",
            "90 8.0\n",
            "91 9.0\n",
            "92 9.0\n",
            "93 9.0\n",
            "94 9.0\n",
            "95 9.0\n",
            "96 10.0\n",
            "97 10.0\n",
            "98 11.0\n",
            "99 12.0\n",
            "100 101.0\n",
            "99.1 12.0\n",
            "99.2 13.0\n",
            "99.3 13.0\n",
            "99.4 13.0\n",
            "99.5 14.0\n",
            "99.6 14.0\n",
            "99.7 15.0\n",
            "99.8 16.0\n",
            "99.9 21.18800000002375\n",
            "100 101.0\n"
          ],
          "name": "stdout"
        }
      ]
    },
    {
      "cell_type": "markdown",
      "metadata": {
        "id": "u-6pcMyuREOR"
      },
      "source": [
        "> <font color=\"blue\"><b>If you observe the values, 99.9% of the data points are having length &lt; 20, so select the sentences that have words &lt; 20 </b> </font>\n",
        "<br>\n",
        "<br>\n",
        "> <font color=\"green\"><b>Inorder to do the teacher forcing while training of seq-seq models, lets create two new columns, one with  &lt;start&gt; token at begining of the sentence and other column with &lt;end&gt; token at the end of the sequence</b></font>"
      ]
    },
    {
      "cell_type": "code",
      "metadata": {
        "colab": {
          "base_uri": "https://localhost:8080/",
          "height": 191
        },
        "id": "frL1wvLwSz7_",
        "outputId": "a82e0fda-1d8f-49fe-b063-dde296f036e5"
      },
      "source": [
        "data['italian_len'] = data['italian'].str.split().apply(len)\n",
        "data = data[data['italian_len'] < 20]\n",
        "\n",
        "data['english_len'] = data['english'].str.split().apply(len)\n",
        "data = data[data['english_len'] < 20]\n",
        "\n",
        "data['english_inp'] = '<start> ' + data['english'].astype(str)\n",
        "data['english_out'] = data['english'].astype(str) + ' <end>'\n",
        "\n",
        "data = data.drop(['english','italian_len','english_len'], axis=1)\n",
        "# only for the first sentance add a toke <end> so that we will have <end> in tokenizer\n",
        "data.head()"
      ],
      "execution_count": null,
      "outputs": [
        {
          "output_type": "execute_result",
          "data": {
            "text/html": [
              "<div>\n",
              "<style scoped>\n",
              "    .dataframe tbody tr th:only-of-type {\n",
              "        vertical-align: middle;\n",
              "    }\n",
              "\n",
              "    .dataframe tbody tr th {\n",
              "        vertical-align: top;\n",
              "    }\n",
              "\n",
              "    .dataframe thead th {\n",
              "        text-align: right;\n",
              "    }\n",
              "</style>\n",
              "<table border=\"1\" class=\"dataframe\">\n",
              "  <thead>\n",
              "    <tr style=\"text-align: right;\">\n",
              "      <th></th>\n",
              "      <th>italian</th>\n",
              "      <th>english_inp</th>\n",
              "      <th>english_out</th>\n",
              "    </tr>\n",
              "  </thead>\n",
              "  <tbody>\n",
              "    <tr>\n",
              "      <th>0</th>\n",
              "      <td>ciao</td>\n",
              "      <td>&lt;start&gt; hi</td>\n",
              "      <td>hi &lt;end&gt;</td>\n",
              "    </tr>\n",
              "    <tr>\n",
              "      <th>1</th>\n",
              "      <td>corri</td>\n",
              "      <td>&lt;start&gt; run</td>\n",
              "      <td>run &lt;end&gt;</td>\n",
              "    </tr>\n",
              "    <tr>\n",
              "      <th>2</th>\n",
              "      <td>corra</td>\n",
              "      <td>&lt;start&gt; run</td>\n",
              "      <td>run &lt;end&gt;</td>\n",
              "    </tr>\n",
              "    <tr>\n",
              "      <th>3</th>\n",
              "      <td>correte</td>\n",
              "      <td>&lt;start&gt; run</td>\n",
              "      <td>run &lt;end&gt;</td>\n",
              "    </tr>\n",
              "    <tr>\n",
              "      <th>4</th>\n",
              "      <td>chi</td>\n",
              "      <td>&lt;start&gt; who</td>\n",
              "      <td>who &lt;end&gt;</td>\n",
              "    </tr>\n",
              "  </tbody>\n",
              "</table>\n",
              "</div>"
            ],
            "text/plain": [
              "   italian  english_inp english_out\n",
              "0     ciao   <start> hi    hi <end>\n",
              "1    corri  <start> run   run <end>\n",
              "2    corra  <start> run   run <end>\n",
              "3  correte  <start> run   run <end>\n",
              "4      chi  <start> who   who <end>"
            ]
          },
          "metadata": {
            "tags": []
          },
          "execution_count": 10
        }
      ]
    },
    {
      "cell_type": "code",
      "metadata": {
        "colab": {
          "base_uri": "https://localhost:8080/",
          "height": 335
        },
        "id": "xZX5xAcmxqPo",
        "outputId": "28f4c9fa-91fb-4c9e-ab32-1473723d9993"
      },
      "source": [
        "data.sample(10)"
      ],
      "execution_count": null,
      "outputs": [
        {
          "output_type": "execute_result",
          "data": {
            "text/html": [
              "<div>\n",
              "<style scoped>\n",
              "    .dataframe tbody tr th:only-of-type {\n",
              "        vertical-align: middle;\n",
              "    }\n",
              "\n",
              "    .dataframe tbody tr th {\n",
              "        vertical-align: top;\n",
              "    }\n",
              "\n",
              "    .dataframe thead th {\n",
              "        text-align: right;\n",
              "    }\n",
              "</style>\n",
              "<table border=\"1\" class=\"dataframe\">\n",
              "  <thead>\n",
              "    <tr style=\"text-align: right;\">\n",
              "      <th></th>\n",
              "      <th>italian</th>\n",
              "      <th>english_inp</th>\n",
              "      <th>english_out</th>\n",
              "    </tr>\n",
              "  </thead>\n",
              "  <tbody>\n",
              "    <tr>\n",
              "      <th>24387</th>\n",
              "      <td>chiami mio marito</td>\n",
              "      <td>&lt;start&gt; call my husband</td>\n",
              "      <td>call my husband &lt;end&gt;</td>\n",
              "    </tr>\n",
              "    <tr>\n",
              "      <th>197423</th>\n",
              "      <td>io non ho mai avuto una morosa</td>\n",
              "      <td>&lt;start&gt; i have never had a girlfriend</td>\n",
              "      <td>i have never had a girlfriend &lt;end&gt;</td>\n",
              "    </tr>\n",
              "    <tr>\n",
              "      <th>217621</th>\n",
              "      <td>dobbiamo distruggere questo nastro</td>\n",
              "      <td>&lt;start&gt; we need to destroy this tape</td>\n",
              "      <td>we need to destroy this tape &lt;end&gt;</td>\n",
              "    </tr>\n",
              "    <tr>\n",
              "      <th>266332</th>\n",
              "      <td>tom ha minacciato mary con la sua pistola</td>\n",
              "      <td>&lt;start&gt; tom threatened mary with his gun</td>\n",
              "      <td>tom threatened mary with his gun &lt;end&gt;</td>\n",
              "    </tr>\n",
              "    <tr>\n",
              "      <th>213883</th>\n",
              "      <td>è esattamente ciò che volevo</td>\n",
              "      <td>&lt;start&gt; that is exactly what i wanted</td>\n",
              "      <td>that is exactly what i wanted &lt;end&gt;</td>\n",
              "    </tr>\n",
              "    <tr>\n",
              "      <th>245683</th>\n",
              "      <td>preferirebbe non fare niente</td>\n",
              "      <td>&lt;start&gt; would you prefer to do nothing</td>\n",
              "      <td>would you prefer to do nothing &lt;end&gt;</td>\n",
              "    </tr>\n",
              "    <tr>\n",
              "      <th>135835</th>\n",
              "      <td>non discutiamo ulteriormente</td>\n",
              "      <td>&lt;start&gt; let is not argue anymore</td>\n",
              "      <td>let is not argue anymore &lt;end&gt;</td>\n",
              "    </tr>\n",
              "    <tr>\n",
              "      <th>102931</th>\n",
              "      <td>lho visto nel parco</td>\n",
              "      <td>&lt;start&gt; i saw him in the park</td>\n",
              "      <td>i saw him in the park &lt;end&gt;</td>\n",
              "    </tr>\n",
              "    <tr>\n",
              "      <th>210495</th>\n",
              "      <td>penso che tom sia ancora sposato</td>\n",
              "      <td>&lt;start&gt; i think tom is still married</td>\n",
              "      <td>i think tom is still married &lt;end&gt;</td>\n",
              "    </tr>\n",
              "    <tr>\n",
              "      <th>222153</th>\n",
              "      <td>mi ha detto dellincidente</td>\n",
              "      <td>&lt;start&gt; he told me about the accident</td>\n",
              "      <td>he told me about the accident &lt;end&gt;</td>\n",
              "    </tr>\n",
              "  </tbody>\n",
              "</table>\n",
              "</div>"
            ],
            "text/plain": [
              "                                          italian  ...                             english_out\n",
              "24387                           chiami mio marito  ...                   call my husband <end>\n",
              "197423             io non ho mai avuto una morosa  ...     i have never had a girlfriend <end>\n",
              "217621         dobbiamo distruggere questo nastro  ...      we need to destroy this tape <end>\n",
              "266332  tom ha minacciato mary con la sua pistola  ...  tom threatened mary with his gun <end>\n",
              "213883               è esattamente ciò che volevo  ...     that is exactly what i wanted <end>\n",
              "245683               preferirebbe non fare niente  ...    would you prefer to do nothing <end>\n",
              "135835               non discutiamo ulteriormente  ...          let is not argue anymore <end>\n",
              "102931                        lho visto nel parco  ...             i saw him in the park <end>\n",
              "210495           penso che tom sia ancora sposato  ...      i think tom is still married <end>\n",
              "222153                  mi ha detto dellincidente  ...     he told me about the accident <end>\n",
              "\n",
              "[10 rows x 3 columns]"
            ]
          },
          "metadata": {
            "tags": []
          },
          "execution_count": 11
        }
      ]
    },
    {
      "cell_type": "code",
      "metadata": {
        "colab": {
          "base_uri": "https://localhost:8080/"
        },
        "id": "qja7kkVYeYC-",
        "outputId": "d1cc455a-429a-439e-efae-5b92216688cd"
      },
      "source": [
        "data.shape"
      ],
      "execution_count": null,
      "outputs": [
        {
          "output_type": "execute_result",
          "data": {
            "text/plain": [
              "(343388, 3)"
            ]
          },
          "metadata": {
            "tags": []
          },
          "execution_count": 12
        }
      ]
    },
    {
      "cell_type": "markdown",
      "metadata": {
        "id": "mNkmddZ1REOW"
      },
      "source": [
        "### Getting train and test "
      ]
    },
    {
      "cell_type": "code",
      "metadata": {
        "id": "UG50P52vhMu8"
      },
      "source": [
        "from sklearn.model_selection import train_test_split\n",
        "train, validation = train_test_split(data, test_size=0.2)"
      ],
      "execution_count": null,
      "outputs": []
    },
    {
      "cell_type": "code",
      "metadata": {
        "colab": {
          "base_uri": "https://localhost:8080/"
        },
        "id": "9mp9dzm1hwv-",
        "outputId": "adc37c4e-fbbd-41b5-cca0-6687809afeed"
      },
      "source": [
        "print(train.shape, validation.shape)\n",
        "# for one sentence we will be adding <end> token so that the tokanizer learns the word <end>\n",
        "# with this we can use only one tokenizer for both encoder output and decoder output\n",
        "train.iloc[0]['english_inp']= str(train.iloc[0]['english_inp'])+' <end>'\n",
        "train.iloc[0]['english_out']= str(train.iloc[0]['english_out'])+' <end>'"
      ],
      "execution_count": null,
      "outputs": [
        {
          "output_type": "stream",
          "text": [
            "(274710, 3) (68678, 3)\n"
          ],
          "name": "stdout"
        }
      ]
    },
    {
      "cell_type": "code",
      "metadata": {
        "colab": {
          "base_uri": "https://localhost:8080/",
          "height": 191
        },
        "id": "Su69ZPzTsxmn",
        "outputId": "18ce0c95-126b-411c-a0a6-c664edda9ad8"
      },
      "source": [
        "train.head()"
      ],
      "execution_count": null,
      "outputs": [
        {
          "output_type": "execute_result",
          "data": {
            "text/html": [
              "<div>\n",
              "<style scoped>\n",
              "    .dataframe tbody tr th:only-of-type {\n",
              "        vertical-align: middle;\n",
              "    }\n",
              "\n",
              "    .dataframe tbody tr th {\n",
              "        vertical-align: top;\n",
              "    }\n",
              "\n",
              "    .dataframe thead th {\n",
              "        text-align: right;\n",
              "    }\n",
              "</style>\n",
              "<table border=\"1\" class=\"dataframe\">\n",
              "  <thead>\n",
              "    <tr style=\"text-align: right;\">\n",
              "      <th></th>\n",
              "      <th>italian</th>\n",
              "      <th>english_inp</th>\n",
              "      <th>english_out</th>\n",
              "    </tr>\n",
              "  </thead>\n",
              "  <tbody>\n",
              "    <tr>\n",
              "      <th>149741</th>\n",
              "      <td>mi chiedo chi lo inventò</td>\n",
              "      <td>&lt;start&gt; i wonder who invented it &lt;end&gt;</td>\n",
              "      <td>i wonder who invented it &lt;end&gt; &lt;end&gt;</td>\n",
              "    </tr>\n",
              "    <tr>\n",
              "      <th>126234</th>\n",
              "      <td>cosa mi ha dato</td>\n",
              "      <td>&lt;start&gt; what have you given me</td>\n",
              "      <td>what have you given me &lt;end&gt;</td>\n",
              "    </tr>\n",
              "    <tr>\n",
              "      <th>7377</th>\n",
              "      <td>può parlare</td>\n",
              "      <td>&lt;start&gt; can you talk</td>\n",
              "      <td>can you talk &lt;end&gt;</td>\n",
              "    </tr>\n",
              "    <tr>\n",
              "      <th>287204</th>\n",
              "      <td>come si è sentito quando è successo</td>\n",
              "      <td>&lt;start&gt; how did you feel when that happened</td>\n",
              "      <td>how did you feel when that happened &lt;end&gt;</td>\n",
              "    </tr>\n",
              "    <tr>\n",
              "      <th>277219</th>\n",
              "      <td>lei è bravo a tennis vero</td>\n",
              "      <td>&lt;start&gt; you are good at tennis are not you</td>\n",
              "      <td>you are good at tennis are not you &lt;end&gt;</td>\n",
              "    </tr>\n",
              "  </tbody>\n",
              "</table>\n",
              "</div>"
            ],
            "text/plain": [
              "                                    italian  ...                                english_out\n",
              "149741             mi chiedo chi lo inventò  ...       i wonder who invented it <end> <end>\n",
              "126234                      cosa mi ha dato  ...               what have you given me <end>\n",
              "7377                            può parlare  ...                         can you talk <end>\n",
              "287204  come si è sentito quando è successo  ...  how did you feel when that happened <end>\n",
              "277219            lei è bravo a tennis vero  ...   you are good at tennis are not you <end>\n",
              "\n",
              "[5 rows x 3 columns]"
            ]
          },
          "metadata": {
            "tags": []
          },
          "execution_count": 15
        }
      ]
    },
    {
      "cell_type": "code",
      "metadata": {
        "colab": {
          "base_uri": "https://localhost:8080/",
          "height": 191
        },
        "id": "CGqQDR8FWV3D",
        "outputId": "eac1442d-4f6a-46a6-cb45-b07aa234b24e"
      },
      "source": [
        "validation.head()"
      ],
      "execution_count": null,
      "outputs": [
        {
          "output_type": "execute_result",
          "data": {
            "text/html": [
              "<div>\n",
              "<style scoped>\n",
              "    .dataframe tbody tr th:only-of-type {\n",
              "        vertical-align: middle;\n",
              "    }\n",
              "\n",
              "    .dataframe tbody tr th {\n",
              "        vertical-align: top;\n",
              "    }\n",
              "\n",
              "    .dataframe thead th {\n",
              "        text-align: right;\n",
              "    }\n",
              "</style>\n",
              "<table border=\"1\" class=\"dataframe\">\n",
              "  <thead>\n",
              "    <tr style=\"text-align: right;\">\n",
              "      <th></th>\n",
              "      <th>italian</th>\n",
              "      <th>english_inp</th>\n",
              "      <th>english_out</th>\n",
              "    </tr>\n",
              "  </thead>\n",
              "  <tbody>\n",
              "    <tr>\n",
              "      <th>175960</th>\n",
              "      <td>non mi dica di calmarmi</td>\n",
              "      <td>&lt;start&gt; do not tell me to calm down</td>\n",
              "      <td>do not tell me to calm down &lt;end&gt;</td>\n",
              "    </tr>\n",
              "    <tr>\n",
              "      <th>21951</th>\n",
              "      <td>tom è assente</td>\n",
              "      <td>&lt;start&gt; tom is missing</td>\n",
              "      <td>tom is missing &lt;end&gt;</td>\n",
              "    </tr>\n",
              "    <tr>\n",
              "      <th>167591</th>\n",
              "      <td>suonare la chitarra è divertente</td>\n",
              "      <td>&lt;start&gt; playing the guitar is fun</td>\n",
              "      <td>playing the guitar is fun &lt;end&gt;</td>\n",
              "    </tr>\n",
              "    <tr>\n",
              "      <th>207461</th>\n",
              "      <td>ha rifiutato il loro invito</td>\n",
              "      <td>&lt;start&gt; he declined their invitation</td>\n",
              "      <td>he declined their invitation &lt;end&gt;</td>\n",
              "    </tr>\n",
              "    <tr>\n",
              "      <th>238600</th>\n",
              "      <td>non lascerei che ti disturbasse</td>\n",
              "      <td>&lt;start&gt; i would not let that bother you</td>\n",
              "      <td>i would not let that bother you &lt;end&gt;</td>\n",
              "    </tr>\n",
              "  </tbody>\n",
              "</table>\n",
              "</div>"
            ],
            "text/plain": [
              "                                 italian  ...                            english_out\n",
              "175960           non mi dica di calmarmi  ...      do not tell me to calm down <end>\n",
              "21951                      tom è assente  ...                   tom is missing <end>\n",
              "167591  suonare la chitarra è divertente  ...        playing the guitar is fun <end>\n",
              "207461       ha rifiutato il loro invito  ...     he declined their invitation <end>\n",
              "238600   non lascerei che ti disturbasse  ...  i would not let that bother you <end>\n",
              "\n",
              "[5 rows x 3 columns]"
            ]
          },
          "metadata": {
            "tags": []
          },
          "execution_count": 16
        }
      ]
    },
    {
      "cell_type": "code",
      "metadata": {
        "id": "clrwEw6veYDT"
      },
      "source": [
        "\n",
        "import seaborn as sns"
      ],
      "execution_count": null,
      "outputs": []
    },
    {
      "cell_type": "code",
      "metadata": {
        "colab": {
          "base_uri": "https://localhost:8080/",
          "height": 545
        },
        "id": "cpuPONunjYKj",
        "outputId": "bfd1bdd9-cc0e-4613-c00c-0f8619d9ceec"
      },
      "source": [
        "ita_lengths = train['italian'].str.split().apply(len)\n",
        "eng_lengths = train['english_inp'].str.split().apply(len)\n",
        "import seaborn as sns\n",
        "sns.kdeplot(ita_lengths)\n",
        "plt.show()\n",
        "sns.kdeplot(eng_lengths)\n",
        "plt.show()"
      ],
      "execution_count": null,
      "outputs": [
        {
          "output_type": "display_data",
          "data": {
            "image/png": "[encoded data removed]",
            "text/plain": [
              "<Figure size 432x288 with 1 Axes>"
            ]
          },
          "metadata": {
            "tags": [],
            "needs_background": "light"
          }
        },
        {
          "output_type": "display_data",
          "data": {
            "image/png": "[encoded data removed]",
            "text/plain": [
              "<Figure size 432x288 with 1 Axes>"
            ]
          },
          "metadata": {
            "tags": [],
            "needs_background": "light"
          }
        }
      ]
    },
    {
      "cell_type": "markdown",
      "metadata": {
        "id": "msOiI69-REOi"
      },
      "source": [
        "### Creating Tokenizer on the train data and learning vocabulary"
      ]
    },
    {
      "cell_type": "markdown",
      "metadata": {
        "id": "T7xUCLf6REOi"
      },
      "source": [
        "> Note that we are fitting the tokenizer only on train data and check the filters for english, we need to remove symbols &lt; and &gt;"
      ]
    },
    {
      "cell_type": "code",
      "metadata": {
        "id": "GPa0ldDWkav8"
      },
      "source": [
        "tknizer_ita = Tokenizer()\n",
        "tknizer_ita.fit_on_texts(train['italian'].values)\n",
        "tknizer_eng = Tokenizer(filters='!\"#$%&()*+,-./:;=?@[\\\\]^_`{|}~\\t\\n')\n",
        "tknizer_eng.fit_on_texts(train['english_inp'].values)"
      ],
      "execution_count": null,
      "outputs": []
    },
    {
      "cell_type": "code",
      "metadata": {
        "id": "q33o6-vveYDg"
      },
      "source": [
        ""
      ],
      "execution_count": null,
      "outputs": []
    },
    {
      "cell_type": "code",
      "metadata": {
        "colab": {
          "base_uri": "https://localhost:8080/"
        },
        "id": "qpQ5iIxmeYDj",
        "outputId": "7e56e4a6-a364-4d34-836e-979452fe1e92"
      },
      "source": [
        "len(tknizer_eng.word_index.keys())"
      ],
      "execution_count": null,
      "outputs": [
        {
          "output_type": "execute_result",
          "data": {
            "text/plain": [
              "12821"
            ]
          },
          "metadata": {
            "tags": []
          },
          "execution_count": 20
        }
      ]
    },
    {
      "cell_type": "code",
      "metadata": {
        "colab": {
          "base_uri": "https://localhost:8080/"
        },
        "id": "hBb0yEYlCynz",
        "outputId": "7a4893f3-e637-4249-e04a-9697d074af44"
      },
      "source": [
        "vocab_size_eng=len(tknizer_eng.word_index.keys())\n",
        "print(vocab_size_eng)\n",
        "vocab_size_ita=len(tknizer_ita.word_index.keys())\n",
        "print(vocab_size_ita)"
      ],
      "execution_count": null,
      "outputs": [
        {
          "output_type": "stream",
          "text": [
            "12821\n",
            "26206\n"
          ],
          "name": "stdout"
        }
      ]
    },
    {
      "cell_type": "code",
      "metadata": {
        "id": "nm1uoAC-Nwuk",
        "colab": {
          "base_uri": "https://localhost:8080/"
        },
        "outputId": "5ef84d04-cdf7-4e6d-aeb6-027f766f476a"
      },
      "source": [
        "tknizer_eng.word_index['<start>'], tknizer_eng.word_index['<end>']"
      ],
      "execution_count": null,
      "outputs": [
        {
          "output_type": "execute_result",
          "data": {
            "text/plain": [
              "(1, 10115)"
            ]
          },
          "metadata": {
            "tags": []
          },
          "execution_count": 22
        }
      ]
    },
    {
      "cell_type": "code",
      "metadata": {
        "id": "1GUnVuHWeYDy",
        "colab": {
          "base_uri": "https://localhost:8080/"
        },
        "outputId": "0cc465e7-f406-48ab-e500-f5df1bccf4e4"
      },
      "source": [
        "data.shape"
      ],
      "execution_count": null,
      "outputs": [
        {
          "output_type": "execute_result",
          "data": {
            "text/plain": [
              "(343388, 3)"
            ]
          },
          "metadata": {
            "tags": []
          },
          "execution_count": 23
        }
      ]
    },
    {
      "cell_type": "markdown",
      "metadata": {
        "id": "xT2R3D6MREOp"
      },
      "source": [
        "### Creating embeddings for english sentences"
      ]
    },
    {
      "cell_type": "code",
      "metadata": {
        "id": "olaKF9rb_zz1"
      },
      "source": [
        "embeddings_index = dict()\n",
        "f = open('glove.6B.100d.txt')\n",
        "for line in f:\n",
        "    values = line.split()\n",
        "    word = values[0]\n",
        "    coefs = np.asarray(values[1:], dtype='float32')\n",
        "    embeddings_index[word] = coefs\n",
        "f.close()\n",
        "\n",
        "embedding_matrix = np.zeros((vocab_size_eng+1, 100))\n",
        "for word, i in tknizer_eng.word_index.items():\n",
        "    embedding_vector = embeddings_index.get(word)\n",
        "    if embedding_vector is not None:\n",
        "        embedding_matrix[i] = embedding_vector"
      ],
      "execution_count": null,
      "outputs": []
    },
    {
      "cell_type": "code",
      "metadata": {
        "id": "U_osICwIsulX"
      },
      "source": [
        "init=tf.keras.initializers.HeNormal(\n",
        "    seed=None\n",
        ")"
      ],
      "execution_count": null,
      "outputs": []
    },
    {
      "cell_type": "code",
      "metadata": {
        "id": "tuu2ypFSeYD9"
      },
      "source": [
        "class Encoder(tf.keras.Model):\n",
        "    def __init__(self,inp_vocab_size,embedding_size,lstm_size,input_length):\n",
        "        super().__init__()\n",
        "        self.inp_vocab_size=inp_vocab_size\n",
        "        self.embedding_size=embedding_size\n",
        "        self.lstm_size=lstm_size\n",
        "        self.input_length=input_length\n",
        "        self.lstm_output = 0\n",
        "        self.lstm_state_h=0\n",
        "        self.lstm_state_c=0\n",
        "    def build(self, input_shape):\n",
        "        self.embedding = Embedding(input_dim=self.inp_vocab_size, output_dim=self.embedding_size, input_length=self.input_length, name=\"embedding_layer_encoder\",embeddings_initializer=init)\n",
        "        self.masking=Masking(mask_value=0)\n",
        "        self.lstm = LSTM(self.lstm_size, return_state=True, name=\"Encoder_LSTM\",kernel_initializer=init,dropout=0.2)\n",
        "    def call(self,input_sequence,training=True):\n",
        "        input_embedd = self.embedding(input_sequence)\n",
        "        input_embedd=self.masking(input_embedd)\n",
        "        self.lstm_output, self.lstm_state_h,self.lstm_state_c = self.lstm(input_embedd)\n",
        "        return self.lstm_output, self.lstm_state_h,self.lstm_state_c\n",
        "        \n",
        "    def get_states(self):\n",
        "        return self.lstm_state_h,self.lstm_state_c"
      ],
      "execution_count": null,
      "outputs": []
    },
    {
      "cell_type": "code",
      "metadata": {
        "id": "lnRUKE2xeYEA"
      },
      "source": [
        "class Decoder(tf.keras.Model):\n",
        "    def __init__(self,out_vocab_size,embedding_size,lstm_size,input_length):\n",
        "        super().__init__()\n",
        "        self.out_vocab_size=out_vocab_size\n",
        "        self.embedding_size=embedding_size\n",
        "        self.lstm_size=lstm_size\n",
        "        self.input_length=input_length\n",
        "    def build(self, input_shape):\n",
        "        self.embedding = Embedding(input_dim=self.out_vocab_size, output_dim=self.embedding_size, input_length=None,\n",
        "                           name=\"embedding_layer_decoder\",weights=[embedding_matrix], trainable=False)\n",
        "        self.masking=Masking(mask_value=0)\n",
        "        self.lstm = LSTM(self.lstm_size, return_state=True, return_sequences=True, name=\"Decoder_LSTM\",kernel_initializer=init,dropout=0.2)\n",
        "    def call(self,target_sentances,state_h,state_c):\n",
        "        #print(\"DECODER ==> IN PUT SQUENCES SHAPE :\",target_sentances.shape)\n",
        "        target_embedd           = self.embedding(target_sentances)\n",
        "        target_embedd=self.masking(target_embedd)\n",
        "        #print(\"WE ARE INITIALIZING DECODER WITH ENCODER STATES :\",state_h.shape, state_c.shape)\n",
        "        lstm_output,dec_h,dec_c       = self.lstm(target_embedd, initial_state=[state_h, state_c])\n",
        "        return lstm_output,dec_h,dec_c"
      ],
      "execution_count": null,
      "outputs": []
    },
    {
      "cell_type": "code",
      "metadata": {
        "id": "9i_U9QEPeYEE"
      },
      "source": [
        "class Encoder_decoder(tf.keras.Model):\n",
        "    def __init__(self,encoder_input_length,decoder_input_length,output_vocabsize):\n",
        "        super().__init__()\n",
        "        self.encoder = Encoder(inp_vocab_size=vocab_size_ita+1,embedding_size=100,input_length=encoder_input_length, lstm_size=256)\n",
        "        self.decoder = Decoder(out_vocab_size=vocab_size_eng+1, embedding_size=100, input_length=decoder_input_length, lstm_size=256)\n",
        "        self.dense   = TimeDistributed(Dense(units=output_vocabsize+1,activation=\"softmax\",kernel_initializer=init)) \n",
        "    def call(self, data):\n",
        "        input,output = data[0], data[1]\n",
        "        #print(\"=\"*20, \"ENCODER\", \"=\"*20)\n",
        "        encoder_output, encoder_h, encoder_c = self.encoder(input)\n",
        "        decoder_output                       = self.decoder(output, encoder_h, encoder_c)[0]\n",
        "        output                               = self.dense(decoder_output)\n",
        "        return output    "
      ],
      "execution_count": null,
      "outputs": []
    },
    {
      "cell_type": "code",
      "metadata": {
        "id": "t84vq_VIx42a"
      },
      "source": [
        "class Dataset:\n",
        "    def __init__(self, data, tknizer_ita, tknizer_eng, max_len):\n",
        "        self.encoder_inps = data['italian'].values\n",
        "        self.decoder_inps = data['english_inp'].values\n",
        "        self.decoder_outs = data['english_out'].values\n",
        "        self.tknizer_eng = tknizer_eng\n",
        "        self.tknizer_ita = tknizer_ita\n",
        "        self.max_len = max_len\n",
        "\n",
        "    def __getitem__(self, i):\n",
        "        self.encoder_seq = self.tknizer_ita.texts_to_sequences([self.encoder_inps[i]]) # need to pass list of values\n",
        "        self.decoder_inp_seq = self.tknizer_eng.texts_to_sequences([self.decoder_inps[i]])\n",
        "        self.decoder_out_seq = self.tknizer_eng.texts_to_sequences([self.decoder_outs[i]])\n",
        "\n",
        "        self.encoder_seq = pad_sequences(self.encoder_seq, maxlen=self.max_len, dtype='int32', padding='post')\n",
        "        self.decoder_inp_seq = pad_sequences(self.decoder_inp_seq, maxlen=self.max_len, dtype='int32', padding='post')\n",
        "        self.decoder_out_seq = pad_sequences(self.decoder_out_seq, maxlen=self.max_len, dtype='int32', padding='post')\n",
        "        return self.encoder_seq, self.decoder_inp_seq, self.decoder_out_seq\n",
        "\n",
        "    def __len__(self): # your model.fit_gen requires this function\n",
        "        return len(self.encoder_inps)\n",
        "\n",
        "    \n",
        "class Dataloder(tf.keras.utils.Sequence):    \n",
        "    def __init__(self, dataset, batch_size=1):\n",
        "        self.dataset = dataset\n",
        "        self.batch_size = batch_size\n",
        "        self.indexes = np.arange(len(self.dataset.encoder_inps))\n",
        "\n",
        "\n",
        "    def __getitem__(self, i):\n",
        "        start = i * self.batch_size\n",
        "        stop = (i + 1) * self.batch_size\n",
        "        data = []\n",
        "        for j in range(start, stop):\n",
        "            data.append(self.dataset[j])\n",
        "\n",
        "        batch = [np.squeeze(np.stack(samples, axis=1), axis=0) for samples in zip(*data)]\n",
        "        # we are creating data like ([italian, english_inp], english_out) these are already converted into seq\n",
        "        return tuple([[batch[0],batch[1]],batch[2]])\n",
        "        \n",
        "\n",
        "    def __len__(self):  # your model.fit_gen requires this function\n",
        "        return len(self.indexes) // self.batch_size\n",
        "\n",
        "    def on_epoch_end(self):\n",
        "        self.indexes = np.random.permutation(self.indexes)"
      ],
      "execution_count": null,
      "outputs": []
    },
    {
      "cell_type": "code",
      "metadata": {
        "colab": {
          "base_uri": "https://localhost:8080/"
        },
        "id": "4pJIHRGHeYEN",
        "outputId": "20337842-b4a9-4a60-f299-1fcaeda6908d"
      },
      "source": [
        "train_dataset = Dataset(data, tknizer_ita, tknizer_eng, 20)\n",
        "print(train_dataset)\n",
        "\n",
        "test_dataset  = Dataset(validation, tknizer_ita, tknizer_eng, 20)\n",
        "\n",
        "train_dataloader = Dataloder(train_dataset, batch_size=1024)\n",
        "print(train_dataloader)\n",
        "test_dataloader = Dataloder(test_dataset, batch_size=1024)\n",
        "\n",
        "\n",
        "print(train_dataloader[0][0][0].shape, train_dataloader[0][0][1].shape, train_dataloader[0][1].shape)"
      ],
      "execution_count": null,
      "outputs": [
        {
          "output_type": "stream",
          "text": [
            "<__main__.Dataset object at 0x7f8cab7183c8>\n",
            "<__main__.Dataloder object at 0x7f8cab718390>\n",
            "(1024, 20) (1024, 20) (1024, 20)\n"
          ],
          "name": "stdout"
        }
      ]
    },
    {
      "cell_type": "code",
      "metadata": {
        "id": "JxxS2YdbcvsO"
      },
      "source": [
        "for i in train_dataloader:\r\n",
        "  break"
      ],
      "execution_count": null,
      "outputs": []
    },
    {
      "cell_type": "code",
      "metadata": {
        "colab": {
          "base_uri": "https://localhost:8080/"
        },
        "id": "xBlA-G_5c6YJ",
        "outputId": "8b87ea7f-39a3-4031-ce1d-fbaf0ff9115d"
      },
      "source": [
        "i[0][0]"
      ],
      "execution_count": null,
      "outputs": [
        {
          "output_type": "execute_result",
          "data": {
            "text/plain": [
              "array([[4346,    0,    0, ...,    0,    0,    0],\n",
              "       [7750,    0,    0, ...,    0,    0,    0],\n",
              "       [7917,    0,    0, ...,    0,    0,    0],\n",
              "       ...,\n",
              "       [1324,    1,    0, ...,    0,    0,    0],\n",
              "       [7379,    5,    1, ...,    0,    0,    0],\n",
              "       [4103,    5,    1, ...,    0,    0,    0]], dtype=int32)"
            ]
          },
          "metadata": {
            "tags": []
          },
          "execution_count": 76
        }
      ]
    },
    {
      "cell_type": "markdown",
      "metadata": {
        "id": "gn8eD59Ga_Dp"
      },
      "source": [
        "### Callbacks\n"
      ]
    },
    {
      "cell_type": "code",
      "metadata": {
        "id": "Fs5NuPDobCox"
      },
      "source": [
        "#earlystopping\n",
        "import numpy as np\n",
        "\n",
        "\n",
        "class EarlyStoppingAtMinLoss(tf.keras.callbacks.Callback):\n",
        "    \"\"\"Stop training when the loss is at its min, i.e. the loss stops decreasing.\n",
        "\n",
        "  Arguments:\n",
        "      patience: Number of epochs to wait after min has been hit. After this\n",
        "      number of no improvement, training stops.\n",
        "  \"\"\"\n",
        "\n",
        "    def __init__(self, patience=3):\n",
        "        super(EarlyStoppingAtMinLoss, self).__init__()\n",
        "        self.patience = patience\n",
        "        # best_weights to store the weights at which the minimum loss occurs.\n",
        "        self.best_weights = None\n",
        "\n",
        "    def on_train_begin(self, logs=None):\n",
        "        # The number of epoch it has waited when loss is no longer minimum.\n",
        "        self.wait = 0\n",
        "        # The epoch the training stops at.\n",
        "        self.stopped_epoch = 0\n",
        "        # Initialize the best as infinity.\n",
        "        #self.best = np.Inf\n",
        "\n",
        "    def on_epoch_end(self, epoch, logs=None):\n",
        "        current_loss = logs.get(\"loss\")\n",
        "        current_valloss = logs.get(\"val_loss\")\n",
        "        if np.less(current_valloss,current_loss):\n",
        "            #self.best = current\n",
        "            self.wait = 0\n",
        "            # Record the best weights if current results is better (less).\n",
        "            self.best_weights = self.model.get_weights()\n",
        "        else:\n",
        "            self.wait += 1\n",
        "            if self.wait >= self.patience:\n",
        "                self.stopped_epoch = epoch\n",
        "                self.model.stop_training = True\n",
        "                print(\"Restoring model weights from the end of the best epoch.\")\n",
        "                self.model.set_weights(self.best_weights)\n",
        "\n",
        "    def on_train_end(self, logs=None):\n",
        "        if self.stopped_epoch > 0:\n",
        "            print(\"Epoch %05d: early stopping\" % (self.stopped_epoch + 1))\n",
        "\n",
        "\n"
      ],
      "execution_count": null,
      "outputs": []
    },
    {
      "cell_type": "code",
      "metadata": {
        "id": "4XSrqL3WV1-i"
      },
      "source": [
        "\r\n",
        "loss_object = tf.keras.losses.SparseCategoricalCrossentropy( reduction='none')\r\n",
        "\r\n",
        "def custom_lossfunction(targets,logits):\r\n",
        "  mask = tf.math.logical_not(tf.math.equal(targets, 0))\r\n",
        "  loss_ = loss_object(targets, logits)\r\n",
        "\r\n",
        "  mask = tf.cast(mask, dtype=loss_.dtype)\r\n",
        "  loss_ *= mask\r\n",
        "\r\n",
        "  return tf.reduce_mean(loss_)\r\n",
        "  # Custom loss function that will not consider the loss for padded zeros.\r\n",
        "  # Refer https://www.tensorflow.org/tutorials/text/nmt_with_attention#define_the_optimizer_and_the_loss_function\r\n"
      ],
      "execution_count": null,
      "outputs": []
    },
    {
      "cell_type": "code",
      "metadata": {
        "colab": {
          "base_uri": "https://localhost:8080/"
        },
        "id": "rh03kABXeYEW",
        "outputId": "ab26cfc3-e6a6-4dc4-e400-10a052cb3834"
      },
      "source": [
        "model  = Encoder_decoder(encoder_input_length=20,decoder_input_length=None,output_vocabsize=vocab_size_eng)\n",
        "optimizer = tf.keras.optimizers.Adam()\n",
        "model.compile(optimizer=optimizer,loss=custom_lossfunction)\n",
        "train_steps=train.shape[0]//1024\n",
        "valid_steps=validation.shape[0]//1024\n",
        "history=model.fit(train_dataloader, steps_per_epoch=train_steps, epochs=50, validation_data=train_dataloader, validation_steps=valid_steps,verbose=1)\n",
        "model.summary()"
      ],
      "execution_count": null,
      "outputs": [
        {
          "output_type": "stream",
          "text": [
            "Epoch 1/50\n",
            "268/268 [==============================] - 74s 277ms/step - loss: 0.6439 - val_loss: 0.2448\n",
            "Epoch 2/50\n",
            "268/268 [==============================] - 73s 271ms/step - loss: 0.5680 - val_loss: 0.2229\n",
            "Epoch 3/50\n",
            "268/268 [==============================] - 72s 270ms/step - loss: 0.5402 - val_loss: 0.2209\n",
            "Epoch 4/50\n",
            "268/268 [==============================] - 73s 271ms/step - loss: 0.5078 - val_loss: 0.2064\n",
            "Epoch 5/50\n",
            "268/268 [==============================] - 73s 272ms/step - loss: 0.4866 - val_loss: 0.1987\n",
            "Epoch 6/50\n",
            "268/268 [==============================] - 73s 272ms/step - loss: 0.4456 - val_loss: 0.1844\n",
            "Epoch 7/50\n",
            "268/268 [==============================] - 73s 271ms/step - loss: 0.4463 - val_loss: 0.1738\n",
            "Epoch 8/50\n",
            "268/268 [==============================] - 73s 272ms/step - loss: 0.4097 - val_loss: 0.1597\n",
            "Epoch 9/50\n",
            "268/268 [==============================] - 73s 272ms/step - loss: 0.3822 - val_loss: 0.1494\n",
            "Epoch 10/50\n",
            "268/268 [==============================] - 73s 271ms/step - loss: 0.3674 - val_loss: 0.1388\n",
            "Epoch 11/50\n",
            "268/268 [==============================] - 73s 272ms/step - loss: 0.3359 - val_loss: 0.1319\n",
            "Epoch 12/50\n",
            "268/268 [==============================] - 73s 271ms/step - loss: 0.3145 - val_loss: 0.1242\n",
            "Epoch 13/50\n",
            "268/268 [==============================] - 73s 272ms/step - loss: 0.2871 - val_loss: 0.1113\n",
            "Epoch 14/50\n",
            "268/268 [==============================] - 73s 271ms/step - loss: 0.2796 - val_loss: 0.1058\n",
            "Epoch 15/50\n",
            "268/268 [==============================] - 73s 272ms/step - loss: 0.2592 - val_loss: 0.1002\n",
            "Epoch 16/50\n",
            "268/268 [==============================] - 73s 271ms/step - loss: 0.2411 - val_loss: 0.0941\n",
            "Epoch 17/50\n",
            "268/268 [==============================] - 73s 272ms/step - loss: 0.2243 - val_loss: 0.0900\n",
            "Epoch 18/50\n",
            "268/268 [==============================] - 73s 272ms/step - loss: 0.2215 - val_loss: 0.0862\n",
            "Epoch 19/50\n",
            "268/268 [==============================] - 73s 272ms/step - loss: 0.2091 - val_loss: 0.0840\n",
            "Epoch 20/50\n",
            "268/268 [==============================] - 73s 273ms/step - loss: 0.1984 - val_loss: 0.0795\n",
            "Epoch 21/50\n",
            "268/268 [==============================] - 73s 272ms/step - loss: 0.1939 - val_loss: 0.0812\n",
            "Epoch 22/50\n",
            "268/268 [==============================] - 73s 273ms/step - loss: 0.1828 - val_loss: 0.0745\n",
            "Epoch 23/50\n",
            "268/268 [==============================] - 73s 273ms/step - loss: 0.1761 - val_loss: 0.0723\n",
            "Epoch 24/50\n",
            "268/268 [==============================] - 73s 272ms/step - loss: 0.1699 - val_loss: 0.0696\n",
            "Epoch 25/50\n",
            "268/268 [==============================] - 73s 274ms/step - loss: 0.1615 - val_loss: 0.0688\n",
            "Epoch 26/50\n",
            "268/268 [==============================] - 73s 272ms/step - loss: 0.1606 - val_loss: 0.0656\n",
            "Epoch 27/50\n",
            "268/268 [==============================] - 73s 273ms/step - loss: 0.1533 - val_loss: 0.0642\n",
            "Epoch 28/50\n",
            "268/268 [==============================] - 73s 273ms/step - loss: 0.1456 - val_loss: 0.0621\n",
            "Epoch 29/50\n",
            "268/268 [==============================] - 73s 272ms/step - loss: 0.1431 - val_loss: 0.0606\n",
            "Epoch 30/50\n",
            "268/268 [==============================] - 73s 273ms/step - loss: 0.1418 - val_loss: 0.0601\n",
            "Epoch 31/50\n",
            "268/268 [==============================] - 73s 272ms/step - loss: 0.1390 - val_loss: 0.0578\n",
            "Epoch 32/50\n",
            "268/268 [==============================] - 73s 273ms/step - loss: 0.1292 - val_loss: 0.0566\n",
            "Epoch 33/50\n",
            "268/268 [==============================] - 73s 272ms/step - loss: 0.1204 - val_loss: 0.0543\n",
            "Epoch 34/50\n",
            "268/268 [==============================] - 73s 273ms/step - loss: 0.1247 - val_loss: 0.0535\n",
            "Epoch 35/50\n",
            "268/268 [==============================] - 73s 273ms/step - loss: 0.1166 - val_loss: 0.0514\n",
            "Epoch 36/50\n",
            "268/268 [==============================] - 73s 274ms/step - loss: 0.1149 - val_loss: 0.0506\n",
            "Epoch 37/50\n",
            "268/268 [==============================] - 73s 273ms/step - loss: 0.1155 - val_loss: 0.0494\n",
            "Epoch 38/50\n",
            "268/268 [==============================] - 73s 273ms/step - loss: 0.1120 - val_loss: 0.0487\n",
            "Epoch 39/50\n",
            "268/268 [==============================] - 73s 273ms/step - loss: 0.1080 - val_loss: 0.0476\n",
            "Epoch 40/50\n",
            "268/268 [==============================] - 73s 274ms/step - loss: 0.1037 - val_loss: 0.0466\n",
            "Epoch 41/50\n",
            "268/268 [==============================] - 73s 273ms/step - loss: 0.1069 - val_loss: 0.0462\n",
            "Epoch 42/50\n",
            "268/268 [==============================] - 73s 274ms/step - loss: 0.0997 - val_loss: 0.0454\n",
            "Epoch 43/50\n",
            "268/268 [==============================] - 73s 273ms/step - loss: 0.0996 - val_loss: 0.0452\n",
            "Epoch 44/50\n",
            "268/268 [==============================] - 73s 274ms/step - loss: 0.0974 - val_loss: 0.0442\n",
            "Epoch 45/50\n",
            "268/268 [==============================] - 73s 272ms/step - loss: 0.0969 - val_loss: 0.0439\n",
            "Epoch 46/50\n",
            "268/268 [==============================] - 73s 273ms/step - loss: 0.0968 - val_loss: 0.0434\n",
            "Epoch 47/50\n",
            "268/268 [==============================] - 73s 272ms/step - loss: 0.0969 - val_loss: 0.0424\n",
            "Epoch 48/50\n",
            "268/268 [==============================] - 73s 273ms/step - loss: 0.0951 - val_loss: 0.0420\n",
            "Epoch 49/50\n",
            "268/268 [==============================] - 73s 273ms/step - loss: 0.0937 - val_loss: 0.0420\n",
            "Epoch 50/50\n",
            "268/268 [==============================] - 73s 274ms/step - loss: 0.0919 - val_loss: 0.0418\n",
            "Model: \"encoder_decoder_19\"\n",
            "_________________________________________________________________\n",
            "Layer (type)                 Output Shape              Param #   \n",
            "=================================================================\n",
            "encoder_19 (Encoder)         multiple                  2993068   \n",
            "_________________________________________________________________\n",
            "decoder_19 (Decoder)         multiple                  1651168   \n",
            "_________________________________________________________________\n",
            "time_distributed_4 (TimeDist multiple                  3303992   \n",
            "=================================================================\n",
            "Total params: 7,948,228\n",
            "Trainable params: 6,662,628\n",
            "Non-trainable params: 1,285,600\n",
            "_________________________________________________________________\n"
          ],
          "name": "stdout"
        }
      ]
    },
    {
      "cell_type": "code",
      "metadata": {
        "colab": {
          "base_uri": "https://localhost:8080/",
          "height": 295
        },
        "id": "k6ZbqFXe_WE8",
        "outputId": "14db694f-9c28-4478-a395-a02c1419d640"
      },
      "source": [
        "import matplotlib.pyplot as plt\n",
        "plt.title('Learning Curves')\n",
        "plt.xlabel('Epoch')\n",
        "plt.ylabel('Cross Entropy')\n",
        "plt.plot(history.history['loss'], label='train')\n",
        "plt.plot(history.history['val_loss'], label='val')\n",
        "plt.legend()\n",
        "plt.show()\n"
      ],
      "execution_count": null,
      "outputs": [
        {
          "output_type": "display_data",
          "data": {
            "image/png": "[encoded data removed]",
            "text/plain": [
              "<Figure size 432x288 with 1 Axes>"
            ]
          },
          "metadata": {
            "tags": []
          }
        }
      ]
    },
    {
      "cell_type": "code",
      "metadata": {
        "colab": {
          "base_uri": "https://localhost:8080/",
          "height": 51
        },
        "id": "UFZrYi8co6m0",
        "outputId": "9759d763-5a8f-4053-8678-8bda8a236b2a"
      },
      "source": [
        "\"\"\"\n",
        "import matplotlib.pyplot as plt\n",
        "plt.title('Learning Curves')\n",
        "plt.xlabel('Epoch')\n",
        "plt.ylabel('Cross Entropy')\n",
        "plt.plot(history.history['loss'], label='train')\n",
        "plt.plot(history.history['val_loss'], label='val')\n",
        "plt.legend()\n",
        "plt.show()\n",
        "\"\"\""
      ],
      "execution_count": null,
      "outputs": [
        {
          "output_type": "execute_result",
          "data": {
            "application/vnd.google.colaboratory.intrinsic+json": {
              "type": "string"
            },
            "text/plain": [
              "\"\\nimport matplotlib.pyplot as plt\\nplt.title('Learning Curves')\\nplt.xlabel('Epoch')\\nplt.ylabel('Cross Entropy')\\nplt.plot(history.history['loss'], label='train')\\nplt.plot(history.history['val_loss'], label='val')\\nplt.legend()\\nplt.show()\\n\""
            ]
          },
          "metadata": {
            "tags": []
          },
          "execution_count": 46
        }
      ]
    },
    {
      "cell_type": "code",
      "metadata": {
        "id": "mqjYLh-DeYEd"
      },
      "source": [
        "\n",
        "def predic_fun(input_sentence):\n",
        "    input_pred=[tknizer_ita.word_index[i] for i in input_sentence.split()] \n",
        "    print(\"input tokens\",input_pred)\n",
        "    a,b,c=model.layers[0](np.expand_dims(input_pred, 0))\n",
        "    state_values=[b,c]\n",
        "    start=\"<start>\"\n",
        "    pred=[]\n",
        "    for i in range(0,20):\n",
        "        start=tknizer_eng.word_index[start] \n",
        "        cur_vec = np.array(start).reshape(1,1)\n",
        "        cur_emb=model.layers[1].embedding(cur_vec)\n",
        "        infe_output, state_h, state_c = model.layers[1].lstm(cur_emb, initial_state=state_values)\n",
        "        state_values=[state_h, state_c]\n",
        "        infe_output=model.layers[2](infe_output)\n",
        "        ind=np.argmax(infe_output)\n",
        "        start=tknizer_eng.index_word[ind]\n",
        "        print(\"new eng word\",start)\n",
        "        pred.append(tknizer_eng.index_word[ind])\n",
        "        if start==\"<end>\":\n",
        "            break\n",
        "    return pred"
      ],
      "execution_count": null,
      "outputs": []
    },
    {
      "cell_type": "code",
      "metadata": {
        "colab": {
          "base_uri": "https://localhost:8080/"
        },
        "id": "vV_ZUWlu29Q3",
        "outputId": "ecf465ba-579f-4e5c-f569-ce7478996b53"
      },
      "source": [
        "model.layers"
      ],
      "execution_count": null,
      "outputs": [
        {
          "output_type": "execute_result",
          "data": {
            "text/plain": [
              "[<__main__.Encoder at 0x7fde4086fb00>,\n",
              " <__main__.Decoder at 0x7fde40e522e8>,\n",
              " <tensorflow.python.keras.layers.wrappers.TimeDistributed at 0x7fdf5220cf28>]"
            ]
          },
          "metadata": {
            "tags": []
          },
          "execution_count": 145
        }
      ]
    },
    {
      "cell_type": "code",
      "metadata": {
        "colab": {
          "base_uri": "https://localhost:8080/"
        },
        "id": "IshLzUgbeYEg",
        "outputId": "a691bb75-8ebb-4a53-a21d-2ddd65732b77"
      },
      "source": [
        "predic_fun(\"dovete imparare a sopportare questo tempo\")"
      ],
      "execution_count": null,
      "outputs": [
        {
          "output_type": "stream",
          "text": [
            "input tokens [261, 364, 5, 1370, 24, 106]\n",
            "new eng word you\n",
            "new eng word need\n",
            "new eng word to\n",
            "new eng word keep\n",
            "new eng word up\n",
            "new eng word with\n",
            "new eng word a\n",
            "new eng word <end>\n"
          ],
          "name": "stdout"
        },
        {
          "output_type": "execute_result",
          "data": {
            "text/plain": [
              "['you', 'need', 'to', 'keep', 'up', 'with', 'a', '<end>']"
            ]
          },
          "metadata": {
            "tags": []
          },
          "execution_count": 159
        }
      ]
    },
    {
      "cell_type": "code",
      "metadata": {
        "id": "2afkbyk5xGIg"
      },
      "source": [
        "model.save_weights('modelenc_50epoch.h5')"
      ],
      "execution_count": null,
      "outputs": []
    },
    {
      "cell_type": "code",
      "metadata": {
        "id": "a8fq6cQ7wzMA"
      },
      "source": [
        ""
      ],
      "execution_count": null,
      "outputs": []
    },
    {
      "cell_type": "code",
      "metadata": {
        "id": "TN5bDU8HBoWA"
      },
      "source": [
        ""
      ],
      "execution_count": null,
      "outputs": []
    },
    {
      "cell_type": "markdown",
      "metadata": {
        "id": "opuOdPj-BfCO"
      },
      "source": [
        "#ATTENTION"
      ]
    },
    {
      "cell_type": "code",
      "metadata": {
        "id": "46a6CpJQos3N"
      },
      "source": [
        "import matplotlib.pyplot as plt\n",
        "%matplotlib inline\n",
        "# import seaborn as sns\n",
        "import pandas as pd\n",
        "import re\n",
        "import tensorflow as tf\n",
        "from tensorflow.keras.layers import Embedding, LSTM, Dense,Concatenate,TimeDistributed,Masking,GRU,Dot\n",
        "from tensorflow.keras.models import Model\n",
        "from tensorflow.keras.preprocessing.text import Tokenizer\n",
        "from tensorflow.keras.preprocessing.sequence import pad_sequences\n",
        "from tensorflow.math import reduce_sum\n",
        "from tensorflow.keras.backend import sum\n",
        "from tensorflow.nn import softmax\n",
        "\n",
        "import numpy as np"
      ],
      "execution_count": null,
      "outputs": []
    },
    {
      "cell_type": "code",
      "metadata": {
        "id": "fYiq4_dVkpNH"
      },
      "source": [
        "tf.keras.backend.clear_session()"
      ],
      "execution_count": null,
      "outputs": []
    },
    {
      "cell_type": "code",
      "metadata": {
        "id": "3D3yU5xc-xOT"
      },
      "source": [
        "init=tf.keras.initializers.HeNormal(\r\n",
        "    seed=None\r\n",
        ")"
      ],
      "execution_count": null,
      "outputs": []
    },
    {
      "cell_type": "markdown",
      "metadata": {
        "id": "PU4KIsGxLOfK"
      },
      "source": [
        "### <font color='blue'>**Implement custom encoder decoder and attention layers**</font>"
      ]
    },
    {
      "cell_type": "markdown",
      "metadata": {
        "id": "TMm3ADQDLOfK"
      },
      "source": [
        "<font color='blue'>**Encoder**</font>"
      ]
    },
    {
      "cell_type": "code",
      "metadata": {
        "id": "3x1qrAdDos3P"
      },
      "source": [
        "class Encoder(tf.keras.Model):\n",
        "    def __init__(self,inp_vocab_size,embedding_size,lstm_size,input_length_enc):\n",
        "        super().__init__()\n",
        "        self.inp_vocab_size=inp_vocab_size\n",
        "        self.embedding_size=embedding_size\n",
        "        self.lstm_size=lstm_size\n",
        "        self.input_length_enc=input_length_enc\n",
        "        #self.lstm_output = 0\n",
        "        #self.lstm_state_h=0\n",
        "        #self.lstm_state_c=0\n",
        "        self.embedding = Embedding(input_dim=self.inp_vocab_size, output_dim=self.embedding_size, input_length=self.input_length_enc, name=\"embedding_layer_encoder\",embeddings_initializer=init)\n",
        "        self.masking=Masking(mask_value=0)\n",
        "        self.lstm = LSTM(self.lstm_size, return_sequences=True,return_state=True, name=\"Encoder_LSTM\")\n",
        "    #def build(self, input_shape):\n",
        "        \n",
        "        #self.masking=Masking(mask_value=0)\n",
        "        \n",
        "    def call(self,input_sequence,training=True):\n",
        "        input_embedd = self.embedding(input_sequence)\n",
        "        input_embedd=self.masking(input_embedd)\n",
        "        lstm_output, lstm_state_h, lstm_state_c = self.lstm(input_embedd)\n",
        "        \n",
        "        return lstm_output, lstm_state_h, lstm_state_c\n",
        "    \n",
        "    def initialize_states(self,batch_size):\n",
        "        return  [tf.zeros((batch_size,self.lstm_size)),tf.zeros((batch_size,self.lstm_size))]\n",
        "    \n",
        "    #def get_states(self):\n",
        "        #return self.lstm_state_h,self.lstm_state_c\n",
        "         \n",
        "        \n",
        "    \n",
        "   "
      ],
      "execution_count": null,
      "outputs": []
    },
    {
      "cell_type": "markdown",
      "metadata": {
        "id": "lXn278lhLYRM"
      },
      "source": [
        "<font color='blue'>**Attention**</font>"
      ]
    },
    {
      "cell_type": "code",
      "metadata": {
        "id": "ab5SNdPZLlur"
      },
      "source": [
        "class Attention(tf.keras.layers.Layer):\n",
        "  '''\n",
        "    Class the calculates score based on the scoring_function using Bahdanu attention mechanism.\n",
        "  '''\n",
        "  def __init__(self,scoring_function, att_units):\n",
        "    super().__init__()\n",
        "    self.soft = tf.keras.layers.Softmax(axis=1)\n",
        "    self.scoring_function=scoring_function\n",
        "\n",
        "\n",
        "    # Please go through the reference notebook and research paper to complete the scoring functions\n",
        "\n",
        "    if self.scoring_function=='dot':\n",
        "        self.dot=tf.keras.layers.Dot(axes=(-1,-1))\n",
        "        # Intialize variables needed for Dot score function here\n",
        "    if self.scoring_function == 'general':\n",
        "        self.W1 = tf.keras.layers.Dense(att_units)\n",
        "        self.dot=tf.keras.layers.Dot(axes=(-1,-1))\n",
        "      # Intialize variables needed for General score function here\n",
        "      \n",
        "    elif self.scoring_function == 'concat':\n",
        "        self.W1 = tf.keras.layers.Dense(att_units)\n",
        "        self.V = tf.keras.layers.Dense(1)\n",
        "      # Intialize variables needed for Concat score function here\n",
        "      \n",
        "  \n",
        "  \n",
        "  def call(self,decoder_hidden_state,encoder_output):\n",
        "    '''\n",
        "      Attention mechanism takes two inputs current step -- decoder_hidden_state and all the encoder_outputs.\n",
        "      * Based on the scoring function we will find the score or similarity between decoder_hidden_state and encoder_output.\n",
        "        Multiply the score function with your encoder_outputs to get the context vector.\n",
        "        Function returns context vector and attention weights(softmax - scores)\n",
        "    '''\n",
        "    \n",
        "    if self.scoring_function == 'dot':\n",
        "        decoder_hidden_state = tf.expand_dims(decoder_hidden_state, 1)\n",
        "        scores=self.dot([ encoder_output,decoder_hidden_state])\n",
        "        scores=self.soft(scores)\n",
        "        con_vec=encoder_output*scores\n",
        "        con_vec=tf.math.reduce_sum(con_vec,axis=1)\n",
        "        # Implement Dot score function here\n",
        "        \n",
        "    elif self.scoring_function == 'general':\n",
        "        decoder_hidden_state = tf.expand_dims(decoder_hidden_state, 1)\n",
        "        scores=self.W1(decoder_hidden_state)\n",
        "        scores=self.dot([ encoder_output,scores])\n",
        "        scores=self.soft(scores)\n",
        "        con_vec=encoder_output*scores\n",
        "        con_vec=tf.math.reduce_sum(con_vec,axis=1)\n",
        "        # Implement General score function here\n",
        "        \n",
        "    elif self.scoring_function == 'concat':\n",
        "        decoder_hidden_state = tf.expand_dims(decoder_hidden_state, 1)\n",
        "        scores=decoder_hidden_state+encoder_output\n",
        "        scores=self.W1(scores)\n",
        "        scores=self.V(tf.nn.tanh(scores))\n",
        "        scores=self.soft(scores)\n",
        "        con_vec=encoder_output*scores\n",
        "        con_vec=tf.math.reduce_sum(con_vec,axis=1)\\\n",
        "\n",
        "        # Implement General score function here\n",
        "        \n",
        "    return con_vec,scores\n",
        "    \n",
        "    "
      ],
      "execution_count": null,
      "outputs": []
    },
    {
      "cell_type": "markdown",
      "metadata": {
        "id": "ic-FNEbfL2DN"
      },
      "source": [
        "<font color='blue'>**OneStepDecoder**</font>"
      ]
    },
    {
      "cell_type": "code",
      "metadata": {
        "id": "Kc8m7lmOL097"
      },
      "source": [
        "class OneStepDecoder(tf.keras.Model):\n",
        "  def __init__(self,tar_vocab_size, embedding_dim, input_length, dec_units ,score_fun ,att_units):\n",
        "    super().__init__()\n",
        "    self.tar_vocab_size=tar_vocab_size\n",
        "    self.embedding_dim=embedding_dim\n",
        "    self.input_length=input_length\n",
        "    self.dec_units=dec_units\n",
        "    self.score_fun=score_fun\n",
        "    self.att_units=att_units\n",
        "    self.embedding = Embedding(input_dim=self.tar_vocab_size, output_dim=self.embedding_dim, input_length=self.input_length,embeddings_initializer=init,weights=[embedding_matrix], trainable=False)\n",
        "    self.lstm = LSTM(self.dec_units, return_state=True, return_sequences=True,kernel_initializer=init,dropout=0.2)\n",
        "    self.masking=Masking(mask_value=0)\n",
        "    self.Attention=Attention(self.score_fun, self.att_units)\n",
        "    self.d1 = tf.keras.layers.Dense(self.tar_vocab_size)\n",
        "\n",
        "      # Initialize decoder embedding layer, LSTM and any other objects needed\n",
        "\n",
        "\n",
        "  def call(self,input_to_decoder, encoder_output, state_h,state_c):\n",
        "    '''\n",
        "        One step decoder mechanisim step by step:\n",
        "      A. Pass the input_to_decoder to the embedding layer and then get the output(batch_size,1,embedding_dim)\n",
        "      B. Using the encoder_output and decoder hidden state, compute the context vector.\n",
        "      C. Concat the context vector with the step A output\n",
        "      D. Pass the Step-C output to LSTM/GRU and get the decoder output and states(hidden and cell state)\n",
        "      E. Pass the decoder output to dense layer(vocab size) and store the result into output.\n",
        "      F. Return the states from step D, output from Step E, attention weights from Step -B\n",
        "    '''\n",
        "    \n",
        "    output=self.embedding(input_to_decoder)\n",
        "    output=self.masking(output)\n",
        "    con_vec,scores=self.Attention(state_h,encoder_output)\n",
        "    #print(\"output embedding--->\",output.shape)\n",
        "    #print(\"convec embedding--->\",con_vec.shape)\n",
        "    \n",
        "    dec_input=tf.concat([tf.expand_dims(con_vec, 1), output], axis=-1)\n",
        "    #print(\"dec_inp.shape--->\",dec_input.shape)\n",
        "    output,state_h,state_c=self.lstm(dec_input,[state_h,state_c])\n",
        "    # output shape == (batch_size * 1, hidden_size)\n",
        "    output = tf.squeeze(output, 1)\n",
        "    #output = tf.reshape(output, (-1, output.shape[2]))\n",
        "#tf.shape(output)[2]\n",
        "    output=self.d1(output)\n",
        "    '''print(\"outputshape--->\",output.shape)\n",
        "    print(\"state_h--->\",state_h.shape)\n",
        "    print(\"state_c--->\",state_c.shape)\n",
        "    print(\"scores--->\",scores.shape)'''\n",
        "    return output,state_h,state_c,scores,con_vec\n",
        "    \n"
      ],
      "execution_count": null,
      "outputs": []
    },
    {
      "cell_type": "markdown",
      "metadata": {
        "id": "6FHrurjUMGAi"
      },
      "source": [
        "<font color='blue'>**Decoder**</font>"
      ]
    },
    {
      "cell_type": "code",
      "metadata": {
        "id": "NV-x31rj6Hc4"
      },
      "source": [
        "class Decoder(tf.keras.Model):\n",
        "    def __init__(self,out_vocab_size, embedding_dim, input_length, dec_units ,score_fun ,att_units):\n",
        "        super().__init__()\n",
        "      #Intialize necessary variables and create an object from the class onestepdecoder\n",
        "        self.out_vocab_size=out_vocab_size \n",
        "        self.embedding_dim=embedding_dim\n",
        "        self.input_length=input_length \n",
        "        self.dec_units=dec_units \n",
        "        self.score_fun=score_fun\n",
        "        self.att_units=att_units\n",
        "        self.OneStep_Decoder=OneStepDecoder(tar_vocab_size=self.out_vocab_size, \n",
        "                                            embedding_dim=self.embedding_dim,\n",
        "                                            input_length=self.input_length, dec_units=self.dec_units \n",
        "                                            ,score_fun=self.score_fun ,att_units=self.att_units)\n",
        "        \n",
        "\n",
        "    #@tf.function\n",
        "    def call(self, input_to_decoder,encoder_output,decoder_hidden_state,decoder_cell_state ):\n",
        "        all_outputs=tf.TensorArray(tf.float32,size=20,name=\"output_arrays\")\n",
        "        #Initialize an empty Tensor array, that will store the outputs at each and every time step\n",
        "        #Create a tensor array as shown in the reference notebook\n",
        "        \n",
        "        for timestep in range(0,20):\n",
        "            output,decoder_hidden_state,decoder_cell_state,_,_=self.OneStep_Decoder(input_to_decoder[:,timestep:timestep+1],encoder_output,decoder_hidden_state,decoder_cell_state)\n",
        "            all_outputs=all_outputs.write(timestep,output)\n",
        "        all_outputs=tf.transpose(all_outputs.stack(),[1,0,2])\n",
        "        \n",
        "        return all_outputs\n",
        "        \n",
        "        #Iterate till the length of the decoder input\n",
        "            # Call onestepdecoder for each token in decoder_input\n",
        "            # Store the output in tensorarray\n",
        "        # Return the tensor array\n",
        "        \n",
        "        \n",
        "    "
      ],
      "execution_count": null,
      "outputs": []
    },
    {
      "cell_type": "markdown",
      "metadata": {
        "id": "fC1T1EOoMTqC"
      },
      "source": [
        "<font color='blue'>**Encoder Decoder model**</font>"
      ]
    },
    {
      "cell_type": "code",
      "metadata": {
        "id": "FfqBIe20MT3D"
      },
      "source": [
        "class encoder_decoder(tf.keras.Model):\n",
        "  def __init__(self,inp_vocab_size,embedding_size,lstm_size,input_length_enc,out_vocab_size, embedding_dim, input_length_dec, dec_units ,score_fun ,att_units):\n",
        "    super().__init__()\n",
        "    self.inp_vocab_size=inp_vocab_size\n",
        "    self.embedding_size=embedding_size\n",
        "    self.lstm_size=lstm_size\n",
        "    self.input_length_enc=input_length_enc\n",
        "        #self.lstm_output = 0\n",
        "    self.lstm_state_h=0\n",
        "    self.lstm_state_c=0\n",
        "    self.out_vocab_size=out_vocab_size\n",
        "    self.embedding_dim=embedding_dim\n",
        "    self.input_length_dec=input_length_dec \n",
        "    self.dec_units=dec_units \n",
        "    self.score_fun=score_fun \n",
        "    self.att_units=att_units\n",
        "    self.decoder=Decoder(out_vocab_size=self.out_vocab_size+1, embedding_dim=self.embedding_dim, input_length=self.input_length_dec, \n",
        "                              dec_units=self.dec_units ,score_fun=self.score_fun ,att_units=self.att_units)\n",
        "    self.encoder=Encoder(inp_vocab_size=self.inp_vocab_size+1,embedding_size=self.embedding_size,lstm_size=self.lstm_size,input_length_enc=self.input_length_enc)\n",
        "    #Intialize objects from encoder decoder\n",
        "  def call(self,data):\n",
        "    #Intialize encoder states, Pass the encoder_sequence to the embedding layer\n",
        "    # Decoder initial states are encoder final states, Initialize it accordingly\n",
        "    # Pass the decoder sequence,encoder_output,decoder states to Decoder\n",
        "    # return the decoder output\n",
        "    input,output = data[0], data[1]\n",
        "    #print(input.shape)\n",
        "    #self.lstm_state_h,self.lstm_state_c=self.encoder.initialize_states(len(data[0]))\n",
        "    lstm_output_enc, self.lstm_state_h,self.lstm_state_c=self.encoder(input,training=True)\n",
        "    print(lstm_output_enc.shape)\n",
        "    all_outputs=self.decoder(output,lstm_output_enc,self.lstm_state_h,self.lstm_state_c)\n",
        "    #print(all_outputs.shape)\n",
        "    return all_outputs"
      ],
      "execution_count": null,
      "outputs": []
    },
    {
      "cell_type": "code",
      "metadata": {
        "id": "KSsbLRRgYbbZ"
      },
      "source": [
        "\n",
        "loss_object = tf.keras.losses.SparseCategoricalCrossentropy(reduction='none',from_logits=True)\n",
        "\n",
        "def custom_lossfunction(real,pred):\n",
        "  mask = tf.math.logical_not(tf.math.equal(real, 0))\n",
        "  loss_ = loss_object(real, pred)\n",
        "\n",
        "  mask = tf.cast(mask, dtype=loss_.dtype)\n",
        "  loss_ *= mask\n",
        "\n",
        "  return tf.reduce_mean(loss_)\n",
        "  # Custom loss function that will not consider the loss for padded zeros.\n",
        "  # Refer https://www.tensorflow.org/tutorials/text/nmt_with_attention#define_the_optimizer_and_the_loss_function\n"
      ],
      "execution_count": null,
      "outputs": []
    },
    {
      "cell_type": "code",
      "metadata": {
        "colab": {
          "base_uri": "https://localhost:8080/",
          "height": 295
        },
        "id": "97LqsHxTG307",
        "outputId": "b1e8a2ee-1458-43dc-a139-36da4e488d2b"
      },
      "source": [
        "import matplotlib.pyplot as plt\r\n",
        "plt.title('Learning Curves')\r\n",
        "plt.xlabel('Epoch')\r\n",
        "plt.ylabel('Cross Entropy')\r\n",
        "plt.plot(history.history['loss'], label='train')\r\n",
        "plt.plot(history.history['val_loss'], label='val')\r\n",
        "plt.legend()\r\n",
        "plt.show()\r\n"
      ],
      "execution_count": null,
      "outputs": [
        {
          "output_type": "display_data",
          "data": {
            "image/png": "[encoded data removed]",
            "text/plain": [
              "<Figure size 432x288 with 1 Axes>"
            ]
          },
          "metadata": {
            "tags": [],
            "needs_background": "light"
          }
        }
      ]
    },
    {
      "cell_type": "code",
      "metadata": {
        "colab": {
          "base_uri": "https://localhost:8080/"
        },
        "id": "IqDlMehmSZKv",
        "outputId": "24e4fb2d-d1f1-48c5-a38a-407e4d4c6925"
      },
      "source": [
        "history=modela.fit(train_dataloader, steps_per_epoch=train_steps, epochs=50, validation_data=train_dataloader, validation_steps=valid_steps,verbose=1)\r\n",
        "modela.summary()"
      ],
      "execution_count": null,
      "outputs": [
        {
          "output_type": "stream",
          "text": [
            "Epoch 1/50\n",
            "268/268 [==============================] - 59s 219ms/step - loss: 1.1868 - val_loss: 0.6564\n",
            "Epoch 2/50\n",
            "268/268 [==============================] - 59s 221ms/step - loss: 1.1721 - val_loss: 0.6490\n",
            "Epoch 3/50\n",
            "268/268 [==============================] - 59s 221ms/step - loss: 1.1450 - val_loss: 0.6413\n",
            "Epoch 4/50\n",
            "268/268 [==============================] - 60s 225ms/step - loss: 1.1701 - val_loss: 0.6384\n",
            "Epoch 5/50\n",
            "268/268 [==============================] - 60s 223ms/step - loss: 1.1256 - val_loss: 0.6313\n",
            "Epoch 6/50\n",
            "268/268 [==============================] - 59s 221ms/step - loss: 1.1395 - val_loss: 0.6276\n",
            "Epoch 7/50\n",
            "268/268 [==============================] - 60s 222ms/step - loss: 1.1214 - val_loss: 0.6188\n",
            "Epoch 8/50\n",
            "268/268 [==============================] - 60s 223ms/step - loss: 1.1139 - val_loss: 0.6145\n",
            "Epoch 9/50\n",
            "268/268 [==============================] - 59s 221ms/step - loss: 1.1266 - val_loss: 0.6089\n",
            "Epoch 10/50\n",
            "268/268 [==============================] - 59s 220ms/step - loss: 1.0961 - val_loss: 0.6073\n",
            "Epoch 11/50\n",
            "268/268 [==============================] - 59s 221ms/step - loss: 1.0920 - val_loss: 0.6028\n",
            "Epoch 12/50\n",
            "268/268 [==============================] - 60s 222ms/step - loss: 1.0914 - val_loss: 0.5950\n",
            "Epoch 13/50\n",
            "268/268 [==============================] - 59s 219ms/step - loss: 1.0757 - val_loss: 0.5920\n",
            "Epoch 14/50\n",
            "268/268 [==============================] - 60s 223ms/step - loss: 1.0893 - val_loss: 0.5879\n",
            "Epoch 15/50\n",
            "268/268 [==============================] - 59s 221ms/step - loss: 1.0561 - val_loss: 0.5855\n",
            "Epoch 16/50\n",
            "268/268 [==============================] - 59s 220ms/step - loss: 1.0666 - val_loss: 0.5804\n",
            "Epoch 17/50\n",
            "268/268 [==============================] - 59s 221ms/step - loss: 1.0737 - val_loss: 0.5752\n",
            "Epoch 18/50\n",
            "268/268 [==============================] - 60s 224ms/step - loss: 1.0491 - val_loss: 0.5686\n",
            "Epoch 19/50\n",
            "268/268 [==============================] - 60s 223ms/step - loss: 1.0548 - val_loss: 0.5663\n",
            "Epoch 20/50\n",
            "268/268 [==============================] - 59s 222ms/step - loss: 1.0325 - val_loss: 0.5676\n",
            "Epoch 21/50\n",
            "268/268 [==============================] - 59s 220ms/step - loss: 1.0564 - val_loss: 0.5608\n",
            "Epoch 22/50\n",
            "268/268 [==============================] - 59s 219ms/step - loss: 1.0610 - val_loss: 0.5588\n",
            "Epoch 23/50\n",
            "268/268 [==============================] - 59s 221ms/step - loss: 1.0334 - val_loss: 0.5538\n",
            "Epoch 24/50\n",
            "268/268 [==============================] - 60s 222ms/step - loss: 1.0522 - val_loss: 0.5556\n",
            "Epoch 25/50\n",
            "268/268 [==============================] - 59s 222ms/step - loss: 1.0228 - val_loss: 0.5479\n",
            "Epoch 26/50\n",
            "268/268 [==============================] - 59s 221ms/step - loss: 1.0285 - val_loss: 0.5481\n",
            "Epoch 27/50\n",
            "268/268 [==============================] - 60s 222ms/step - loss: 1.0118 - val_loss: 0.5415\n",
            "Epoch 28/50\n",
            "268/268 [==============================] - 59s 220ms/step - loss: 1.0133 - val_loss: 0.5394\n",
            "Epoch 29/50\n",
            "268/268 [==============================] - 60s 222ms/step - loss: 1.0049 - val_loss: 0.5406\n",
            "Epoch 30/50\n",
            "268/268 [==============================] - 59s 220ms/step - loss: 1.0084 - val_loss: 0.5390\n",
            "Epoch 31/50\n",
            "268/268 [==============================] - 59s 221ms/step - loss: 1.0204 - val_loss: 0.5339\n",
            "Epoch 32/50\n",
            "268/268 [==============================] - 59s 220ms/step - loss: 1.0235 - val_loss: 0.5286\n",
            "Epoch 33/50\n",
            "268/268 [==============================] - 59s 221ms/step - loss: 0.9984 - val_loss: 0.5264\n",
            "Epoch 34/50\n",
            "268/268 [==============================] - 60s 222ms/step - loss: 0.9861 - val_loss: 0.5245\n",
            "Epoch 35/50\n",
            "268/268 [==============================] - 59s 222ms/step - loss: 0.9712 - val_loss: 0.5195\n",
            "Epoch 36/50\n",
            "268/268 [==============================] - 60s 224ms/step - loss: 0.9892 - val_loss: 0.5186\n",
            "Epoch 37/50\n",
            "268/268 [==============================] - 59s 219ms/step - loss: 0.9778 - val_loss: 0.5142\n",
            "Epoch 38/50\n",
            "268/268 [==============================] - 59s 219ms/step - loss: 0.9726 - val_loss: 0.5152\n",
            "Epoch 39/50\n",
            "268/268 [==============================] - 59s 219ms/step - loss: 0.9837 - val_loss: 0.5116\n",
            "Epoch 40/50\n",
            "268/268 [==============================] - 59s 222ms/step - loss: 0.9900 - val_loss: 0.5090\n",
            "Epoch 41/50\n",
            "268/268 [==============================] - 59s 221ms/step - loss: 0.9704 - val_loss: 0.5090\n",
            "Epoch 42/50\n",
            "268/268 [==============================] - 59s 220ms/step - loss: 0.9714 - val_loss: 0.5069\n",
            "Epoch 43/50\n",
            "268/268 [==============================] - 59s 219ms/step - loss: 0.9470 - val_loss: 0.5029\n",
            "Epoch 44/50\n",
            "268/268 [==============================] - 60s 225ms/step - loss: 0.9828 - val_loss: 0.4994\n",
            "Epoch 45/50\n",
            "268/268 [==============================] - 60s 222ms/step - loss: 0.9661 - val_loss: 0.5080\n",
            "Epoch 46/50\n",
            "268/268 [==============================] - 60s 223ms/step - loss: 0.9538 - val_loss: 0.4954\n",
            "Epoch 47/50\n",
            "268/268 [==============================] - 59s 221ms/step - loss: 0.9641 - val_loss: 0.4925\n",
            "Epoch 48/50\n",
            "268/268 [==============================] - 59s 219ms/step - loss: 0.9700 - val_loss: 0.4949\n",
            "Epoch 49/50\n",
            "268/268 [==============================] - 59s 221ms/step - loss: 0.9518 - val_loss: 0.4927\n",
            "Epoch 50/50\n",
            "268/268 [==============================] - 59s 222ms/step - loss: 0.9383 - val_loss: 0.4930\n",
            "Model: \"encoder_decoder_1\"\n",
            "_________________________________________________________________\n",
            "Layer (type)                 Output Shape              Param #   \n",
            "=================================================================\n",
            "decoder_3 (Decoder)          multiple                  1508686   \n",
            "_________________________________________________________________\n",
            "encoder_6 (Encoder)          multiple                  2628188   \n",
            "=================================================================\n",
            "Total params: 4,136,874\n",
            "Trainable params: 2,854,674\n",
            "Non-trainable params: 1,282,200\n",
            "_________________________________________________________________\n"
          ],
          "name": "stdout"
        }
      ]
    },
    {
      "cell_type": "code",
      "metadata": {
        "colab": {
          "base_uri": "https://localhost:8080/",
          "height": 295
        },
        "id": "HW9id3IreDT-",
        "outputId": "69dbe8cb-ca84-4df8-900f-a21da984e8c0"
      },
      "source": [
        "import matplotlib.pyplot as plt\r\n",
        "plt.title('Learning Curves')\r\n",
        "plt.xlabel('Epoch')\r\n",
        "plt.ylabel('Cross Entropy')\r\n",
        "plt.plot(history.history['loss'], label='train')\r\n",
        "plt.plot(history.history['val_loss'], label='val')\r\n",
        "plt.legend()\r\n",
        "plt.show()\r\n"
      ],
      "execution_count": null,
      "outputs": [
        {
          "output_type": "display_data",
          "data": {
            "image/png": "[encoded data removed]",
            "text/plain": [
              "<Figure size 432x288 with 1 Axes>"
            ]
          },
          "metadata": {
            "tags": [],
            "needs_background": "light"
          }
        }
      ]
    },
    {
      "cell_type": "markdown",
      "metadata": {
        "id": "mla6DtuXiqqn"
      },
      "source": [
        "### lstm - 256"
      ]
    },
    {
      "cell_type": "code",
      "metadata": {
        "colab": {
          "base_uri": "https://localhost:8080/"
        },
        "id": "Lv4dbk1Oiygq",
        "outputId": "3de062d1-308e-405b-e99a-ed2433a4a18b"
      },
      "source": [
        "modela_256  = encoder_decoder(inp_vocab_size=vocab_size_ita,embedding_size=100,lstm_size=256,input_length_enc=20,out_vocab_size=vocab_size_eng, embedding_dim=100, input_length_dec=20, dec_units=256,score_fun=\"dot\",att_units=128)\r\n",
        "optimizer = tf.keras.optimizers.Adam()\r\n",
        "modela_256.compile(optimizer=optimizer,loss=custom_lossfunction)\r\n",
        "train_steps=train.shape[0]//1024\r\n",
        "valid_steps=validation.shape[0]//1024\r\n",
        "history_256=modela_256.fit(train_dataloader, steps_per_epoch=train_steps, epochs=100, validation_data=train_dataloader, validation_steps=valid_steps,verbose=1)\r\n",
        "modela_256.summary()"
      ],
      "execution_count": null,
      "outputs": [
        {
          "output_type": "stream",
          "text": [
            "(1024, 20, 256)\n",
            "Epoch 1/100\n",
            "(None, None, 256)\n",
            "(None, None, 256)\n",
            "268/268 [==============================] - ETA: 0s - loss: 1.8819(None, None, 256)\n",
            "268/268 [==============================] - 82s 306ms/step - loss: 1.8819 - val_loss: 1.0945\n",
            "Epoch 2/100\n",
            "268/268 [==============================] - 73s 272ms/step - loss: 1.7056 - val_loss: 1.0404\n",
            "Epoch 3/100\n",
            "268/268 [==============================] - 73s 272ms/step - loss: 1.5711 - val_loss: 0.9548\n",
            "Epoch 4/100\n",
            "268/268 [==============================] - 73s 273ms/step - loss: 1.4994 - val_loss: 0.8842\n",
            "Epoch 5/100\n",
            "268/268 [==============================] - 73s 274ms/step - loss: 1.4234 - val_loss: 0.8325\n",
            "Epoch 6/100\n",
            "268/268 [==============================] - 73s 273ms/step - loss: 1.3395 - val_loss: 0.7765\n",
            "Epoch 7/100\n",
            "268/268 [==============================] - 73s 273ms/step - loss: 1.2506 - val_loss: 0.7202\n",
            "Epoch 8/100\n",
            "268/268 [==============================] - 73s 271ms/step - loss: 1.1800 - val_loss: 0.6734\n",
            "Epoch 9/100\n",
            "268/268 [==============================] - 74s 275ms/step - loss: 1.1035 - val_loss: 0.6195\n",
            "Epoch 10/100\n",
            "268/268 [==============================] - 73s 273ms/step - loss: 1.0270 - val_loss: 0.5662\n",
            "Epoch 11/100\n",
            "268/268 [==============================] - 73s 274ms/step - loss: 0.9703 - val_loss: 0.5261\n",
            "Epoch 12/100\n",
            "268/268 [==============================] - 73s 273ms/step - loss: 0.9015 - val_loss: 0.4684\n",
            "Epoch 13/100\n",
            "268/268 [==============================] - 73s 273ms/step - loss: 0.8216 - val_loss: 0.4204\n",
            "Epoch 14/100\n",
            "268/268 [==============================] - 73s 274ms/step - loss: 0.7629 - val_loss: 0.3867\n",
            "Epoch 15/100\n",
            "268/268 [==============================] - 73s 273ms/step - loss: 0.7149 - val_loss: 0.3507\n",
            "Epoch 16/100\n",
            "268/268 [==============================] - 73s 273ms/step - loss: 0.6525 - val_loss: 0.3135\n",
            "Epoch 17/100\n",
            "268/268 [==============================] - 73s 273ms/step - loss: 0.6056 - val_loss: 0.2787\n",
            "Epoch 18/100\n",
            "268/268 [==============================] - 73s 273ms/step - loss: 0.5605 - val_loss: 0.2468\n",
            "Epoch 19/100\n",
            "268/268 [==============================] - 73s 272ms/step - loss: 0.5174 - val_loss: 0.2242\n",
            "Epoch 20/100\n",
            "268/268 [==============================] - 73s 273ms/step - loss: 0.4822 - val_loss: 0.2003\n",
            "Epoch 21/100\n",
            "268/268 [==============================] - 73s 273ms/step - loss: 0.4597 - val_loss: 0.1872\n",
            "Epoch 22/100\n",
            "268/268 [==============================] - 73s 273ms/step - loss: 0.4075 - val_loss: 0.1691\n",
            "Epoch 23/100\n",
            "268/268 [==============================] - 73s 272ms/step - loss: 0.3917 - val_loss: 0.1510\n",
            "Epoch 24/100\n",
            "268/268 [==============================] - 73s 272ms/step - loss: 0.3670 - val_loss: 0.1412\n",
            "Epoch 25/100\n",
            "268/268 [==============================] - 73s 271ms/step - loss: 0.3513 - val_loss: 0.1281\n",
            "Epoch 26/100\n",
            "268/268 [==============================] - 73s 272ms/step - loss: 0.3133 - val_loss: 0.1191\n",
            "Epoch 27/100\n",
            "268/268 [==============================] - 73s 272ms/step - loss: 0.3056 - val_loss: 0.1153\n",
            "Epoch 28/100\n",
            "268/268 [==============================] - 73s 271ms/step - loss: 0.2818 - val_loss: 0.1061\n",
            "Epoch 29/100\n",
            "268/268 [==============================] - 72s 270ms/step - loss: 0.2712 - val_loss: 0.1073\n",
            "Epoch 30/100\n",
            "268/268 [==============================] - 73s 272ms/step - loss: 0.2556 - val_loss: 0.0966\n",
            "Epoch 31/100\n",
            "268/268 [==============================] - 73s 274ms/step - loss: 0.2553 - val_loss: 0.0900\n",
            "Epoch 32/100\n",
            "268/268 [==============================] - 73s 273ms/step - loss: 0.2341 - val_loss: 0.0871\n",
            "Epoch 33/100\n",
            "268/268 [==============================] - 73s 272ms/step - loss: 0.2258 - val_loss: 0.0840\n",
            "Epoch 34/100\n",
            "268/268 [==============================] - 73s 272ms/step - loss: 0.2077 - val_loss: 0.0783\n",
            "Epoch 35/100\n",
            "268/268 [==============================] - 74s 276ms/step - loss: 0.2001 - val_loss: 0.0766\n",
            "Epoch 36/100\n",
            "268/268 [==============================] - 73s 272ms/step - loss: 0.1997 - val_loss: 0.0761\n",
            "Epoch 37/100\n",
            "268/268 [==============================] - 73s 272ms/step - loss: 0.1807 - val_loss: 0.0701\n",
            "Epoch 38/100\n",
            "268/268 [==============================] - 73s 271ms/step - loss: 0.1801 - val_loss: 0.0685\n",
            "Epoch 39/100\n",
            "268/268 [==============================] - 73s 272ms/step - loss: 0.1796 - val_loss: 0.0666\n",
            "Epoch 40/100\n",
            "268/268 [==============================] - 72s 270ms/step - loss: 0.1687 - val_loss: 0.0661\n",
            "Epoch 41/100\n",
            "268/268 [==============================] - 73s 273ms/step - loss: 0.1548 - val_loss: 0.0624\n",
            "Epoch 42/100\n",
            "268/268 [==============================] - 73s 272ms/step - loss: 0.1544 - val_loss: 0.0599\n",
            "Epoch 43/100\n",
            "268/268 [==============================] - 73s 274ms/step - loss: 0.1578 - val_loss: 0.0572\n",
            "Epoch 44/100\n",
            "268/268 [==============================] - 73s 273ms/step - loss: 0.1427 - val_loss: 0.0587\n",
            "Epoch 45/100\n",
            "268/268 [==============================] - 73s 273ms/step - loss: 0.1373 - val_loss: 0.0539\n",
            "Epoch 46/100\n",
            "268/268 [==============================] - 73s 272ms/step - loss: 0.1330 - val_loss: 0.0531\n",
            "Epoch 47/100\n",
            "268/268 [==============================] - 73s 272ms/step - loss: 0.1320 - val_loss: 0.0505\n",
            "Epoch 48/100\n",
            "268/268 [==============================] - 73s 273ms/step - loss: 0.1289 - val_loss: 0.0502\n",
            "Epoch 49/100\n",
            "268/268 [==============================] - 73s 272ms/step - loss: 0.1196 - val_loss: 0.0485\n",
            "Epoch 50/100\n",
            "268/268 [==============================] - 73s 271ms/step - loss: 0.1154 - val_loss: 0.0480\n",
            "Epoch 51/100\n",
            "268/268 [==============================] - 73s 272ms/step - loss: 0.1194 - val_loss: 0.0487\n",
            "Epoch 52/100\n",
            "268/268 [==============================] - 73s 272ms/step - loss: 0.1100 - val_loss: 0.0456\n",
            "Epoch 53/100\n",
            "268/268 [==============================] - 73s 272ms/step - loss: 0.1064 - val_loss: 0.0444\n",
            "Epoch 54/100\n",
            "268/268 [==============================] - 72s 270ms/step - loss: 0.1083 - val_loss: 0.0452\n",
            "Epoch 55/100\n",
            "268/268 [==============================] - 73s 272ms/step - loss: 0.0971 - val_loss: 0.0435\n",
            "Epoch 56/100\n",
            "268/268 [==============================] - 73s 273ms/step - loss: 0.1027 - val_loss: 0.0429\n",
            "Epoch 57/100\n",
            "268/268 [==============================] - 73s 272ms/step - loss: 0.0943 - val_loss: 0.0458\n",
            "Epoch 58/100\n",
            "268/268 [==============================] - 73s 271ms/step - loss: 0.0970 - val_loss: 0.0427\n",
            "Epoch 59/100\n",
            "268/268 [==============================] - 73s 271ms/step - loss: 0.1002 - val_loss: 0.0423\n",
            "Epoch 60/100\n",
            "268/268 [==============================] - 73s 273ms/step - loss: 0.0916 - val_loss: 0.0384\n",
            "Epoch 61/100\n",
            "268/268 [==============================] - 74s 276ms/step - loss: 0.0881 - val_loss: 0.0373\n",
            "Epoch 62/100\n",
            "268/268 [==============================] - 73s 272ms/step - loss: 0.0835 - val_loss: 0.0361\n",
            "Epoch 63/100\n",
            "268/268 [==============================] - 73s 273ms/step - loss: 0.0810 - val_loss: 0.0359\n",
            "Epoch 64/100\n",
            "268/268 [==============================] - 73s 271ms/step - loss: 0.0790 - val_loss: 0.0365\n",
            "Epoch 65/100\n",
            "268/268 [==============================] - 73s 273ms/step - loss: 0.0767 - val_loss: 0.0336\n",
            "Epoch 66/100\n",
            "268/268 [==============================] - 73s 272ms/step - loss: 0.0803 - val_loss: 0.0412\n",
            "Epoch 67/100\n",
            "268/268 [==============================] - 73s 272ms/step - loss: 0.0813 - val_loss: 0.0394\n",
            "Epoch 68/100\n",
            "268/268 [==============================] - 73s 271ms/step - loss: 0.0799 - val_loss: 0.0331\n",
            "Epoch 69/100\n",
            "268/268 [==============================] - 73s 272ms/step - loss: 0.0731 - val_loss: 0.0344\n",
            "Epoch 70/100\n",
            "268/268 [==============================] - 72s 270ms/step - loss: 0.0726 - val_loss: 0.0328\n",
            "Epoch 71/100\n",
            "268/268 [==============================] - 73s 272ms/step - loss: 0.0645 - val_loss: 0.0319\n",
            "Epoch 72/100\n",
            "268/268 [==============================] - 73s 271ms/step - loss: 0.0657 - val_loss: 0.0331\n",
            "Epoch 73/100\n",
            "268/268 [==============================] - 73s 273ms/step - loss: 0.0683 - val_loss: 0.0318\n",
            "Epoch 74/100\n",
            "268/268 [==============================] - 73s 274ms/step - loss: 0.0653 - val_loss: 0.0320\n",
            "Epoch 75/100\n",
            "268/268 [==============================] - 73s 272ms/step - loss: 0.0643 - val_loss: 0.0296\n",
            "Epoch 76/100\n",
            "268/268 [==============================] - 73s 272ms/step - loss: 0.0619 - val_loss: 0.0294\n",
            "Epoch 77/100\n",
            "268/268 [==============================] - 73s 272ms/step - loss: 0.0602 - val_loss: 0.0314\n",
            "Epoch 78/100\n",
            "268/268 [==============================] - 73s 273ms/step - loss: 0.0581 - val_loss: 0.0285\n",
            "Epoch 79/100\n",
            "268/268 [==============================] - 73s 272ms/step - loss: 0.0584 - val_loss: 0.0275\n",
            "Epoch 80/100\n",
            "268/268 [==============================] - 73s 272ms/step - loss: 0.0588 - val_loss: 0.0280\n",
            "Epoch 81/100\n",
            "268/268 [==============================] - 73s 271ms/step - loss: 0.0531 - val_loss: 0.0283\n",
            "Epoch 82/100\n",
            "268/268 [==============================] - 73s 272ms/step - loss: 0.0532 - val_loss: 0.0274\n",
            "Epoch 83/100\n",
            "268/268 [==============================] - 73s 272ms/step - loss: 0.0554 - val_loss: 0.0286\n",
            "Epoch 84/100\n",
            "268/268 [==============================] - 73s 272ms/step - loss: 0.0548 - val_loss: 0.0260\n",
            "Epoch 85/100\n",
            "268/268 [==============================] - 73s 273ms/step - loss: 0.0533 - val_loss: 0.0279\n",
            "Epoch 86/100\n",
            "268/268 [==============================] - 73s 274ms/step - loss: 0.0530 - val_loss: 0.0273\n",
            "Epoch 87/100\n",
            "268/268 [==============================] - 74s 276ms/step - loss: 0.0502 - val_loss: 0.0279\n",
            "Epoch 88/100\n",
            "268/268 [==============================] - 73s 272ms/step - loss: 0.0489 - val_loss: 0.0305\n",
            "Epoch 89/100\n",
            "268/268 [==============================] - 74s 274ms/step - loss: 0.0507 - val_loss: 0.0263\n",
            "Epoch 90/100\n",
            "268/268 [==============================] - 74s 274ms/step - loss: 0.0480 - val_loss: 0.0251\n",
            "Epoch 91/100\n",
            "268/268 [==============================] - 73s 273ms/step - loss: 0.0483 - val_loss: 0.0243\n",
            "Epoch 92/100\n",
            "268/268 [==============================] - 73s 274ms/step - loss: 0.0430 - val_loss: 0.0261\n",
            "Epoch 93/100\n",
            "268/268 [==============================] - 73s 272ms/step - loss: 0.0475 - val_loss: 0.0246\n",
            "Epoch 94/100\n",
            "268/268 [==============================] - 73s 272ms/step - loss: 0.0448 - val_loss: 0.0242\n",
            "Epoch 95/100\n",
            "268/268 [==============================] - 73s 272ms/step - loss: 0.0458 - val_loss: 0.0267\n",
            "Epoch 96/100\n",
            "268/268 [==============================] - 73s 272ms/step - loss: 0.0442 - val_loss: 0.0239\n",
            "Epoch 97/100\n",
            "268/268 [==============================] - 72s 270ms/step - loss: 0.0408 - val_loss: 0.0239\n",
            "Epoch 98/100\n",
            "268/268 [==============================] - 73s 271ms/step - loss: 0.0459 - val_loss: 0.0229\n",
            "Epoch 99/100\n",
            "268/268 [==============================] - 73s 272ms/step - loss: 0.0412 - val_loss: 0.0237\n",
            "Epoch 100/100\n",
            "268/268 [==============================] - 73s 272ms/step - loss: 0.0410 - val_loss: 0.0231\n",
            "Model: \"encoder_decoder_6\"\n",
            "_________________________________________________________________\n",
            "Layer (type)                 Output Shape              Param #   \n",
            "=================================================================\n",
            "decoder_9 (Decoder)          multiple                  5205166   \n",
            "_________________________________________________________________\n",
            "encoder_11 (Encoder)         multiple                  2986268   \n",
            "=================================================================\n",
            "Total params: 8,191,434\n",
            "Trainable params: 6,909,234\n",
            "Non-trainable params: 1,282,200\n",
            "_________________________________________________________________\n"
          ],
          "name": "stdout"
        }
      ]
    },
    {
      "cell_type": "code",
      "metadata": {
        "colab": {
          "base_uri": "https://localhost:8080/",
          "height": 295
        },
        "id": "CbSkXqZRiyL7",
        "outputId": "f901af95-d234-4c94-e6b9-e91e10456842"
      },
      "source": [
        "import matplotlib.pyplot as plt\r\n",
        "plt.title('Learning Curves')\r\n",
        "plt.xlabel('Epoch')\r\n",
        "plt.ylabel('Cross Entropy')\r\n",
        "plt.plot(history_256.history['loss'], label='train')\r\n",
        "plt.plot(history_256.history['val_loss'], label='val')\r\n",
        "plt.legend()\r\n",
        "plt.show()\r\n"
      ],
      "execution_count": null,
      "outputs": [
        {
          "output_type": "display_data",
          "data": {
            "image/png": "[encoded data removed]",
            "text/plain": [
              "<Figure size 432x288 with 1 Axes>"
            ]
          },
          "metadata": {
            "tags": [],
            "needs_background": "light"
          }
        }
      ]
    },
    {
      "cell_type": "code",
      "metadata": {
        "id": "xXLRixIVjkol"
      },
      "source": [
        "modela_256.save_weights('modelatt256_100epoch.h5')"
      ],
      "execution_count": null,
      "outputs": []
    },
    {
      "cell_type": "code",
      "metadata": {
        "id": "GbvVAjIx-2f0"
      },
      "source": [
        "def evaluate(sentence):\r\n",
        "  attention_plot = np.zeros((20, 20))\r\n",
        "\r\n",
        "  sentence = decontractions(sentence)\r\n",
        "  sentence=preprocess_ita(sentence)\r\n",
        "  sentence=preprocess(sentence)\r\n",
        "  sentence=decontractions(sentence)\r\n",
        "\r\n",
        "  inputs = [tknizer_ita.word_index[i] for i in sentence.split()]\r\n",
        "  inputs = tf.keras.preprocessing.sequence.pad_sequences([inputs],\r\n",
        "                                                         maxlen=20,\r\n",
        "                                                         padding='post')\r\n",
        "  inputs = tf.convert_to_tensor(inputs)\r\n",
        "\r\n",
        "  result = ''\r\n",
        "\r\n",
        "  hidden = [tf.zeros((1, 256))]\r\n",
        "  enc_out, enc_h,enc_c = modela_256.layers[1](inputs)\r\n",
        "\r\n",
        "  dec_h,dec_c = enc_h,enc_c\r\n",
        "  dec_input = tf.expand_dims([tknizer_eng.word_index['<start>']], 0)\r\n",
        "  \r\n",
        "\r\n",
        "  for t in range(20):\r\n",
        "    predictions,dec_h,dec_c,attention_weights,con_vec = modela_256.layers[0].layers[0](dec_input, enc_out, dec_h,dec_c)\r\n",
        "\r\n",
        "    # storing the attention weights to plot later on\r\n",
        "    attention_weights = tf.reshape(attention_weights, (-1, ))\r\n",
        "    attention_plot[t] = attention_weights.numpy()\r\n",
        "\r\n",
        "    predicted_id = tf.argmax(predictions[0]).numpy()\r\n",
        "\r\n",
        "    result += tknizer_eng.index_word[predicted_id] + ' '\r\n",
        "\r\n",
        "    if tknizer_eng.index_word[predicted_id] == '<end>':\r\n",
        "      return result, sentence, attention_plot\r\n",
        "\r\n",
        "    # the predicted ID is fed back into the model\r\n",
        "    dec_input = tf.expand_dims([predicted_id], 0)\r\n",
        "\r\n",
        "  return result, sentence, attention_plot"
      ],
      "execution_count": null,
      "outputs": []
    },
    {
      "cell_type": "code",
      "metadata": {
        "colab": {
          "base_uri": "https://localhost:8080/"
        },
        "id": "pzaY4XK3IwEO",
        "outputId": "6776ae33-719d-4245-ecef-95b8ec5e0ef4"
      },
      "source": [
        "modela_256.layers[0].layers"
      ],
      "execution_count": null,
      "outputs": [
        {
          "output_type": "execute_result",
          "data": {
            "text/plain": [
              "[<__main__.OneStepDecoder at 0x7f8a85c73780>]"
            ]
          },
          "metadata": {
            "tags": []
          },
          "execution_count": 207
        }
      ]
    },
    {
      "cell_type": "code",
      "metadata": {
        "colab": {
          "base_uri": "https://localhost:8080/"
        },
        "id": "3edKDP_QHnwq",
        "outputId": "ec7df3d2-2c3a-4d89-bd7b-6664ca460685"
      },
      "source": [
        "evaluate(\"cosa dovrei dire\")\r\n"
      ],
      "execution_count": null,
      "outputs": [
        {
          "output_type": "execute_result",
          "data": {
            "text/plain": [
              "('what should i say <end> ',\n",
              " 'cosa dovrei dire',\n",
              " array([[4.21891312e-18, 1.46996453e-16, 2.56807552e-16, 7.81300819e-15,\n",
              "         2.50046555e-12, 1.11137477e-09, 2.61389260e-07, 6.94152732e-06,\n",
              "         3.13571727e-05, 7.01869576e-05, 1.56450711e-04, 3.88360495e-04,\n",
              "         9.72999260e-04, 2.39965925e-03, 6.22604694e-03, 1.70773957e-02,\n",
              "         4.65113930e-02, 1.18737042e-01, 2.72180855e-01, 5.35241067e-01],\n",
              "        [7.45824256e-18, 1.29343678e-16, 9.62074209e-16, 4.32706781e-14,\n",
              "         5.82947163e-11, 3.33087691e-08, 5.25404130e-06, 8.30434437e-05,\n",
              "         2.60593195e-04, 4.84260963e-04, 9.47580033e-04, 1.99690298e-03,\n",
              "         3.98435071e-03, 7.59876054e-03, 1.54507281e-02, 3.35576311e-02,\n",
              "         7.22436979e-02, 1.46398515e-01, 2.71576732e-01, 4.45411950e-01],\n",
              "        [1.37297185e-09, 1.50469734e-08, 4.12169953e-07, 2.64005826e-06,\n",
              "         5.60411892e-04, 2.22668312e-02, 9.78010744e-02, 8.54087919e-02,\n",
              "         4.54270206e-02, 2.80661546e-02, 2.52569523e-02, 2.84746587e-02,\n",
              "         3.24918628e-02, 3.69406380e-02, 4.52804752e-02, 5.95320947e-02,\n",
              "         7.96344951e-02, 1.05359606e-01, 1.36517212e-01, 1.70978680e-01],\n",
              "        [1.89492184e-07, 1.17920513e-06, 1.71419688e-05, 1.87405429e-04,\n",
              "         9.47385188e-03, 2.48313904e-01, 4.98120308e-01, 1.70279011e-01,\n",
              "         3.63781340e-02, 1.08766686e-02, 5.52951824e-03, 3.94134270e-03,\n",
              "         3.05618625e-03, 2.47432874e-03, 2.19281111e-03, 2.06259359e-03,\n",
              "         1.94694987e-03, 1.82039209e-03, 1.70767179e-03, 1.62041723e-03],\n",
              "        [2.28841109e-05, 3.22329797e-05, 3.15414421e-04, 1.97705813e-03,\n",
              "         2.44286638e-02, 2.77279615e-01, 4.03565705e-01, 1.83151662e-01,\n",
              "         5.75420335e-02, 1.90637950e-02, 8.83014873e-03, 5.65523142e-03,\n",
              "         4.07288456e-03, 3.06159444e-03, 2.46394030e-03, 2.09874078e-03,\n",
              "         1.83143083e-03, 1.63267669e-03, 1.51203049e-03, 1.46221614e-03],\n",
              "        [0.00000000e+00, 0.00000000e+00, 0.00000000e+00, 0.00000000e+00,\n",
              "         0.00000000e+00, 0.00000000e+00, 0.00000000e+00, 0.00000000e+00,\n",
              "         0.00000000e+00, 0.00000000e+00, 0.00000000e+00, 0.00000000e+00,\n",
              "         0.00000000e+00, 0.00000000e+00, 0.00000000e+00, 0.00000000e+00,\n",
              "         0.00000000e+00, 0.00000000e+00, 0.00000000e+00, 0.00000000e+00],\n",
              "        [0.00000000e+00, 0.00000000e+00, 0.00000000e+00, 0.00000000e+00,\n",
              "         0.00000000e+00, 0.00000000e+00, 0.00000000e+00, 0.00000000e+00,\n",
              "         0.00000000e+00, 0.00000000e+00, 0.00000000e+00, 0.00000000e+00,\n",
              "         0.00000000e+00, 0.00000000e+00, 0.00000000e+00, 0.00000000e+00,\n",
              "         0.00000000e+00, 0.00000000e+00, 0.00000000e+00, 0.00000000e+00],\n",
              "        [0.00000000e+00, 0.00000000e+00, 0.00000000e+00, 0.00000000e+00,\n",
              "         0.00000000e+00, 0.00000000e+00, 0.00000000e+00, 0.00000000e+00,\n",
              "         0.00000000e+00, 0.00000000e+00, 0.00000000e+00, 0.00000000e+00,\n",
              "         0.00000000e+00, 0.00000000e+00, 0.00000000e+00, 0.00000000e+00,\n",
              "         0.00000000e+00, 0.00000000e+00, 0.00000000e+00, 0.00000000e+00],\n",
              "        [0.00000000e+00, 0.00000000e+00, 0.00000000e+00, 0.00000000e+00,\n",
              "         0.00000000e+00, 0.00000000e+00, 0.00000000e+00, 0.00000000e+00,\n",
              "         0.00000000e+00, 0.00000000e+00, 0.00000000e+00, 0.00000000e+00,\n",
              "         0.00000000e+00, 0.00000000e+00, 0.00000000e+00, 0.00000000e+00,\n",
              "         0.00000000e+00, 0.00000000e+00, 0.00000000e+00, 0.00000000e+00],\n",
              "        [0.00000000e+00, 0.00000000e+00, 0.00000000e+00, 0.00000000e+00,\n",
              "         0.00000000e+00, 0.00000000e+00, 0.00000000e+00, 0.00000000e+00,\n",
              "         0.00000000e+00, 0.00000000e+00, 0.00000000e+00, 0.00000000e+00,\n",
              "         0.00000000e+00, 0.00000000e+00, 0.00000000e+00, 0.00000000e+00,\n",
              "         0.00000000e+00, 0.00000000e+00, 0.00000000e+00, 0.00000000e+00],\n",
              "        [0.00000000e+00, 0.00000000e+00, 0.00000000e+00, 0.00000000e+00,\n",
              "         0.00000000e+00, 0.00000000e+00, 0.00000000e+00, 0.00000000e+00,\n",
              "         0.00000000e+00, 0.00000000e+00, 0.00000000e+00, 0.00000000e+00,\n",
              "         0.00000000e+00, 0.00000000e+00, 0.00000000e+00, 0.00000000e+00,\n",
              "         0.00000000e+00, 0.00000000e+00, 0.00000000e+00, 0.00000000e+00],\n",
              "        [0.00000000e+00, 0.00000000e+00, 0.00000000e+00, 0.00000000e+00,\n",
              "         0.00000000e+00, 0.00000000e+00, 0.00000000e+00, 0.00000000e+00,\n",
              "         0.00000000e+00, 0.00000000e+00, 0.00000000e+00, 0.00000000e+00,\n",
              "         0.00000000e+00, 0.00000000e+00, 0.00000000e+00, 0.00000000e+00,\n",
              "         0.00000000e+00, 0.00000000e+00, 0.00000000e+00, 0.00000000e+00],\n",
              "        [0.00000000e+00, 0.00000000e+00, 0.00000000e+00, 0.00000000e+00,\n",
              "         0.00000000e+00, 0.00000000e+00, 0.00000000e+00, 0.00000000e+00,\n",
              "         0.00000000e+00, 0.00000000e+00, 0.00000000e+00, 0.00000000e+00,\n",
              "         0.00000000e+00, 0.00000000e+00, 0.00000000e+00, 0.00000000e+00,\n",
              "         0.00000000e+00, 0.00000000e+00, 0.00000000e+00, 0.00000000e+00],\n",
              "        [0.00000000e+00, 0.00000000e+00, 0.00000000e+00, 0.00000000e+00,\n",
              "         0.00000000e+00, 0.00000000e+00, 0.00000000e+00, 0.00000000e+00,\n",
              "         0.00000000e+00, 0.00000000e+00, 0.00000000e+00, 0.00000000e+00,\n",
              "         0.00000000e+00, 0.00000000e+00, 0.00000000e+00, 0.00000000e+00,\n",
              "         0.00000000e+00, 0.00000000e+00, 0.00000000e+00, 0.00000000e+00],\n",
              "        [0.00000000e+00, 0.00000000e+00, 0.00000000e+00, 0.00000000e+00,\n",
              "         0.00000000e+00, 0.00000000e+00, 0.00000000e+00, 0.00000000e+00,\n",
              "         0.00000000e+00, 0.00000000e+00, 0.00000000e+00, 0.00000000e+00,\n",
              "         0.00000000e+00, 0.00000000e+00, 0.00000000e+00, 0.00000000e+00,\n",
              "         0.00000000e+00, 0.00000000e+00, 0.00000000e+00, 0.00000000e+00],\n",
              "        [0.00000000e+00, 0.00000000e+00, 0.00000000e+00, 0.00000000e+00,\n",
              "         0.00000000e+00, 0.00000000e+00, 0.00000000e+00, 0.00000000e+00,\n",
              "         0.00000000e+00, 0.00000000e+00, 0.00000000e+00, 0.00000000e+00,\n",
              "         0.00000000e+00, 0.00000000e+00, 0.00000000e+00, 0.00000000e+00,\n",
              "         0.00000000e+00, 0.00000000e+00, 0.00000000e+00, 0.00000000e+00],\n",
              "        [0.00000000e+00, 0.00000000e+00, 0.00000000e+00, 0.00000000e+00,\n",
              "         0.00000000e+00, 0.00000000e+00, 0.00000000e+00, 0.00000000e+00,\n",
              "         0.00000000e+00, 0.00000000e+00, 0.00000000e+00, 0.00000000e+00,\n",
              "         0.00000000e+00, 0.00000000e+00, 0.00000000e+00, 0.00000000e+00,\n",
              "         0.00000000e+00, 0.00000000e+00, 0.00000000e+00, 0.00000000e+00],\n",
              "        [0.00000000e+00, 0.00000000e+00, 0.00000000e+00, 0.00000000e+00,\n",
              "         0.00000000e+00, 0.00000000e+00, 0.00000000e+00, 0.00000000e+00,\n",
              "         0.00000000e+00, 0.00000000e+00, 0.00000000e+00, 0.00000000e+00,\n",
              "         0.00000000e+00, 0.00000000e+00, 0.00000000e+00, 0.00000000e+00,\n",
              "         0.00000000e+00, 0.00000000e+00, 0.00000000e+00, 0.00000000e+00],\n",
              "        [0.00000000e+00, 0.00000000e+00, 0.00000000e+00, 0.00000000e+00,\n",
              "         0.00000000e+00, 0.00000000e+00, 0.00000000e+00, 0.00000000e+00,\n",
              "         0.00000000e+00, 0.00000000e+00, 0.00000000e+00, 0.00000000e+00,\n",
              "         0.00000000e+00, 0.00000000e+00, 0.00000000e+00, 0.00000000e+00,\n",
              "         0.00000000e+00, 0.00000000e+00, 0.00000000e+00, 0.00000000e+00],\n",
              "        [0.00000000e+00, 0.00000000e+00, 0.00000000e+00, 0.00000000e+00,\n",
              "         0.00000000e+00, 0.00000000e+00, 0.00000000e+00, 0.00000000e+00,\n",
              "         0.00000000e+00, 0.00000000e+00, 0.00000000e+00, 0.00000000e+00,\n",
              "         0.00000000e+00, 0.00000000e+00, 0.00000000e+00, 0.00000000e+00,\n",
              "         0.00000000e+00, 0.00000000e+00, 0.00000000e+00, 0.00000000e+00]]))"
            ]
          },
          "metadata": {
            "tags": []
          },
          "execution_count": 208
        }
      ]
    },
    {
      "cell_type": "markdown",
      "metadata": {
        "id": "6DpC9zlzMcXp"
      },
      "source": [
        "## <font color='blue'>**Inference**</font>"
      ]
    },
    {
      "cell_type": "code",
      "metadata": {
        "id": "PKnOvfaJk1er"
      },
      "source": [
        "import matplotlib\r\n",
        "import matplotlib.pyplot as plt\r\n",
        "import matplotlib.ticker as ticker\r\n",
        "import matplotlib.dates as mdates\r\n",
        "import numpy as np"
      ],
      "execution_count": null,
      "outputs": []
    },
    {
      "cell_type": "markdown",
      "metadata": {
        "id": "Z5NhESYyMW_t"
      },
      "source": [
        "<font color='blue'>**Plot attention weights**</font>"
      ]
    },
    {
      "cell_type": "code",
      "metadata": {
        "id": "pkEY7SsBMtrC"
      },
      "source": [
        "#def plot_attention(#params):\n",
        "  # function for plotting the attention weights\n",
        "def plot_attention(attention, sentence, predicted_sentence):\n",
        "  fig = plt.figure(figsize=(10,10))\n",
        "  ax = fig.add_subplot(1, 1, 1)\n",
        "  ax.matshow(attention, cmap='viridis')\n",
        "\n",
        "  fontdict = {'fontsize': 10}\n",
        "\n",
        "  ax.set_xticklabels([''] + sentence, fontdict=fontdict, rotation=90)\n",
        "  ax.set_yticklabels([''] + predicted_sentence, fontdict=fontdict)\n",
        "\n",
        "  ax.xaxis.set_major_locator(ticker.MultipleLocator(1))\n",
        "  ax.yaxis.set_major_locator(ticker.MultipleLocator(1))\n",
        "\n",
        "  plt.show()\n",
        "  #Refer: https://www.tensorflow.org/tutorials/text/nmt_with_attention#translate\n"
      ],
      "execution_count": null,
      "outputs": []
    },
    {
      "cell_type": "code",
      "metadata": {
        "id": "c0GsAN2iNgcd"
      },
      "source": [
        "def translate(sentence):\r\n",
        "  result, sentence, attention_plot = evaluate(sentence)\r\n",
        "\r\n",
        "  print('Input: %s' % (sentence))\r\n",
        "  print('Predicted translation: {}'.format(result))\r\n",
        "\r\n",
        "  attention_plot = attention_plot[:len(result.split(' ')), :len(sentence.split(' '))]\r\n",
        "  plot_attention(attention_plot, sentence.split(' '), result.split(' '))"
      ],
      "execution_count": null,
      "outputs": []
    },
    {
      "cell_type": "code",
      "metadata": {
        "colab": {
          "base_uri": "https://localhost:8080/",
          "height": 335
        },
        "id": "ftc8T2SA5ruQ",
        "outputId": "d70dc929-497f-4f57-dac8-245cc61cc056"
      },
      "source": [
        "validation.head(10)"
      ],
      "execution_count": null,
      "outputs": [
        {
          "output_type": "execute_result",
          "data": {
            "text/html": [
              "<div>\n",
              "<style scoped>\n",
              "    .dataframe tbody tr th:only-of-type {\n",
              "        vertical-align: middle;\n",
              "    }\n",
              "\n",
              "    .dataframe tbody tr th {\n",
              "        vertical-align: top;\n",
              "    }\n",
              "\n",
              "    .dataframe thead th {\n",
              "        text-align: right;\n",
              "    }\n",
              "</style>\n",
              "<table border=\"1\" class=\"dataframe\">\n",
              "  <thead>\n",
              "    <tr style=\"text-align: right;\">\n",
              "      <th></th>\n",
              "      <th>italian</th>\n",
              "      <th>english_inp</th>\n",
              "      <th>english_out</th>\n",
              "    </tr>\n",
              "  </thead>\n",
              "  <tbody>\n",
              "    <tr>\n",
              "      <th>175960</th>\n",
              "      <td>non mi dica di calmarmi</td>\n",
              "      <td>&lt;start&gt; do not tell me to calm down</td>\n",
              "      <td>do not tell me to calm down &lt;end&gt;</td>\n",
              "    </tr>\n",
              "    <tr>\n",
              "      <th>21951</th>\n",
              "      <td>tom è assente</td>\n",
              "      <td>&lt;start&gt; tom is missing</td>\n",
              "      <td>tom is missing &lt;end&gt;</td>\n",
              "    </tr>\n",
              "    <tr>\n",
              "      <th>167591</th>\n",
              "      <td>suonare la chitarra è divertente</td>\n",
              "      <td>&lt;start&gt; playing the guitar is fun</td>\n",
              "      <td>playing the guitar is fun &lt;end&gt;</td>\n",
              "    </tr>\n",
              "    <tr>\n",
              "      <th>207461</th>\n",
              "      <td>ha rifiutato il loro invito</td>\n",
              "      <td>&lt;start&gt; he declined their invitation</td>\n",
              "      <td>he declined their invitation &lt;end&gt;</td>\n",
              "    </tr>\n",
              "    <tr>\n",
              "      <th>238600</th>\n",
              "      <td>non lascerei che ti disturbasse</td>\n",
              "      <td>&lt;start&gt; i would not let that bother you</td>\n",
              "      <td>i would not let that bother you &lt;end&gt;</td>\n",
              "    </tr>\n",
              "    <tr>\n",
              "      <th>54393</th>\n",
              "      <td>cosa dovrei dire</td>\n",
              "      <td>&lt;start&gt; what should i say</td>\n",
              "      <td>what should i say &lt;end&gt;</td>\n",
              "    </tr>\n",
              "    <tr>\n",
              "      <th>12223</th>\n",
              "      <td>lui quanti anni ha</td>\n",
              "      <td>&lt;start&gt; how old is he</td>\n",
              "      <td>how old is he &lt;end&gt;</td>\n",
              "    </tr>\n",
              "    <tr>\n",
              "      <th>286404</th>\n",
              "      <td>voi sapete altro su tom</td>\n",
              "      <td>&lt;start&gt; do you know anything else about tom</td>\n",
              "      <td>do you know anything else about tom &lt;end&gt;</td>\n",
              "    </tr>\n",
              "    <tr>\n",
              "      <th>331246</th>\n",
              "      <td>grazie mille per la sua ospitalità oggi</td>\n",
              "      <td>&lt;start&gt; thank you very much for your hospitali...</td>\n",
              "      <td>thank you very much for your hospitality today...</td>\n",
              "    </tr>\n",
              "    <tr>\n",
              "      <th>63312</th>\n",
              "      <td>parli per lei</td>\n",
              "      <td>&lt;start&gt; speak for yourself</td>\n",
              "      <td>speak for yourself &lt;end&gt;</td>\n",
              "    </tr>\n",
              "  </tbody>\n",
              "</table>\n",
              "</div>"
            ],
            "text/plain": [
              "                                        italian  ...                                        english_out\n",
              "175960                  non mi dica di calmarmi  ...                  do not tell me to calm down <end>\n",
              "21951                             tom è assente  ...                               tom is missing <end>\n",
              "167591         suonare la chitarra è divertente  ...                    playing the guitar is fun <end>\n",
              "207461              ha rifiutato il loro invito  ...                 he declined their invitation <end>\n",
              "238600          non lascerei che ti disturbasse  ...              i would not let that bother you <end>\n",
              "54393                          cosa dovrei dire  ...                            what should i say <end>\n",
              "12223                        lui quanti anni ha  ...                                how old is he <end>\n",
              "286404                  voi sapete altro su tom  ...          do you know anything else about tom <end>\n",
              "331246  grazie mille per la sua ospitalità oggi  ...  thank you very much for your hospitality today...\n",
              "63312                             parli per lei  ...                           speak for yourself <end>\n",
              "\n",
              "[10 rows x 3 columns]"
            ]
          },
          "metadata": {
            "tags": []
          },
          "execution_count": 236
        }
      ]
    },
    {
      "cell_type": "code",
      "metadata": {
        "colab": {
          "base_uri": "https://localhost:8080/",
          "height": 207
        },
        "id": "zytWV1V3Nnr0",
        "outputId": "fcd2060d-88c1-4fb3-d5ec-a3ea38c18d18"
      },
      "source": [
        "\r\n",
        "translate(\"sarò in attesa per te\"\r\n",
        "tknizer_ita.word_index[\"sarò\"]\r\n",
        "evaluate(\"sarò in attesa per te\")"
      ],
      "execution_count": null,
      "outputs": [
        {
          "output_type": "error",
          "ename": "NameError",
          "evalue": "ignored",
          "traceback": [
            "\u001b[0;31m---------------------------------------------------------------------------\u001b[0m",
            "\u001b[0;31mNameError\u001b[0m                                 Traceback (most recent call last)",
            "\u001b[0;32m<ipython-input-2-5b2a62c14e8e>\u001b[0m in \u001b[0;36m<module>\u001b[0;34m()\u001b[0m\n\u001b[1;32m      1\u001b[0m \u001b[0;34m\u001b[0m\u001b[0m\n\u001b[1;32m      2\u001b[0m \u001b[0;31m#translate(\"sarò in attesa per te\"\u001b[0m\u001b[0;34m\u001b[0m\u001b[0;34m\u001b[0m\u001b[0;34m\u001b[0m\u001b[0m\n\u001b[0;32m----> 3\u001b[0;31m \u001b[0mtknizer_ita\u001b[0m\u001b[0;34m.\u001b[0m\u001b[0mword_index\u001b[0m\u001b[0;34m[\u001b[0m\u001b[0;34m\"sarò\"\u001b[0m\u001b[0;34m]\u001b[0m\u001b[0;34m\u001b[0m\u001b[0;34m\u001b[0m\u001b[0m\n\u001b[0m\u001b[1;32m      4\u001b[0m \u001b[0mevaluate\u001b[0m\u001b[0;34m(\u001b[0m\u001b[0;34m\"sarò in attesa per te\"\u001b[0m\u001b[0;34m)\u001b[0m\u001b[0;34m\u001b[0m\u001b[0;34m\u001b[0m\u001b[0m\n",
            "\u001b[0;31mNameError\u001b[0m: name 'tknizer_ita' is not defined"
          ]
        }
      ]
    },
    {
      "cell_type": "markdown",
      "metadata": {
        "id": "jmxIVOOQPWMu"
      },
      "source": [
        "<font color='blue'>**Calculate BLEU score**</font>"
      ]
    },
    {
      "cell_type": "code",
      "metadata": {
        "id": "0iHiLdROM23l",
        "colab": {
          "base_uri": "https://localhost:8080/",
          "height": 426
        },
        "outputId": "2a639f10-b54e-41b1-859e-45a3d279ab5a"
      },
      "source": [
        "#Sample example\n",
        "import nltk.translate.bleu_score as bleu\n",
        "reference = ['i am groot'.split(),] # the original\n",
        "translation = 'it is ship'.split() # trasilated using model\n",
        "print('BLEU score: {}'.format(bleu.sentence_bleu(reference, translation)))"
      ],
      "execution_count": null,
      "outputs": [
        {
          "output_type": "stream",
          "text": [
            "/usr/local/lib/python3.6/dist-packages/nltk/translate/bleu_score.py:490: UserWarning: \n",
            "Corpus/Sentence contains 0 counts of 2-gram overlaps.\n",
            "BLEU scores might be undesirable; use SmoothingFunction().\n",
            "  warnings.warn(_msg)\n"
          ],
          "name": "stderr"
        },
        {
          "output_type": "error",
          "ename": "KeyError",
          "evalue": "ignored",
          "traceback": [
            "\u001b[0;31m---------------------------------------------------------------------------\u001b[0m",
            "\u001b[0;31mKeyError\u001b[0m                                  Traceback (most recent call last)",
            "\u001b[0;32m<ipython-input-215-c17fd410ee00>\u001b[0m in \u001b[0;36m<module>\u001b[0;34m()\u001b[0m\n\u001b[1;32m      4\u001b[0m \u001b[0mscore\u001b[0m\u001b[0;34m=\u001b[0m\u001b[0;36m0\u001b[0m\u001b[0;34m\u001b[0m\u001b[0;34m\u001b[0m\u001b[0m\n\u001b[1;32m      5\u001b[0m \u001b[0;32mfor\u001b[0m \u001b[0;34m(\u001b[0m\u001b[0mi\u001b[0m\u001b[0;34m,\u001b[0m\u001b[0mj\u001b[0m\u001b[0;34m)\u001b[0m \u001b[0;32min\u001b[0m \u001b[0mzip\u001b[0m\u001b[0;34m(\u001b[0m\u001b[0mdf\u001b[0m\u001b[0;34m[\u001b[0m\u001b[0;34m\"italian\"\u001b[0m\u001b[0;34m]\u001b[0m\u001b[0;34m.\u001b[0m\u001b[0mvalues\u001b[0m\u001b[0;34m,\u001b[0m\u001b[0mdf\u001b[0m\u001b[0;34m[\u001b[0m\u001b[0;34m\"english_out\"\u001b[0m\u001b[0;34m]\u001b[0m\u001b[0;34m.\u001b[0m\u001b[0mvalues\u001b[0m\u001b[0;34m)\u001b[0m\u001b[0;34m:\u001b[0m\u001b[0;34m\u001b[0m\u001b[0;34m\u001b[0m\u001b[0m\n\u001b[0;32m----> 6\u001b[0;31m     \u001b[0mblue_score\u001b[0m\u001b[0;34m=\u001b[0m\u001b[0mbleu\u001b[0m\u001b[0;34m.\u001b[0m\u001b[0msentence_bleu\u001b[0m\u001b[0;34m(\u001b[0m\u001b[0mj\u001b[0m\u001b[0;34m.\u001b[0m\u001b[0msplit\u001b[0m\u001b[0;34m(\u001b[0m\u001b[0;34m)\u001b[0m\u001b[0;34m,\u001b[0m \u001b[0mevaluate\u001b[0m\u001b[0;34m(\u001b[0m\u001b[0mi\u001b[0m\u001b[0;34m)\u001b[0m\u001b[0;34m[\u001b[0m\u001b[0;36m0\u001b[0m\u001b[0;34m]\u001b[0m\u001b[0;34m.\u001b[0m\u001b[0msplit\u001b[0m\u001b[0;34m(\u001b[0m\u001b[0;34m)\u001b[0m\u001b[0;34m)\u001b[0m\u001b[0;34m\u001b[0m\u001b[0;34m\u001b[0m\u001b[0m\n\u001b[0m\u001b[1;32m      7\u001b[0m     \u001b[0mscore\u001b[0m\u001b[0;34m=\u001b[0m\u001b[0mscore\u001b[0m\u001b[0;34m+\u001b[0m\u001b[0mblue_score\u001b[0m\u001b[0;34m\u001b[0m\u001b[0;34m\u001b[0m\u001b[0m\n\u001b[1;32m      8\u001b[0m \u001b[0;34m\u001b[0m\u001b[0m\n",
            "\u001b[0;32m<ipython-input-206-3e052a48ef26>\u001b[0m in \u001b[0;36mevaluate\u001b[0;34m(sentence)\u001b[0m\n\u001b[1;32m      7\u001b[0m   \u001b[0msentence\u001b[0m\u001b[0;34m=\u001b[0m\u001b[0mdecontractions\u001b[0m\u001b[0;34m(\u001b[0m\u001b[0msentence\u001b[0m\u001b[0;34m)\u001b[0m\u001b[0;34m\u001b[0m\u001b[0;34m\u001b[0m\u001b[0m\n\u001b[1;32m      8\u001b[0m \u001b[0;34m\u001b[0m\u001b[0m\n\u001b[0;32m----> 9\u001b[0;31m   \u001b[0minputs\u001b[0m \u001b[0;34m=\u001b[0m \u001b[0;34m[\u001b[0m\u001b[0mtknizer_ita\u001b[0m\u001b[0;34m.\u001b[0m\u001b[0mword_index\u001b[0m\u001b[0;34m[\u001b[0m\u001b[0mi\u001b[0m\u001b[0;34m]\u001b[0m \u001b[0;32mfor\u001b[0m \u001b[0mi\u001b[0m \u001b[0;32min\u001b[0m \u001b[0msentence\u001b[0m\u001b[0;34m.\u001b[0m\u001b[0msplit\u001b[0m\u001b[0;34m(\u001b[0m\u001b[0;34m)\u001b[0m\u001b[0;34m]\u001b[0m\u001b[0;34m\u001b[0m\u001b[0;34m\u001b[0m\u001b[0m\n\u001b[0m\u001b[1;32m     10\u001b[0m   inputs = tf.keras.preprocessing.sequence.pad_sequences([inputs],\n\u001b[1;32m     11\u001b[0m                                                          \u001b[0mmaxlen\u001b[0m\u001b[0;34m=\u001b[0m\u001b[0;36m20\u001b[0m\u001b[0;34m,\u001b[0m\u001b[0;34m\u001b[0m\u001b[0;34m\u001b[0m\u001b[0m\n",
            "\u001b[0;32m<ipython-input-206-3e052a48ef26>\u001b[0m in \u001b[0;36m<listcomp>\u001b[0;34m(.0)\u001b[0m\n\u001b[1;32m      7\u001b[0m   \u001b[0msentence\u001b[0m\u001b[0;34m=\u001b[0m\u001b[0mdecontractions\u001b[0m\u001b[0;34m(\u001b[0m\u001b[0msentence\u001b[0m\u001b[0;34m)\u001b[0m\u001b[0;34m\u001b[0m\u001b[0;34m\u001b[0m\u001b[0m\n\u001b[1;32m      8\u001b[0m \u001b[0;34m\u001b[0m\u001b[0m\n\u001b[0;32m----> 9\u001b[0;31m   \u001b[0minputs\u001b[0m \u001b[0;34m=\u001b[0m \u001b[0;34m[\u001b[0m\u001b[0mtknizer_ita\u001b[0m\u001b[0;34m.\u001b[0m\u001b[0mword_index\u001b[0m\u001b[0;34m[\u001b[0m\u001b[0mi\u001b[0m\u001b[0;34m]\u001b[0m \u001b[0;32mfor\u001b[0m \u001b[0mi\u001b[0m \u001b[0;32min\u001b[0m \u001b[0msentence\u001b[0m\u001b[0;34m.\u001b[0m\u001b[0msplit\u001b[0m\u001b[0;34m(\u001b[0m\u001b[0;34m)\u001b[0m\u001b[0;34m]\u001b[0m\u001b[0;34m\u001b[0m\u001b[0;34m\u001b[0m\u001b[0m\n\u001b[0m\u001b[1;32m     10\u001b[0m   inputs = tf.keras.preprocessing.sequence.pad_sequences([inputs],\n\u001b[1;32m     11\u001b[0m                                                          \u001b[0mmaxlen\u001b[0m\u001b[0;34m=\u001b[0m\u001b[0;36m20\u001b[0m\u001b[0;34m,\u001b[0m\u001b[0;34m\u001b[0m\u001b[0;34m\u001b[0m\u001b[0m\n",
            "\u001b[0;31mKeyError\u001b[0m: 'perch'"
          ]
        }
      ]
    },
    {
      "cell_type": "code",
      "metadata": {
        "colab": {
          "base_uri": "https://localhost:8080/",
          "height": 426
        },
        "id": "RFDHueIy4sLm",
        "outputId": "7f781b8f-7eb1-43ed-d357-80eb0197c8d7"
      },
      "source": [
        "from sklearn.utils import shuffle\r\n",
        "import nltk.translate.bleu_score as bleu\r\n",
        "df = shuffle(validation)[0:1000]\r\n",
        "score=0\r\n",
        "for (i,j) in zip(df[\"italian\"].values,df[\"english_out\"].values):\r\n",
        "    blue_score=bleu.sentence_bleu(j.split(), evaluate(i)[0].split())\r\n",
        "    score=score+blue_score\r\n",
        "    \r\n",
        "score/1000"
      ],
      "execution_count": null,
      "outputs": [
        {
          "output_type": "stream",
          "text": [
            "/usr/local/lib/python3.6/dist-packages/nltk/translate/bleu_score.py:490: UserWarning: \n",
            "Corpus/Sentence contains 0 counts of 2-gram overlaps.\n",
            "BLEU scores might be undesirable; use SmoothingFunction().\n",
            "  warnings.warn(_msg)\n"
          ],
          "name": "stderr"
        },
        {
          "output_type": "error",
          "ename": "KeyError",
          "evalue": "ignored",
          "traceback": [
            "\u001b[0;31m---------------------------------------------------------------------------\u001b[0m",
            "\u001b[0;31mKeyError\u001b[0m                                  Traceback (most recent call last)",
            "\u001b[0;32m<ipython-input-216-c17fd410ee00>\u001b[0m in \u001b[0;36m<module>\u001b[0;34m()\u001b[0m\n\u001b[1;32m      4\u001b[0m \u001b[0mscore\u001b[0m\u001b[0;34m=\u001b[0m\u001b[0;36m0\u001b[0m\u001b[0;34m\u001b[0m\u001b[0;34m\u001b[0m\u001b[0m\n\u001b[1;32m      5\u001b[0m \u001b[0;32mfor\u001b[0m \u001b[0;34m(\u001b[0m\u001b[0mi\u001b[0m\u001b[0;34m,\u001b[0m\u001b[0mj\u001b[0m\u001b[0;34m)\u001b[0m \u001b[0;32min\u001b[0m \u001b[0mzip\u001b[0m\u001b[0;34m(\u001b[0m\u001b[0mdf\u001b[0m\u001b[0;34m[\u001b[0m\u001b[0;34m\"italian\"\u001b[0m\u001b[0;34m]\u001b[0m\u001b[0;34m.\u001b[0m\u001b[0mvalues\u001b[0m\u001b[0;34m,\u001b[0m\u001b[0mdf\u001b[0m\u001b[0;34m[\u001b[0m\u001b[0;34m\"english_out\"\u001b[0m\u001b[0;34m]\u001b[0m\u001b[0;34m.\u001b[0m\u001b[0mvalues\u001b[0m\u001b[0;34m)\u001b[0m\u001b[0;34m:\u001b[0m\u001b[0;34m\u001b[0m\u001b[0;34m\u001b[0m\u001b[0m\n\u001b[0;32m----> 6\u001b[0;31m     \u001b[0mblue_score\u001b[0m\u001b[0;34m=\u001b[0m\u001b[0mbleu\u001b[0m\u001b[0;34m.\u001b[0m\u001b[0msentence_bleu\u001b[0m\u001b[0;34m(\u001b[0m\u001b[0mj\u001b[0m\u001b[0;34m.\u001b[0m\u001b[0msplit\u001b[0m\u001b[0;34m(\u001b[0m\u001b[0;34m)\u001b[0m\u001b[0;34m,\u001b[0m \u001b[0mevaluate\u001b[0m\u001b[0;34m(\u001b[0m\u001b[0mi\u001b[0m\u001b[0;34m)\u001b[0m\u001b[0;34m[\u001b[0m\u001b[0;36m0\u001b[0m\u001b[0;34m]\u001b[0m\u001b[0;34m.\u001b[0m\u001b[0msplit\u001b[0m\u001b[0;34m(\u001b[0m\u001b[0;34m)\u001b[0m\u001b[0;34m)\u001b[0m\u001b[0;34m\u001b[0m\u001b[0;34m\u001b[0m\u001b[0m\n\u001b[0m\u001b[1;32m      7\u001b[0m     \u001b[0mscore\u001b[0m\u001b[0;34m=\u001b[0m\u001b[0mscore\u001b[0m\u001b[0;34m+\u001b[0m\u001b[0mblue_score\u001b[0m\u001b[0;34m\u001b[0m\u001b[0;34m\u001b[0m\u001b[0m\n\u001b[1;32m      8\u001b[0m \u001b[0;34m\u001b[0m\u001b[0m\n",
            "\u001b[0;32m<ipython-input-206-3e052a48ef26>\u001b[0m in \u001b[0;36mevaluate\u001b[0;34m(sentence)\u001b[0m\n\u001b[1;32m      7\u001b[0m   \u001b[0msentence\u001b[0m\u001b[0;34m=\u001b[0m\u001b[0mdecontractions\u001b[0m\u001b[0;34m(\u001b[0m\u001b[0msentence\u001b[0m\u001b[0;34m)\u001b[0m\u001b[0;34m\u001b[0m\u001b[0;34m\u001b[0m\u001b[0m\n\u001b[1;32m      8\u001b[0m \u001b[0;34m\u001b[0m\u001b[0m\n\u001b[0;32m----> 9\u001b[0;31m   \u001b[0minputs\u001b[0m \u001b[0;34m=\u001b[0m \u001b[0;34m[\u001b[0m\u001b[0mtknizer_ita\u001b[0m\u001b[0;34m.\u001b[0m\u001b[0mword_index\u001b[0m\u001b[0;34m[\u001b[0m\u001b[0mi\u001b[0m\u001b[0;34m]\u001b[0m \u001b[0;32mfor\u001b[0m \u001b[0mi\u001b[0m \u001b[0;32min\u001b[0m \u001b[0msentence\u001b[0m\u001b[0;34m.\u001b[0m\u001b[0msplit\u001b[0m\u001b[0;34m(\u001b[0m\u001b[0;34m)\u001b[0m\u001b[0;34m]\u001b[0m\u001b[0;34m\u001b[0m\u001b[0;34m\u001b[0m\u001b[0m\n\u001b[0m\u001b[1;32m     10\u001b[0m   inputs = tf.keras.preprocessing.sequence.pad_sequences([inputs],\n\u001b[1;32m     11\u001b[0m                                                          \u001b[0mmaxlen\u001b[0m\u001b[0;34m=\u001b[0m\u001b[0;36m20\u001b[0m\u001b[0;34m,\u001b[0m\u001b[0;34m\u001b[0m\u001b[0;34m\u001b[0m\u001b[0m\n",
            "\u001b[0;32m<ipython-input-206-3e052a48ef26>\u001b[0m in \u001b[0;36m<listcomp>\u001b[0;34m(.0)\u001b[0m\n\u001b[1;32m      7\u001b[0m   \u001b[0msentence\u001b[0m\u001b[0;34m=\u001b[0m\u001b[0mdecontractions\u001b[0m\u001b[0;34m(\u001b[0m\u001b[0msentence\u001b[0m\u001b[0;34m)\u001b[0m\u001b[0;34m\u001b[0m\u001b[0;34m\u001b[0m\u001b[0m\n\u001b[1;32m      8\u001b[0m \u001b[0;34m\u001b[0m\u001b[0m\n\u001b[0;32m----> 9\u001b[0;31m   \u001b[0minputs\u001b[0m \u001b[0;34m=\u001b[0m \u001b[0;34m[\u001b[0m\u001b[0mtknizer_ita\u001b[0m\u001b[0;34m.\u001b[0m\u001b[0mword_index\u001b[0m\u001b[0;34m[\u001b[0m\u001b[0mi\u001b[0m\u001b[0;34m]\u001b[0m \u001b[0;32mfor\u001b[0m \u001b[0mi\u001b[0m \u001b[0;32min\u001b[0m \u001b[0msentence\u001b[0m\u001b[0;34m.\u001b[0m\u001b[0msplit\u001b[0m\u001b[0;34m(\u001b[0m\u001b[0;34m)\u001b[0m\u001b[0;34m]\u001b[0m\u001b[0;34m\u001b[0m\u001b[0;34m\u001b[0m\u001b[0m\n\u001b[0m\u001b[1;32m     10\u001b[0m   inputs = tf.keras.preprocessing.sequence.pad_sequences([inputs],\n\u001b[1;32m     11\u001b[0m                                                          \u001b[0mmaxlen\u001b[0m\u001b[0;34m=\u001b[0m\u001b[0;36m20\u001b[0m\u001b[0;34m,\u001b[0m\u001b[0;34m\u001b[0m\u001b[0;34m\u001b[0m\u001b[0m\n",
            "\u001b[0;31mKeyError\u001b[0m: 'compr'"
          ]
        }
      ]
    },
    {
      "cell_type": "code",
      "metadata": {
        "id": "4MyjsbOMoUnn"
      },
      "source": [
        ""
      ],
      "execution_count": null,
      "outputs": []
    }
  ]
}